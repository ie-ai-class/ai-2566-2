{
 "cells": [
  {
   "cell_type": "markdown",
   "metadata": {},
   "source": [
    "# Iris dataset\n",
    "\n",
    "2 attributes\n",
    "\n",
    "`pip install tensorflow`\n"
   ]
  },
  {
   "cell_type": "code",
   "execution_count": 16,
   "metadata": {},
   "outputs": [],
   "source": [
    "import tensorflow as tf\n",
    "from sklearn import datasets\n",
    "from sklearn.model_selection import train_test_split\n",
    "from sklearn.preprocessing import StandardScaler\n",
    "import matplotlib.pyplot as plt\n",
    "import numpy as np\n",
    "import pandas as pd"
   ]
  },
  {
   "cell_type": "code",
   "execution_count": 17,
   "metadata": {},
   "outputs": [
    {
     "name": "stdout",
     "output_type": "stream",
     "text": [
      "TensorFlow version: 2.12.1\n"
     ]
    }
   ],
   "source": [
    "# Check TensorFlow version\n",
    "print(\"TensorFlow version:\", tf.__version__)"
   ]
  },
  {
   "cell_type": "code",
   "execution_count": 18,
   "metadata": {},
   "outputs": [],
   "source": [
    "# Read data\n",
    "iris = datasets.load_iris()\n",
    "\n",
    "# Create a DataFrame\n",
    "df = pd.DataFrame(data=iris.data, columns=iris.feature_names)\n",
    "df[\"target\"] = iris.target"
   ]
  },
  {
   "cell_type": "code",
   "execution_count": 19,
   "metadata": {},
   "outputs": [
    {
     "name": "stdout",
     "output_type": "stream",
     "text": [
      "[0 0 0 0 0 0 0 0 0 0 0 0 0 0 0 0 0 0 0 0 0 0 0 0 0 0 0 0 0 0 0 0 0 0 0 0 0\n",
      " 0 0 0 0 0 0 0 0 0 0 0 0 0 1 1 1 1 1 1 1 1 1 1 1 1 1 1 1 1 1 1 1 1 1 1 1 1\n",
      " 1 1 1 1 1 1 1 1 1 1 1 1 1 1 1 1 1 1 1 1 1 1 1 1 1 1 2 2 2 2 2 2 2 2 2 2 2\n",
      " 2 2 2 2 2 2 2 2 2 2 2 2 2 2 2 2 2 2 2 2 2 2 2 2 2 2 2 2 2 2 2 2 2 2 2 2 2\n",
      " 2 2]\n",
      "[2 1 0 2 0 2 0 1 1 1 2 1 1 1 1 0 1 1 0 0 2 1 0 0 2 0 0 1 1 0 2 1 0 2 2 1 0\n",
      " 1 1 1 2 0 2 0 0 1 2 2 2 2 1 2 1 1 2 2 2 2 1 2 1 0 2 1 1 1 1 2 0 0 2 1 0 0\n",
      " 1 0 2 1 0 1 2 1 0 2 2 2 2 0 0 2 2 0 2 0 2 2 0 0 2 0 0 0 1 2 2 0 0 0 1 1 0\n",
      " 0 1 0 2 1 2 1 0 2 0 2 0 0 2 0 2 1 1 1 2 2 1 1 0 1 2 2 0 1 1 1 1 0 0 0 2 1\n",
      " 2 0]\n"
     ]
    }
   ],
   "source": [
    "# Shuffle the DataFrame (frac=1 means all rows)\n",
    "# This is because the validatio split is done by taking the last % of the data. \n",
    "# If the data is not shuffled, the validation set will contain only the last class\n",
    "print(df[\"target\"].values)\n",
    "df = df.sample(frac=1, random_state=0)\n",
    "print(df.target.values)"
   ]
  },
  {
   "cell_type": "code",
   "execution_count": 20,
   "metadata": {},
   "outputs": [],
   "source": [
    "# 2 Attributes\n",
    "X = df.iloc[:, 2:4].values\n",
    "y = df[\"target\"].values\n",
    "\n",
    "\n",
    "# Split data into training and testing data\n",
    "X_train, X_test, y_train, y_test = train_test_split(\n",
    "    X, y, test_size=0.3, random_state=1, stratify=y\n",
    ")\n",
    "\n",
    "# Standardization\n",
    "sc = StandardScaler()\n",
    "sc.fit(X_train)\n",
    "X_train_std = sc.transform(X_train)\n",
    "X_test_std = sc.transform(X_test)"
   ]
  },
  {
   "cell_type": "markdown",
   "metadata": {},
   "source": [
    "## Model building\n"
   ]
  },
  {
   "cell_type": "code",
   "execution_count": 21,
   "metadata": {},
   "outputs": [
    {
     "name": "stdout",
     "output_type": "stream",
     "text": [
      "Model: \"sequential\"\n",
      "_________________________________________________________________\n",
      " Layer (type)                Output Shape              Param #   \n",
      "=================================================================\n",
      " hidden1 (Dense)             (None, 16)                48        \n",
      "                                                                 \n",
      " output (Dense)              (None, 3)                 51        \n",
      "                                                                 \n",
      "=================================================================\n",
      "Total params: 99\n",
      "Trainable params: 99\n",
      "Non-trainable params: 0\n",
      "_________________________________________________________________\n"
     ]
    }
   ],
   "source": [
    "tf.keras.backend.clear_session()\n",
    "\n",
    "model = tf.keras.Sequential(\n",
    "    [\n",
    "        tf.keras.layers.InputLayer(input_shape=(2,)),\n",
    "        tf.keras.layers.Dense(units=16, activation=\"sigmoid\", name=\"hidden1\"),\n",
    "        tf.keras.layers.Dense(units=3, activation=\"softmax\", name=\"output\"),\n",
    "    ]\n",
    ")\n",
    "\n",
    "model.summary()\n",
    "\n",
    "adam = tf.keras.optimizers.Adam(learning_rate=0.001)\n",
    "\n",
    "model.compile(\n",
    "    optimizer=adam, loss=\"sparse_categorical_crossentropy\", metrics=[\"accuracy\"]\n",
    ")"
   ]
  },
  {
   "cell_type": "markdown",
   "metadata": {},
   "source": [
    "# Model training\n"
   ]
  },
  {
   "cell_type": "code",
   "execution_count": 22,
   "metadata": {},
   "outputs": [
    {
     "name": "stdout",
     "output_type": "stream",
     "text": [
      "Epoch 1/200\n"
     ]
    },
    {
     "name": "stdout",
     "output_type": "stream",
     "text": [
      "6/6 [==============================] - 1s 32ms/step - loss: 1.1548 - accuracy: 0.3452 - val_loss: 1.1888 - val_accuracy: 0.2857\n",
      "Epoch 2/200\n",
      "6/6 [==============================] - 0s 6ms/step - loss: 1.1353 - accuracy: 0.3452 - val_loss: 1.1727 - val_accuracy: 0.2857\n",
      "Epoch 3/200\n",
      "6/6 [==============================] - 0s 6ms/step - loss: 1.1156 - accuracy: 0.3452 - val_loss: 1.1535 - val_accuracy: 0.2857\n",
      "Epoch 4/200\n",
      "6/6 [==============================] - 0s 6ms/step - loss: 1.0971 - accuracy: 0.3690 - val_loss: 1.1345 - val_accuracy: 0.2857\n",
      "Epoch 5/200\n",
      "6/6 [==============================] - 0s 6ms/step - loss: 1.0812 - accuracy: 0.4048 - val_loss: 1.1174 - val_accuracy: 0.3810\n",
      "Epoch 6/200\n",
      "6/6 [==============================] - 0s 6ms/step - loss: 1.0649 - accuracy: 0.4643 - val_loss: 1.1016 - val_accuracy: 0.4762\n",
      "Epoch 7/200\n",
      "6/6 [==============================] - 0s 6ms/step - loss: 1.0509 - accuracy: 0.5357 - val_loss: 1.0860 - val_accuracy: 0.4762\n",
      "Epoch 8/200\n",
      "6/6 [==============================] - 0s 6ms/step - loss: 1.0386 - accuracy: 0.6071 - val_loss: 1.0726 - val_accuracy: 0.4762\n",
      "Epoch 9/200\n",
      "6/6 [==============================] - 0s 6ms/step - loss: 1.0283 - accuracy: 0.6548 - val_loss: 1.0607 - val_accuracy: 0.4286\n",
      "Epoch 10/200\n",
      "6/6 [==============================] - 0s 7ms/step - loss: 1.0168 - accuracy: 0.6667 - val_loss: 1.0517 - val_accuracy: 0.4286\n",
      "Epoch 11/200\n",
      "6/6 [==============================] - 0s 6ms/step - loss: 1.0079 - accuracy: 0.6667 - val_loss: 1.0410 - val_accuracy: 0.4762\n",
      "Epoch 12/200\n",
      "6/6 [==============================] - 0s 6ms/step - loss: 0.9990 - accuracy: 0.6548 - val_loss: 1.0291 - val_accuracy: 0.4762\n",
      "Epoch 13/200\n",
      "6/6 [==============================] - 0s 6ms/step - loss: 0.9907 - accuracy: 0.6667 - val_loss: 1.0177 - val_accuracy: 0.4286\n",
      "Epoch 14/200\n",
      "6/6 [==============================] - 0s 6ms/step - loss: 0.9830 - accuracy: 0.6429 - val_loss: 1.0090 - val_accuracy: 0.4286\n",
      "Epoch 15/200\n",
      "6/6 [==============================] - 0s 6ms/step - loss: 0.9735 - accuracy: 0.5833 - val_loss: 1.0009 - val_accuracy: 0.4286\n",
      "Epoch 16/200\n",
      "6/6 [==============================] - 0s 6ms/step - loss: 0.9653 - accuracy: 0.5714 - val_loss: 0.9899 - val_accuracy: 0.3810\n",
      "Epoch 17/200\n",
      "6/6 [==============================] - 0s 6ms/step - loss: 0.9578 - accuracy: 0.5595 - val_loss: 0.9781 - val_accuracy: 0.3333\n",
      "Epoch 18/200\n",
      "6/6 [==============================] - 0s 6ms/step - loss: 0.9503 - accuracy: 0.5357 - val_loss: 0.9668 - val_accuracy: 0.3333\n",
      "Epoch 19/200\n",
      "6/6 [==============================] - 0s 6ms/step - loss: 0.9423 - accuracy: 0.5000 - val_loss: 0.9587 - val_accuracy: 0.3333\n",
      "Epoch 20/200\n",
      "6/6 [==============================] - 0s 7ms/step - loss: 0.9350 - accuracy: 0.4762 - val_loss: 0.9499 - val_accuracy: 0.3333\n",
      "Epoch 21/200\n",
      "6/6 [==============================] - 0s 6ms/step - loss: 0.9277 - accuracy: 0.4405 - val_loss: 0.9396 - val_accuracy: 0.3333\n",
      "Epoch 22/200\n",
      "6/6 [==============================] - 0s 6ms/step - loss: 0.9213 - accuracy: 0.4405 - val_loss: 0.9296 - val_accuracy: 0.3333\n",
      "Epoch 23/200\n",
      "6/6 [==============================] - 0s 6ms/step - loss: 0.9144 - accuracy: 0.4167 - val_loss: 0.9229 - val_accuracy: 0.3333\n",
      "Epoch 24/200\n",
      "6/6 [==============================] - 0s 6ms/step - loss: 0.9071 - accuracy: 0.4167 - val_loss: 0.9170 - val_accuracy: 0.3333\n",
      "Epoch 25/200\n",
      "6/6 [==============================] - 0s 6ms/step - loss: 0.9007 - accuracy: 0.4286 - val_loss: 0.9118 - val_accuracy: 0.3333\n",
      "Epoch 26/200\n",
      "6/6 [==============================] - 0s 6ms/step - loss: 0.8940 - accuracy: 0.4405 - val_loss: 0.9057 - val_accuracy: 0.3333\n",
      "Epoch 27/200\n",
      "6/6 [==============================] - 0s 6ms/step - loss: 0.8873 - accuracy: 0.4405 - val_loss: 0.8987 - val_accuracy: 0.3333\n",
      "Epoch 28/200\n",
      "6/6 [==============================] - 0s 6ms/step - loss: 0.8807 - accuracy: 0.4405 - val_loss: 0.8918 - val_accuracy: 0.3333\n",
      "Epoch 29/200\n",
      "6/6 [==============================] - 0s 6ms/step - loss: 0.8740 - accuracy: 0.4762 - val_loss: 0.8835 - val_accuracy: 0.3333\n",
      "Epoch 30/200\n",
      "6/6 [==============================] - 0s 7ms/step - loss: 0.8676 - accuracy: 0.4762 - val_loss: 0.8736 - val_accuracy: 0.3333\n",
      "Epoch 31/200\n",
      "6/6 [==============================] - 0s 7ms/step - loss: 0.8607 - accuracy: 0.5476 - val_loss: 0.8657 - val_accuracy: 0.7619\n",
      "Epoch 32/200\n",
      "6/6 [==============================] - 0s 7ms/step - loss: 0.8540 - accuracy: 0.7262 - val_loss: 0.8568 - val_accuracy: 0.8095\n",
      "Epoch 33/200\n",
      "6/6 [==============================] - 0s 6ms/step - loss: 0.8479 - accuracy: 0.7381 - val_loss: 0.8486 - val_accuracy: 0.8095\n",
      "Epoch 34/200\n",
      "6/6 [==============================] - 0s 7ms/step - loss: 0.8410 - accuracy: 0.7381 - val_loss: 0.8414 - val_accuracy: 0.8095\n",
      "Epoch 35/200\n",
      "6/6 [==============================] - 0s 6ms/step - loss: 0.8345 - accuracy: 0.7381 - val_loss: 0.8328 - val_accuracy: 0.8095\n",
      "Epoch 36/200\n",
      "6/6 [==============================] - 0s 6ms/step - loss: 0.8282 - accuracy: 0.7381 - val_loss: 0.8236 - val_accuracy: 0.8095\n",
      "Epoch 37/200\n",
      "6/6 [==============================] - 0s 6ms/step - loss: 0.8214 - accuracy: 0.7381 - val_loss: 0.8153 - val_accuracy: 0.8095\n",
      "Epoch 38/200\n",
      "6/6 [==============================] - 0s 6ms/step - loss: 0.8153 - accuracy: 0.7381 - val_loss: 0.8070 - val_accuracy: 0.8095\n",
      "Epoch 39/200\n",
      "6/6 [==============================] - 0s 6ms/step - loss: 0.8087 - accuracy: 0.7500 - val_loss: 0.8012 - val_accuracy: 0.8095\n",
      "Epoch 40/200\n",
      "6/6 [==============================] - 0s 6ms/step - loss: 0.8027 - accuracy: 0.7857 - val_loss: 0.7954 - val_accuracy: 0.8095\n",
      "Epoch 41/200\n",
      "6/6 [==============================] - 0s 6ms/step - loss: 0.7966 - accuracy: 0.8095 - val_loss: 0.7905 - val_accuracy: 0.8095\n",
      "Epoch 42/200\n",
      "6/6 [==============================] - 0s 6ms/step - loss: 0.7901 - accuracy: 0.8333 - val_loss: 0.7853 - val_accuracy: 0.8095\n",
      "Epoch 43/200\n",
      "6/6 [==============================] - 0s 6ms/step - loss: 0.7844 - accuracy: 0.8333 - val_loss: 0.7799 - val_accuracy: 0.8095\n",
      "Epoch 44/200\n",
      "6/6 [==============================] - 0s 6ms/step - loss: 0.7781 - accuracy: 0.8214 - val_loss: 0.7719 - val_accuracy: 0.8095\n",
      "Epoch 45/200\n",
      "6/6 [==============================] - 0s 6ms/step - loss: 0.7719 - accuracy: 0.8095 - val_loss: 0.7645 - val_accuracy: 0.8095\n",
      "Epoch 46/200\n",
      "6/6 [==============================] - 0s 6ms/step - loss: 0.7658 - accuracy: 0.7976 - val_loss: 0.7574 - val_accuracy: 0.8095\n",
      "Epoch 47/200\n",
      "6/6 [==============================] - 0s 6ms/step - loss: 0.7598 - accuracy: 0.7976 - val_loss: 0.7497 - val_accuracy: 0.8095\n",
      "Epoch 48/200\n",
      "6/6 [==============================] - 0s 6ms/step - loss: 0.7537 - accuracy: 0.8214 - val_loss: 0.7429 - val_accuracy: 0.8095\n",
      "Epoch 49/200\n",
      "6/6 [==============================] - 0s 6ms/step - loss: 0.7477 - accuracy: 0.8333 - val_loss: 0.7359 - val_accuracy: 0.8095\n",
      "Epoch 50/200\n",
      "6/6 [==============================] - 0s 6ms/step - loss: 0.7414 - accuracy: 0.8333 - val_loss: 0.7282 - val_accuracy: 0.8095\n",
      "Epoch 51/200\n",
      "6/6 [==============================] - 0s 6ms/step - loss: 0.7357 - accuracy: 0.8333 - val_loss: 0.7214 - val_accuracy: 0.8095\n",
      "Epoch 52/200\n",
      "6/6 [==============================] - 0s 6ms/step - loss: 0.7300 - accuracy: 0.8333 - val_loss: 0.7148 - val_accuracy: 0.8095\n",
      "Epoch 53/200\n",
      "6/6 [==============================] - 0s 6ms/step - loss: 0.7243 - accuracy: 0.8452 - val_loss: 0.7091 - val_accuracy: 0.8095\n",
      "Epoch 54/200\n",
      "6/6 [==============================] - 0s 6ms/step - loss: 0.7185 - accuracy: 0.8452 - val_loss: 0.7023 - val_accuracy: 0.8095\n",
      "Epoch 55/200\n",
      "6/6 [==============================] - 0s 6ms/step - loss: 0.7131 - accuracy: 0.8452 - val_loss: 0.6958 - val_accuracy: 0.8571\n",
      "Epoch 56/200\n",
      "6/6 [==============================] - 0s 7ms/step - loss: 0.7072 - accuracy: 0.8452 - val_loss: 0.6890 - val_accuracy: 0.8571\n",
      "Epoch 57/200\n",
      "6/6 [==============================] - 0s 6ms/step - loss: 0.7014 - accuracy: 0.8452 - val_loss: 0.6827 - val_accuracy: 0.8571\n",
      "Epoch 58/200\n",
      "6/6 [==============================] - 0s 6ms/step - loss: 0.6959 - accuracy: 0.8690 - val_loss: 0.6759 - val_accuracy: 0.8571\n",
      "Epoch 59/200\n",
      "6/6 [==============================] - 0s 6ms/step - loss: 0.6906 - accuracy: 0.8690 - val_loss: 0.6700 - val_accuracy: 0.8571\n",
      "Epoch 60/200\n",
      "6/6 [==============================] - 0s 6ms/step - loss: 0.6849 - accuracy: 0.8690 - val_loss: 0.6638 - val_accuracy: 0.8571\n",
      "Epoch 61/200\n",
      "6/6 [==============================] - 0s 6ms/step - loss: 0.6795 - accuracy: 0.8690 - val_loss: 0.6576 - val_accuracy: 0.8571\n",
      "Epoch 62/200\n",
      "6/6 [==============================] - 0s 6ms/step - loss: 0.6740 - accuracy: 0.8690 - val_loss: 0.6516 - val_accuracy: 0.8571\n",
      "Epoch 63/200\n",
      "6/6 [==============================] - 0s 6ms/step - loss: 0.6691 - accuracy: 0.8690 - val_loss: 0.6446 - val_accuracy: 0.8571\n",
      "Epoch 64/200\n",
      "6/6 [==============================] - 0s 6ms/step - loss: 0.6633 - accuracy: 0.8690 - val_loss: 0.6389 - val_accuracy: 0.9048\n",
      "Epoch 65/200\n",
      "6/6 [==============================] - 0s 6ms/step - loss: 0.6581 - accuracy: 0.8690 - val_loss: 0.6323 - val_accuracy: 0.9048\n",
      "Epoch 66/200\n",
      "6/6 [==============================] - 0s 6ms/step - loss: 0.6528 - accuracy: 0.8690 - val_loss: 0.6262 - val_accuracy: 0.8571\n",
      "Epoch 67/200\n",
      "6/6 [==============================] - 0s 6ms/step - loss: 0.6475 - accuracy: 0.8690 - val_loss: 0.6200 - val_accuracy: 0.8571\n",
      "Epoch 68/200\n",
      "6/6 [==============================] - 0s 6ms/step - loss: 0.6424 - accuracy: 0.8690 - val_loss: 0.6145 - val_accuracy: 0.8571\n",
      "Epoch 69/200\n",
      "6/6 [==============================] - 0s 6ms/step - loss: 0.6372 - accuracy: 0.8690 - val_loss: 0.6089 - val_accuracy: 0.8571\n",
      "Epoch 70/200\n",
      "6/6 [==============================] - 0s 6ms/step - loss: 0.6325 - accuracy: 0.8690 - val_loss: 0.6035 - val_accuracy: 0.8571\n",
      "Epoch 71/200\n",
      "6/6 [==============================] - 0s 6ms/step - loss: 0.6274 - accuracy: 0.8690 - val_loss: 0.5980 - val_accuracy: 0.8571\n",
      "Epoch 72/200\n",
      "6/6 [==============================] - 0s 6ms/step - loss: 0.6230 - accuracy: 0.8690 - val_loss: 0.5922 - val_accuracy: 0.8571\n",
      "Epoch 73/200\n",
      "6/6 [==============================] - 0s 6ms/step - loss: 0.6179 - accuracy: 0.8690 - val_loss: 0.5866 - val_accuracy: 0.8571\n",
      "Epoch 74/200\n",
      "6/6 [==============================] - 0s 6ms/step - loss: 0.6130 - accuracy: 0.8690 - val_loss: 0.5805 - val_accuracy: 0.8571\n",
      "Epoch 75/200\n",
      "6/6 [==============================] - 0s 6ms/step - loss: 0.6083 - accuracy: 0.8690 - val_loss: 0.5751 - val_accuracy: 0.8571\n",
      "Epoch 76/200\n",
      "6/6 [==============================] - 0s 6ms/step - loss: 0.6036 - accuracy: 0.8690 - val_loss: 0.5698 - val_accuracy: 0.9048\n",
      "Epoch 77/200\n",
      "6/6 [==============================] - 0s 6ms/step - loss: 0.5990 - accuracy: 0.8690 - val_loss: 0.5652 - val_accuracy: 0.9048\n",
      "Epoch 78/200\n",
      "6/6 [==============================] - 0s 6ms/step - loss: 0.5944 - accuracy: 0.8690 - val_loss: 0.5608 - val_accuracy: 0.9048\n",
      "Epoch 79/200\n",
      "6/6 [==============================] - 0s 8ms/step - loss: 0.5899 - accuracy: 0.8810 - val_loss: 0.5566 - val_accuracy: 0.9048\n",
      "Epoch 80/200\n",
      "6/6 [==============================] - 0s 6ms/step - loss: 0.5855 - accuracy: 0.8810 - val_loss: 0.5522 - val_accuracy: 0.9048\n",
      "Epoch 81/200\n",
      "6/6 [==============================] - 0s 6ms/step - loss: 0.5814 - accuracy: 0.9405 - val_loss: 0.5481 - val_accuracy: 0.9048\n",
      "Epoch 82/200\n",
      "6/6 [==============================] - 0s 7ms/step - loss: 0.5774 - accuracy: 0.9405 - val_loss: 0.5446 - val_accuracy: 0.9048\n",
      "Epoch 83/200\n",
      "6/6 [==============================] - 0s 6ms/step - loss: 0.5731 - accuracy: 0.9405 - val_loss: 0.5403 - val_accuracy: 0.9048\n",
      "Epoch 84/200\n",
      "6/6 [==============================] - 0s 6ms/step - loss: 0.5689 - accuracy: 0.9405 - val_loss: 0.5356 - val_accuracy: 0.9048\n",
      "Epoch 85/200\n",
      "6/6 [==============================] - 0s 7ms/step - loss: 0.5645 - accuracy: 0.9405 - val_loss: 0.5301 - val_accuracy: 0.9048\n",
      "Epoch 86/200\n",
      "6/6 [==============================] - 0s 6ms/step - loss: 0.5605 - accuracy: 0.9405 - val_loss: 0.5244 - val_accuracy: 0.9048\n",
      "Epoch 87/200\n",
      "6/6 [==============================] - 0s 6ms/step - loss: 0.5562 - accuracy: 0.9405 - val_loss: 0.5196 - val_accuracy: 0.9048\n",
      "Epoch 88/200\n",
      "6/6 [==============================] - 0s 6ms/step - loss: 0.5524 - accuracy: 0.9405 - val_loss: 0.5154 - val_accuracy: 0.9048\n",
      "Epoch 89/200\n",
      "6/6 [==============================] - 0s 6ms/step - loss: 0.5483 - accuracy: 0.9405 - val_loss: 0.5115 - val_accuracy: 0.9048\n",
      "Epoch 90/200\n",
      "6/6 [==============================] - 0s 6ms/step - loss: 0.5442 - accuracy: 0.9405 - val_loss: 0.5078 - val_accuracy: 0.9048\n",
      "Epoch 91/200\n",
      "6/6 [==============================] - 0s 6ms/step - loss: 0.5403 - accuracy: 0.9405 - val_loss: 0.5038 - val_accuracy: 0.9048\n",
      "Epoch 92/200\n",
      "6/6 [==============================] - 0s 6ms/step - loss: 0.5366 - accuracy: 0.9405 - val_loss: 0.5001 - val_accuracy: 0.9048\n",
      "Epoch 93/200\n",
      "6/6 [==============================] - 0s 6ms/step - loss: 0.5330 - accuracy: 0.9405 - val_loss: 0.4966 - val_accuracy: 0.9048\n",
      "Epoch 94/200\n",
      "6/6 [==============================] - 0s 7ms/step - loss: 0.5292 - accuracy: 0.9405 - val_loss: 0.4930 - val_accuracy: 0.9048\n",
      "Epoch 95/200\n",
      "6/6 [==============================] - 0s 6ms/step - loss: 0.5255 - accuracy: 0.9405 - val_loss: 0.4887 - val_accuracy: 0.9048\n",
      "Epoch 96/200\n",
      "6/6 [==============================] - 0s 6ms/step - loss: 0.5221 - accuracy: 0.9405 - val_loss: 0.4847 - val_accuracy: 0.9048\n",
      "Epoch 97/200\n",
      "6/6 [==============================] - 0s 6ms/step - loss: 0.5183 - accuracy: 0.9405 - val_loss: 0.4807 - val_accuracy: 0.9048\n",
      "Epoch 98/200\n",
      "6/6 [==============================] - 0s 6ms/step - loss: 0.5148 - accuracy: 0.9405 - val_loss: 0.4769 - val_accuracy: 0.9048\n",
      "Epoch 99/200\n",
      "6/6 [==============================] - 0s 7ms/step - loss: 0.5113 - accuracy: 0.9405 - val_loss: 0.4729 - val_accuracy: 0.9048\n",
      "Epoch 100/200\n",
      "6/6 [==============================] - 0s 6ms/step - loss: 0.5078 - accuracy: 0.9405 - val_loss: 0.4695 - val_accuracy: 0.9048\n",
      "Epoch 101/200\n",
      "6/6 [==============================] - 0s 6ms/step - loss: 0.5045 - accuracy: 0.9405 - val_loss: 0.4656 - val_accuracy: 0.9048\n",
      "Epoch 102/200\n",
      "6/6 [==============================] - 0s 6ms/step - loss: 0.5010 - accuracy: 0.9524 - val_loss: 0.4623 - val_accuracy: 0.9048\n",
      "Epoch 103/200\n",
      "6/6 [==============================] - 0s 7ms/step - loss: 0.4980 - accuracy: 0.9524 - val_loss: 0.4591 - val_accuracy: 0.9048\n",
      "Epoch 104/200\n",
      "6/6 [==============================] - 0s 7ms/step - loss: 0.4947 - accuracy: 0.9524 - val_loss: 0.4560 - val_accuracy: 0.9048\n",
      "Epoch 105/200\n",
      "6/6 [==============================] - 0s 7ms/step - loss: 0.4916 - accuracy: 0.9643 - val_loss: 0.4529 - val_accuracy: 0.9048\n",
      "Epoch 106/200\n",
      "6/6 [==============================] - 0s 7ms/step - loss: 0.4884 - accuracy: 0.9524 - val_loss: 0.4497 - val_accuracy: 0.9048\n",
      "Epoch 107/200\n",
      "6/6 [==============================] - 0s 6ms/step - loss: 0.4853 - accuracy: 0.9524 - val_loss: 0.4467 - val_accuracy: 0.9048\n",
      "Epoch 108/200\n",
      "6/6 [==============================] - 0s 6ms/step - loss: 0.4820 - accuracy: 0.9524 - val_loss: 0.4437 - val_accuracy: 0.9048\n",
      "Epoch 109/200\n",
      "6/6 [==============================] - 0s 6ms/step - loss: 0.4791 - accuracy: 0.9524 - val_loss: 0.4408 - val_accuracy: 0.9048\n",
      "Epoch 110/200\n",
      "6/6 [==============================] - 0s 7ms/step - loss: 0.4761 - accuracy: 0.9405 - val_loss: 0.4384 - val_accuracy: 0.9048\n",
      "Epoch 111/200\n",
      "6/6 [==============================] - 0s 7ms/step - loss: 0.4732 - accuracy: 0.9405 - val_loss: 0.4357 - val_accuracy: 0.9048\n",
      "Epoch 112/200\n",
      "6/6 [==============================] - 0s 7ms/step - loss: 0.4702 - accuracy: 0.9405 - val_loss: 0.4329 - val_accuracy: 0.9048\n",
      "Epoch 113/200\n",
      "6/6 [==============================] - 0s 6ms/step - loss: 0.4672 - accuracy: 0.9524 - val_loss: 0.4297 - val_accuracy: 0.9048\n",
      "Epoch 114/200\n",
      "6/6 [==============================] - 0s 6ms/step - loss: 0.4645 - accuracy: 0.9524 - val_loss: 0.4269 - val_accuracy: 0.9048\n",
      "Epoch 115/200\n",
      "6/6 [==============================] - 0s 7ms/step - loss: 0.4620 - accuracy: 0.9524 - val_loss: 0.4246 - val_accuracy: 0.9048\n",
      "Epoch 116/200\n",
      "6/6 [==============================] - 0s 6ms/step - loss: 0.4588 - accuracy: 0.9524 - val_loss: 0.4218 - val_accuracy: 0.9048\n",
      "Epoch 117/200\n",
      "6/6 [==============================] - 0s 7ms/step - loss: 0.4559 - accuracy: 0.9643 - val_loss: 0.4190 - val_accuracy: 0.9048\n",
      "Epoch 118/200\n",
      "6/6 [==============================] - 0s 6ms/step - loss: 0.4534 - accuracy: 0.9643 - val_loss: 0.4158 - val_accuracy: 0.9048\n",
      "Epoch 119/200\n",
      "6/6 [==============================] - 0s 6ms/step - loss: 0.4508 - accuracy: 0.9643 - val_loss: 0.4127 - val_accuracy: 0.9524\n",
      "Epoch 120/200\n",
      "6/6 [==============================] - 0s 6ms/step - loss: 0.4481 - accuracy: 0.9762 - val_loss: 0.4098 - val_accuracy: 0.9524\n",
      "Epoch 121/200\n",
      "6/6 [==============================] - 0s 6ms/step - loss: 0.4453 - accuracy: 0.9762 - val_loss: 0.4071 - val_accuracy: 0.9524\n",
      "Epoch 122/200\n",
      "6/6 [==============================] - 0s 6ms/step - loss: 0.4423 - accuracy: 0.9643 - val_loss: 0.4048 - val_accuracy: 0.9048\n",
      "Epoch 123/200\n",
      "6/6 [==============================] - 0s 6ms/step - loss: 0.4403 - accuracy: 0.9524 - val_loss: 0.4023 - val_accuracy: 0.9048\n",
      "Epoch 124/200\n",
      "6/6 [==============================] - 0s 8ms/step - loss: 0.4377 - accuracy: 0.9524 - val_loss: 0.4001 - val_accuracy: 0.9048\n",
      "Epoch 125/200\n",
      "6/6 [==============================] - 0s 6ms/step - loss: 0.4349 - accuracy: 0.9524 - val_loss: 0.3976 - val_accuracy: 0.9048\n",
      "Epoch 126/200\n",
      "6/6 [==============================] - 0s 7ms/step - loss: 0.4323 - accuracy: 0.9643 - val_loss: 0.3954 - val_accuracy: 0.9048\n",
      "Epoch 127/200\n",
      "6/6 [==============================] - 0s 6ms/step - loss: 0.4297 - accuracy: 0.9643 - val_loss: 0.3932 - val_accuracy: 0.9048\n",
      "Epoch 128/200\n",
      "6/6 [==============================] - 0s 6ms/step - loss: 0.4273 - accuracy: 0.9643 - val_loss: 0.3911 - val_accuracy: 0.9524\n",
      "Epoch 129/200\n",
      "6/6 [==============================] - 0s 6ms/step - loss: 0.4249 - accuracy: 0.9762 - val_loss: 0.3889 - val_accuracy: 0.9524\n",
      "Epoch 130/200\n",
      "6/6 [==============================] - 0s 6ms/step - loss: 0.4224 - accuracy: 0.9762 - val_loss: 0.3868 - val_accuracy: 0.9524\n",
      "Epoch 131/200\n",
      "6/6 [==============================] - 0s 7ms/step - loss: 0.4200 - accuracy: 0.9762 - val_loss: 0.3843 - val_accuracy: 0.9524\n",
      "Epoch 132/200\n",
      "6/6 [==============================] - 0s 7ms/step - loss: 0.4178 - accuracy: 0.9762 - val_loss: 0.3821 - val_accuracy: 0.9524\n",
      "Epoch 133/200\n",
      "6/6 [==============================] - 0s 7ms/step - loss: 0.4152 - accuracy: 0.9762 - val_loss: 0.3796 - val_accuracy: 0.9524\n",
      "Epoch 134/200\n",
      "6/6 [==============================] - 0s 6ms/step - loss: 0.4131 - accuracy: 0.9762 - val_loss: 0.3767 - val_accuracy: 0.9524\n",
      "Epoch 135/200\n",
      "6/6 [==============================] - 0s 7ms/step - loss: 0.4109 - accuracy: 0.9762 - val_loss: 0.3743 - val_accuracy: 0.9524\n",
      "Epoch 136/200\n",
      "6/6 [==============================] - 0s 6ms/step - loss: 0.4089 - accuracy: 0.9762 - val_loss: 0.3724 - val_accuracy: 0.9524\n",
      "Epoch 137/200\n",
      "6/6 [==============================] - 0s 7ms/step - loss: 0.4064 - accuracy: 0.9881 - val_loss: 0.3704 - val_accuracy: 0.9524\n",
      "Epoch 138/200\n",
      "6/6 [==============================] - 0s 6ms/step - loss: 0.4043 - accuracy: 0.9881 - val_loss: 0.3682 - val_accuracy: 0.9524\n",
      "Epoch 139/200\n",
      "6/6 [==============================] - 0s 6ms/step - loss: 0.4019 - accuracy: 0.9881 - val_loss: 0.3659 - val_accuracy: 0.9524\n",
      "Epoch 140/200\n",
      "6/6 [==============================] - 0s 7ms/step - loss: 0.3996 - accuracy: 0.9881 - val_loss: 0.3636 - val_accuracy: 0.9524\n",
      "Epoch 141/200\n",
      "6/6 [==============================] - 0s 7ms/step - loss: 0.3974 - accuracy: 0.9881 - val_loss: 0.3618 - val_accuracy: 0.9524\n",
      "Epoch 142/200\n",
      "6/6 [==============================] - 0s 6ms/step - loss: 0.3953 - accuracy: 0.9881 - val_loss: 0.3600 - val_accuracy: 0.9524\n",
      "Epoch 143/200\n",
      "6/6 [==============================] - 0s 6ms/step - loss: 0.3932 - accuracy: 0.9762 - val_loss: 0.3586 - val_accuracy: 0.9524\n",
      "Epoch 144/200\n",
      "6/6 [==============================] - 0s 6ms/step - loss: 0.3907 - accuracy: 0.9762 - val_loss: 0.3566 - val_accuracy: 0.9524\n",
      "Epoch 145/200\n",
      "6/6 [==============================] - 0s 6ms/step - loss: 0.3887 - accuracy: 0.9762 - val_loss: 0.3547 - val_accuracy: 0.9524\n",
      "Epoch 146/200\n",
      "6/6 [==============================] - 0s 7ms/step - loss: 0.3867 - accuracy: 0.9762 - val_loss: 0.3526 - val_accuracy: 0.9524\n",
      "Epoch 147/200\n",
      "6/6 [==============================] - 0s 6ms/step - loss: 0.3848 - accuracy: 0.9762 - val_loss: 0.3505 - val_accuracy: 0.9524\n",
      "Epoch 148/200\n",
      "6/6 [==============================] - 0s 7ms/step - loss: 0.3828 - accuracy: 0.9762 - val_loss: 0.3490 - val_accuracy: 0.9524\n",
      "Epoch 149/200\n",
      "6/6 [==============================] - 0s 6ms/step - loss: 0.3807 - accuracy: 0.9762 - val_loss: 0.3477 - val_accuracy: 0.9524\n",
      "Epoch 150/200\n",
      "6/6 [==============================] - 0s 7ms/step - loss: 0.3789 - accuracy: 0.9762 - val_loss: 0.3459 - val_accuracy: 0.9524\n",
      "Epoch 151/200\n",
      "6/6 [==============================] - 0s 6ms/step - loss: 0.3768 - accuracy: 0.9762 - val_loss: 0.3446 - val_accuracy: 0.9524\n",
      "Epoch 152/200\n",
      "6/6 [==============================] - 0s 6ms/step - loss: 0.3749 - accuracy: 0.9762 - val_loss: 0.3430 - val_accuracy: 0.9524\n",
      "Epoch 153/200\n",
      "6/6 [==============================] - 0s 7ms/step - loss: 0.3728 - accuracy: 0.9762 - val_loss: 0.3413 - val_accuracy: 0.9524\n",
      "Epoch 154/200\n",
      "6/6 [==============================] - 0s 7ms/step - loss: 0.3709 - accuracy: 0.9762 - val_loss: 0.3395 - val_accuracy: 0.9524\n",
      "Epoch 155/200\n",
      "6/6 [==============================] - 0s 7ms/step - loss: 0.3690 - accuracy: 0.9762 - val_loss: 0.3378 - val_accuracy: 0.9524\n",
      "Epoch 156/200\n",
      "6/6 [==============================] - 0s 6ms/step - loss: 0.3672 - accuracy: 0.9762 - val_loss: 0.3359 - val_accuracy: 0.9524\n",
      "Epoch 157/200\n",
      "6/6 [==============================] - 0s 6ms/step - loss: 0.3652 - accuracy: 0.9762 - val_loss: 0.3345 - val_accuracy: 0.9524\n",
      "Epoch 158/200\n",
      "6/6 [==============================] - 0s 6ms/step - loss: 0.3633 - accuracy: 0.9762 - val_loss: 0.3329 - val_accuracy: 0.9524\n",
      "Epoch 159/200\n",
      "6/6 [==============================] - 0s 6ms/step - loss: 0.3615 - accuracy: 0.9762 - val_loss: 0.3313 - val_accuracy: 0.9524\n",
      "Epoch 160/200\n",
      "6/6 [==============================] - 0s 6ms/step - loss: 0.3596 - accuracy: 0.9762 - val_loss: 0.3299 - val_accuracy: 0.9524\n",
      "Epoch 161/200\n",
      "6/6 [==============================] - 0s 6ms/step - loss: 0.3580 - accuracy: 0.9762 - val_loss: 0.3282 - val_accuracy: 0.9524\n",
      "Epoch 162/200\n",
      "6/6 [==============================] - 0s 6ms/step - loss: 0.3559 - accuracy: 0.9762 - val_loss: 0.3267 - val_accuracy: 0.9524\n",
      "Epoch 163/200\n",
      "6/6 [==============================] - 0s 6ms/step - loss: 0.3542 - accuracy: 0.9762 - val_loss: 0.3249 - val_accuracy: 0.9524\n",
      "Epoch 164/200\n",
      "6/6 [==============================] - 0s 6ms/step - loss: 0.3523 - accuracy: 0.9881 - val_loss: 0.3233 - val_accuracy: 0.9524\n",
      "Epoch 165/200\n",
      "6/6 [==============================] - 0s 6ms/step - loss: 0.3505 - accuracy: 0.9881 - val_loss: 0.3218 - val_accuracy: 0.9524\n",
      "Epoch 166/200\n",
      "6/6 [==============================] - 0s 8ms/step - loss: 0.3487 - accuracy: 0.9881 - val_loss: 0.3201 - val_accuracy: 0.9524\n",
      "Epoch 167/200\n",
      "6/6 [==============================] - 0s 6ms/step - loss: 0.3472 - accuracy: 0.9881 - val_loss: 0.3182 - val_accuracy: 0.9524\n",
      "Epoch 168/200\n",
      "6/6 [==============================] - 0s 7ms/step - loss: 0.3452 - accuracy: 0.9881 - val_loss: 0.3167 - val_accuracy: 0.9524\n",
      "Epoch 169/200\n",
      "6/6 [==============================] - 0s 6ms/step - loss: 0.3435 - accuracy: 0.9881 - val_loss: 0.3154 - val_accuracy: 0.9524\n",
      "Epoch 170/200\n",
      "6/6 [==============================] - 0s 6ms/step - loss: 0.3420 - accuracy: 0.9881 - val_loss: 0.3139 - val_accuracy: 0.9524\n",
      "Epoch 171/200\n",
      "6/6 [==============================] - 0s 6ms/step - loss: 0.3402 - accuracy: 0.9762 - val_loss: 0.3126 - val_accuracy: 0.9524\n",
      "Epoch 172/200\n",
      "6/6 [==============================] - 0s 7ms/step - loss: 0.3385 - accuracy: 0.9762 - val_loss: 0.3109 - val_accuracy: 0.9524\n",
      "Epoch 173/200\n",
      "6/6 [==============================] - 0s 6ms/step - loss: 0.3368 - accuracy: 0.9762 - val_loss: 0.3094 - val_accuracy: 0.9524\n",
      "Epoch 174/200\n",
      "6/6 [==============================] - 0s 6ms/step - loss: 0.3355 - accuracy: 0.9881 - val_loss: 0.3082 - val_accuracy: 0.9524\n",
      "Epoch 175/200\n",
      "6/6 [==============================] - 0s 6ms/step - loss: 0.3335 - accuracy: 0.9881 - val_loss: 0.3066 - val_accuracy: 0.9524\n",
      "Epoch 176/200\n",
      "6/6 [==============================] - 0s 7ms/step - loss: 0.3319 - accuracy: 0.9762 - val_loss: 0.3053 - val_accuracy: 0.9524\n",
      "Epoch 177/200\n",
      "6/6 [==============================] - 0s 6ms/step - loss: 0.3305 - accuracy: 0.9881 - val_loss: 0.3040 - val_accuracy: 0.9524\n",
      "Epoch 178/200\n",
      "6/6 [==============================] - 0s 7ms/step - loss: 0.3289 - accuracy: 0.9881 - val_loss: 0.3027 - val_accuracy: 0.9524\n",
      "Epoch 179/200\n",
      "6/6 [==============================] - 0s 6ms/step - loss: 0.3273 - accuracy: 0.9881 - val_loss: 0.3017 - val_accuracy: 0.9524\n",
      "Epoch 180/200\n",
      "6/6 [==============================] - 0s 6ms/step - loss: 0.3258 - accuracy: 0.9881 - val_loss: 0.3010 - val_accuracy: 0.9524\n",
      "Epoch 181/200\n",
      "6/6 [==============================] - 0s 7ms/step - loss: 0.3246 - accuracy: 0.9762 - val_loss: 0.3003 - val_accuracy: 0.9524\n",
      "Epoch 182/200\n",
      "6/6 [==============================] - 0s 6ms/step - loss: 0.3228 - accuracy: 0.9762 - val_loss: 0.2990 - val_accuracy: 0.9524\n",
      "Epoch 183/200\n",
      "6/6 [==============================] - 0s 7ms/step - loss: 0.3213 - accuracy: 0.9762 - val_loss: 0.2984 - val_accuracy: 0.9524\n",
      "Epoch 184/200\n",
      "6/6 [==============================] - 0s 7ms/step - loss: 0.3198 - accuracy: 0.9762 - val_loss: 0.2972 - val_accuracy: 0.9524\n",
      "Epoch 185/200\n",
      "6/6 [==============================] - 0s 7ms/step - loss: 0.3182 - accuracy: 0.9762 - val_loss: 0.2963 - val_accuracy: 0.9524\n",
      "Epoch 186/200\n",
      "6/6 [==============================] - 0s 6ms/step - loss: 0.3168 - accuracy: 0.9762 - val_loss: 0.2951 - val_accuracy: 0.9524\n",
      "Epoch 187/200\n",
      "6/6 [==============================] - 0s 7ms/step - loss: 0.3152 - accuracy: 0.9762 - val_loss: 0.2935 - val_accuracy: 0.9524\n",
      "Epoch 188/200\n",
      "6/6 [==============================] - 0s 7ms/step - loss: 0.3137 - accuracy: 0.9881 - val_loss: 0.2921 - val_accuracy: 0.9524\n",
      "Epoch 189/200\n",
      "6/6 [==============================] - 0s 7ms/step - loss: 0.3120 - accuracy: 0.9881 - val_loss: 0.2906 - val_accuracy: 0.9524\n",
      "Epoch 190/200\n",
      "6/6 [==============================] - 0s 6ms/step - loss: 0.3105 - accuracy: 0.9881 - val_loss: 0.2894 - val_accuracy: 0.9524\n",
      "Epoch 191/200\n",
      "6/6 [==============================] - 0s 7ms/step - loss: 0.3091 - accuracy: 0.9881 - val_loss: 0.2881 - val_accuracy: 0.9524\n",
      "Epoch 192/200\n",
      "6/6 [==============================] - 0s 6ms/step - loss: 0.3077 - accuracy: 0.9881 - val_loss: 0.2869 - val_accuracy: 0.9524\n",
      "Epoch 193/200\n",
      "6/6 [==============================] - 0s 7ms/step - loss: 0.3063 - accuracy: 0.9762 - val_loss: 0.2856 - val_accuracy: 0.9524\n",
      "Epoch 194/200\n",
      "6/6 [==============================] - 0s 7ms/step - loss: 0.3047 - accuracy: 0.9762 - val_loss: 0.2847 - val_accuracy: 0.9524\n",
      "Epoch 195/200\n",
      "6/6 [==============================] - 0s 6ms/step - loss: 0.3035 - accuracy: 0.9762 - val_loss: 0.2833 - val_accuracy: 0.9524\n",
      "Epoch 196/200\n",
      "6/6 [==============================] - 0s 6ms/step - loss: 0.3020 - accuracy: 0.9762 - val_loss: 0.2822 - val_accuracy: 0.9524\n",
      "Epoch 197/200\n",
      "6/6 [==============================] - 0s 6ms/step - loss: 0.3004 - accuracy: 0.9762 - val_loss: 0.2808 - val_accuracy: 0.9524\n",
      "Epoch 198/200\n",
      "6/6 [==============================] - 0s 6ms/step - loss: 0.2991 - accuracy: 0.9762 - val_loss: 0.2796 - val_accuracy: 0.9524\n",
      "Epoch 199/200\n",
      "6/6 [==============================] - 0s 6ms/step - loss: 0.2977 - accuracy: 0.9762 - val_loss: 0.2785 - val_accuracy: 0.9524\n",
      "Epoch 200/200\n",
      "6/6 [==============================] - 0s 6ms/step - loss: 0.2964 - accuracy: 0.9762 - val_loss: 0.2776 - val_accuracy: 0.9524\n"
     ]
    }
   ],
   "source": [
    "tf_fit = model.fit(\n",
    "    x=X_train_std, y=y_train, batch_size=16, validation_split=0.2, epochs=200, verbose=1\n",
    ")"
   ]
  },
  {
   "cell_type": "code",
   "execution_count": 23,
   "metadata": {},
   "outputs": [
    {
     "data": {
      "text/html": [
       "<div>\n",
       "<style scoped>\n",
       "    .dataframe tbody tr th:only-of-type {\n",
       "        vertical-align: middle;\n",
       "    }\n",
       "\n",
       "    .dataframe tbody tr th {\n",
       "        vertical-align: top;\n",
       "    }\n",
       "\n",
       "    .dataframe thead th {\n",
       "        text-align: right;\n",
       "    }\n",
       "</style>\n",
       "<table border=\"1\" class=\"dataframe\">\n",
       "  <thead>\n",
       "    <tr style=\"text-align: right;\">\n",
       "      <th></th>\n",
       "      <th>loss</th>\n",
       "      <th>accuracy</th>\n",
       "      <th>val_loss</th>\n",
       "      <th>val_accuracy</th>\n",
       "    </tr>\n",
       "  </thead>\n",
       "  <tbody>\n",
       "    <tr>\n",
       "      <th>0</th>\n",
       "      <td>1.154804</td>\n",
       "      <td>0.345238</td>\n",
       "      <td>1.188846</td>\n",
       "      <td>0.285714</td>\n",
       "    </tr>\n",
       "    <tr>\n",
       "      <th>1</th>\n",
       "      <td>1.135326</td>\n",
       "      <td>0.345238</td>\n",
       "      <td>1.172660</td>\n",
       "      <td>0.285714</td>\n",
       "    </tr>\n",
       "    <tr>\n",
       "      <th>2</th>\n",
       "      <td>1.115602</td>\n",
       "      <td>0.345238</td>\n",
       "      <td>1.153550</td>\n",
       "      <td>0.285714</td>\n",
       "    </tr>\n",
       "    <tr>\n",
       "      <th>3</th>\n",
       "      <td>1.097085</td>\n",
       "      <td>0.369048</td>\n",
       "      <td>1.134503</td>\n",
       "      <td>0.285714</td>\n",
       "    </tr>\n",
       "    <tr>\n",
       "      <th>4</th>\n",
       "      <td>1.081175</td>\n",
       "      <td>0.404762</td>\n",
       "      <td>1.117365</td>\n",
       "      <td>0.380952</td>\n",
       "    </tr>\n",
       "  </tbody>\n",
       "</table>\n",
       "</div>"
      ],
      "text/plain": [
       "       loss  accuracy  val_loss  val_accuracy\n",
       "0  1.154804  0.345238  1.188846      0.285714\n",
       "1  1.135326  0.345238  1.172660      0.285714\n",
       "2  1.115602  0.345238  1.153550      0.285714\n",
       "3  1.097085  0.369048  1.134503      0.285714\n",
       "4  1.081175  0.404762  1.117365      0.380952"
      ]
     },
     "execution_count": 23,
     "metadata": {},
     "output_type": "execute_result"
    }
   ],
   "source": [
    "# Inspect the training history\n",
    "df = pd.DataFrame(tf_fit.history)\n",
    "df.head()"
   ]
  },
  {
   "cell_type": "code",
   "execution_count": 24,
   "metadata": {},
   "outputs": [
    {
     "data": {
      "text/plain": [
       "<Axes: title={'center': 'Loss'}, xlabel='Epoch', ylabel='Loss'>"
      ]
     },
     "execution_count": 24,
     "metadata": {},
     "output_type": "execute_result"
    },
    {
     "data": {
      "image/png": "[encoded data removed]",
      "text/plain": [
       "<Figure size 1200x500 with 2 Axes>"
      ]
     },
     "metadata": {},
     "output_type": "display_data"
    }
   ],
   "source": [
    "fig, axes = plt.subplots(nrows=1, ncols=2, figsize=(12, 5))\n",
    "\n",
    "df[[\"loss\", \"val_loss\"]].plot(\n",
    "    ax=axes[0], title=\"Loss\", grid=True, legend=True, xlabel=\"Epoch\", ylabel=\"Loss\"\n",
    ")\n",
    "\n",
    "df[[\"accuracy\", \"val_accuracy\"]].plot(\n",
    "    ax=axes[1], title=\"Loss\", grid=True, legend=True, xlabel=\"Epoch\", ylabel=\"Loss\"\n",
    ")"
   ]
  },
  {
   "cell_type": "markdown",
   "metadata": {},
   "source": [
    "## Model evaluation\n"
   ]
  },
  {
   "cell_type": "code",
   "execution_count": 25,
   "metadata": {},
   "outputs": [
    {
     "name": "stdout",
     "output_type": "stream",
     "text": [
      "Test loss: 0.2822   Test Acc.: 0.9556\n"
     ]
    }
   ],
   "source": [
    "results = model.evaluate(X_test_std, y_test, verbose=0)\n",
    "print(f\"Test loss: {results[0]:.4f}   Test Acc.: {results[1]:.4f}\")"
   ]
  },
  {
   "cell_type": "markdown",
   "metadata": {},
   "source": [
    "## Prediction\n"
   ]
  },
  {
   "cell_type": "code",
   "execution_count": 26,
   "metadata": {},
   "outputs": [
    {
     "name": "stdout",
     "output_type": "stream",
     "text": [
      "[[0.00386401 0.2824613  0.71367466]\n",
      " [0.8772343  0.12171694 0.0010488 ]\n",
      " [0.8690659  0.12985651 0.00107768]]\n"
     ]
    }
   ],
   "source": [
    "y_hat = model(X_test_std[:3])\n",
    "print(y_hat.numpy())"
   ]
  },
  {
   "cell_type": "code",
   "execution_count": 27,
   "metadata": {},
   "outputs": [
    {
     "data": {
      "image/png": "[encoded data removed]",
      "text/plain": [
       "<Figure size 640x480 with 1 Axes>"
      ]
     },
     "metadata": {},
     "output_type": "display_data"
    }
   ],
   "source": [
    "yp = y_hat.numpy()[0]\n",
    "xp = list(range(yp.shape[0]))\n",
    "plt.bar(xp, yp)\n",
    "plt.title(\"Softmax Values\")\n",
    "plt.show()"
   ]
  },
  {
   "cell_type": "code",
   "execution_count": 28,
   "metadata": {},
   "outputs": [
    {
     "data": {
      "text/plain": [
       "array([2, 0, 0], dtype=int64)"
      ]
     },
     "execution_count": 28,
     "metadata": {},
     "output_type": "execute_result"
    }
   ],
   "source": [
    "np.argmax(y_hat, axis=1)"
   ]
  },
  {
   "cell_type": "markdown",
   "metadata": {},
   "source": [
    "## Decision surface\n"
   ]
  },
  {
   "cell_type": "code",
   "execution_count": 29,
   "metadata": {},
   "outputs": [
    {
     "name": "stdout",
     "output_type": "stream",
     "text": [
      "313/313 [==============================] - 0s 632us/step\n"
     ]
    },
    {
     "data": {
      "image/png": "[encoded data removed]",
      "text/plain": [
       "<Figure size 600x500 with 1 Axes>"
      ]
     },
     "metadata": {},
     "output_type": "display_data"
    }
   ],
   "source": [
    "XP = sc.transform(X)\n",
    "x_min = XP[:, 0].min() - 0.1\n",
    "x_max = XP[:, 0].max() + 0.1\n",
    "y_min = XP[:, 1].min() - 0.1\n",
    "y_max = XP[:, 1].max() + 0.1\n",
    "\n",
    "xx, yy = np.meshgrid(np.linspace(x_min, x_max, 100), np.linspace(y_min, y_max, 100))\n",
    "f, ax = plt.subplots(1, 1, figsize=(6, 5))\n",
    "Z = model.predict(np.c_[xx.ravel(), yy.ravel()])\n",
    "Z = np.argmax(Z, axis=1)  # Find the class label\n",
    "Z = Z.reshape(xx.shape)\n",
    "\n",
    "ax.contourf(xx, yy, Z, alpha=0.3)\n",
    "markers = (\"s\", \"^\", \"o\", \"v\", \"x\")\n",
    "for idx, lb in enumerate(np.unique(y_test)):\n",
    "    ax.scatter(\n",
    "        X_test_std[y_test == lb, 0],\n",
    "        X_test_std[y_test == lb, 1],\n",
    "        marker=markers[idx],\n",
    "        s=50,\n",
    "    )\n",
    "\n",
    "ax.set_title(\"ANN\")\n",
    "ax.set_xlabel(\"X1\")\n",
    "ax.set_ylabel(\"X2\")\n",
    "plt.tight_layout(pad=3.0)\n",
    "plt.show()"
   ]
  }
 ],
 "metadata": {
  "kernelspec": {
   "display_name": "Python 3.9.12 ('tf')",
   "language": "python",
   "name": "python3"
  },
  "language_info": {
   "codemirror_mode": {
    "name": "ipython",
    "version": 3
   },
   "file_extension": ".py",
   "mimetype": "text/x-python",
   "name": "python",
   "nbconvert_exporter": "python",
   "pygments_lexer": "ipython3",
   "version": "3.11.8"
  },
  "orig_nbformat": 4,
  "vscode": {
   "interpreter": {
    "hash": "3f531f38061d288ff7109e336294c007d5438e97f3aa4943df1d0053d1256d75"
   }
  }
 },
 "nbformat": 4,
 "nbformat_minor": 2
}
