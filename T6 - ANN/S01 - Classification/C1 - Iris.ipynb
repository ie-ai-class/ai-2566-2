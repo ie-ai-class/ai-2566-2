{
 "cells": [
  {
   "cell_type": "markdown",
   "metadata": {},
   "source": [
    "# Iris dataset\n",
    "\n",
    "2 attributes\n",
    "\n",
    "`pip install tensorflow`\n"
   ]
  },
  {
   "cell_type": "code",
   "execution_count": 1,
   "metadata": {},
   "outputs": [
    {
     "name": "stdout",
     "output_type": "stream",
     "text": [
      "WARNING:tensorflow:From C:\\Users\\nnnpo\\AppData\\Local\\Packages\\PythonSoftwareFoundation.Python.3.11_qbz5n2kfra8p0\\LocalCache\\local-packages\\Python311\\site-packages\\keras\\src\\losses.py:2976: The name tf.losses.sparse_softmax_cross_entropy is deprecated. Please use tf.compat.v1.losses.sparse_softmax_cross_entropy instead.\n",
      "\n"
     ]
    }
   ],
   "source": [
    "import tensorflow as tf\n",
    "from sklearn import datasets\n",
    "from sklearn.model_selection import train_test_split\n",
    "from sklearn.preprocessing import StandardScaler\n",
    "import matplotlib.pyplot as plt\n",
    "import numpy as np\n",
    "import pandas as pd"
   ]
  },
  {
   "cell_type": "code",
   "execution_count": 2,
   "metadata": {},
   "outputs": [
    {
     "name": "stdout",
     "output_type": "stream",
     "text": [
      "TensorFlow version: 2.15.0\n"
     ]
    }
   ],
   "source": [
    "# Check TensorFlow version\n",
    "print(\"TensorFlow version:\", tf.__version__)"
   ]
  },
  {
   "cell_type": "code",
   "execution_count": 3,
   "metadata": {},
   "outputs": [],
   "source": [
    "# Read data\n",
    "iris = datasets.load_iris()\n",
    "\n",
    "# Create a DataFrame\n",
    "df = pd.DataFrame(data=iris.data, columns=iris.feature_names)\n",
    "df[\"target\"] = iris.target"
   ]
  },
  {
   "cell_type": "code",
   "execution_count": 4,
   "metadata": {},
   "outputs": [
    {
     "name": "stdout",
     "output_type": "stream",
     "text": [
      "[0 0 0 0 0 0 0 0 0 0 0 0 0 0 0 0 0 0 0 0 0 0 0 0 0 0 0 0 0 0 0 0 0 0 0 0 0\n",
      " 0 0 0 0 0 0 0 0 0 0 0 0 0 1 1 1 1 1 1 1 1 1 1 1 1 1 1 1 1 1 1 1 1 1 1 1 1\n",
      " 1 1 1 1 1 1 1 1 1 1 1 1 1 1 1 1 1 1 1 1 1 1 1 1 1 1 2 2 2 2 2 2 2 2 2 2 2\n",
      " 2 2 2 2 2 2 2 2 2 2 2 2 2 2 2 2 2 2 2 2 2 2 2 2 2 2 2 2 2 2 2 2 2 2 2 2 2\n",
      " 2 2]\n",
      "[2 0 1 1 2 1 2 2 0 0 0 0 1 1 1 1 0 1 1 1 0 0 1 2 0 0 2 2 2 1 2 1 0 1 2 2 2\n",
      " 2 2 0 2 1 2 0 0 2 1 2 0 0 0 1 2 0 2 2 0 0 0 1 2 2 1 1 2 1 1 0 2 1 0 2 2 0\n",
      " 0 0 1 0 1 2 1 1 0 1 0 0 1 0 1 0 2 2 2 2 2 2 1 1 1 2 2 2 0 1 0 0 2 1 0 1 2\n",
      " 2 1 2 1 0 1 0 0 2 2 0 0 2 2 1 0 1 2 0 1 0 0 1 0 1 2 2 2 0 2 0 1 1 0 0 1 1\n",
      " 1 1]\n"
     ]
    }
   ],
   "source": [
    "# Shuffle the DataFrame (frac=1 means all rows)\n",
    "# This is because the validatio split is done by taking the last % of the data. \n",
    "# If the data is not shuffled, the validation set will contain only the last class\n",
    "print(df[\"target\"].values)\n",
    "df = df.sample(frac=1)\n",
    "print(df.target.values)"
   ]
  },
  {
   "cell_type": "code",
   "execution_count": 5,
   "metadata": {},
   "outputs": [],
   "source": [
    "# 2 Attributes\n",
    "X = df.iloc[:, 2:4].values\n",
    "y = df[\"target\"].values\n",
    "\n",
    "\n",
    "# Split data into training and testing data\n",
    "X_train, X_test, y_train, y_test = train_test_split(\n",
    "    X, y, test_size=0.3, random_state=1, stratify=y\n",
    ")\n",
    "\n",
    "# Standardization\n",
    "sc = StandardScaler()\n",
    "sc.fit(X_train)\n",
    "X_train_std = sc.transform(X_train)\n",
    "X_test_std = sc.transform(X_test)"
   ]
  },
  {
   "cell_type": "markdown",
   "metadata": {},
   "source": [
    "## Model building\n"
   ]
  },
  {
   "cell_type": "code",
   "execution_count": 6,
   "metadata": {},
   "outputs": [
    {
     "name": "stdout",
     "output_type": "stream",
     "text": [
      "WARNING:tensorflow:From C:\\Users\\nnnpo\\AppData\\Local\\Packages\\PythonSoftwareFoundation.Python.3.11_qbz5n2kfra8p0\\LocalCache\\local-packages\\Python311\\site-packages\\keras\\src\\backend.py:277: The name tf.reset_default_graph is deprecated. Please use tf.compat.v1.reset_default_graph instead.\n",
      "\n",
      "Model: \"sequential\"\n",
      "_________________________________________________________________\n",
      " Layer (type)                Output Shape              Param #   \n",
      "=================================================================\n",
      " hidden1 (Dense)             (None, 16)                48        \n",
      "                                                                 \n",
      " output (Dense)              (None, 3)                 51        \n",
      "                                                                 \n",
      "=================================================================\n",
      "Total params: 99 (396.00 Byte)\n",
      "Trainable params: 99 (396.00 Byte)\n",
      "Non-trainable params: 0 (0.00 Byte)\n",
      "_________________________________________________________________\n",
      "WARNING:tensorflow:From C:\\Users\\nnnpo\\AppData\\Local\\Packages\\PythonSoftwareFoundation.Python.3.11_qbz5n2kfra8p0\\LocalCache\\local-packages\\Python311\\site-packages\\keras\\src\\optimizers\\__init__.py:309: The name tf.train.Optimizer is deprecated. Please use tf.compat.v1.train.Optimizer instead.\n",
      "\n"
     ]
    }
   ],
   "source": [
    "tf.keras.backend.clear_session()\n",
    "\n",
    "model = tf.keras.Sequential(\n",
    "    [\n",
    "        tf.keras.layers.InputLayer(input_shape=(2,)),\n",
    "        tf.keras.layers.Dense(units=16, activation=\"sigmoid\", name=\"hidden1\"),\n",
    "        tf.keras.layers.Dense(units=3, activation=\"softmax\", name=\"output\"),\n",
    "    ]\n",
    ")\n",
    "\n",
    "model.summary()\n",
    "\n",
    "model.compile(\n",
    "    optimizer=\"adam\", loss=\"sparse_categorical_crossentropy\", metrics=[\"accuracy\"]\n",
    ")"
   ]
  },
  {
   "cell_type": "markdown",
   "metadata": {},
   "source": [
    "# Model training\n"
   ]
  },
  {
   "cell_type": "code",
   "execution_count": 7,
   "metadata": {},
   "outputs": [
    {
     "name": "stdout",
     "output_type": "stream",
     "text": [
      "Epoch 1/200\n",
      "WARNING:tensorflow:From C:\\Users\\nnnpo\\AppData\\Local\\Packages\\PythonSoftwareFoundation.Python.3.11_qbz5n2kfra8p0\\LocalCache\\local-packages\\Python311\\site-packages\\keras\\src\\utils\\tf_utils.py:492: The name tf.ragged.RaggedTensorValue is deprecated. Please use tf.compat.v1.ragged.RaggedTensorValue instead.\n",
      "\n",
      "WARNING:tensorflow:From C:\\Users\\nnnpo\\AppData\\Local\\Packages\\PythonSoftwareFoundation.Python.3.11_qbz5n2kfra8p0\\LocalCache\\local-packages\\Python311\\site-packages\\keras\\src\\engine\\base_layer_utils.py:384: The name tf.executing_eagerly_outside_functions is deprecated. Please use tf.compat.v1.executing_eagerly_outside_functions instead.\n",
      "\n",
      "6/6 [==============================] - 1s 33ms/step - loss: 1.2106 - accuracy: 0.3452 - val_loss: 1.2735 - val_accuracy: 0.2857\n",
      "Epoch 2/200\n",
      "6/6 [==============================] - 0s 7ms/step - loss: 1.1891 - accuracy: 0.3452 - val_loss: 1.2585 - val_accuracy: 0.2857\n",
      "Epoch 3/200\n",
      "6/6 [==============================] - 0s 7ms/step - loss: 1.1714 - accuracy: 0.3452 - val_loss: 1.2377 - val_accuracy: 0.2857\n",
      "Epoch 4/200\n",
      "6/6 [==============================] - 0s 7ms/step - loss: 1.1555 - accuracy: 0.3452 - val_loss: 1.2184 - val_accuracy: 0.2857\n",
      "Epoch 5/200\n",
      "6/6 [==============================] - 0s 7ms/step - loss: 1.1381 - accuracy: 0.3452 - val_loss: 1.2001 - val_accuracy: 0.2857\n",
      "Epoch 6/200\n",
      "6/6 [==============================] - 0s 7ms/step - loss: 1.1250 - accuracy: 0.3452 - val_loss: 1.1854 - val_accuracy: 0.2857\n",
      "Epoch 7/200\n",
      "6/6 [==============================] - 0s 7ms/step - loss: 1.1119 - accuracy: 0.3452 - val_loss: 1.1726 - val_accuracy: 0.2857\n",
      "Epoch 8/200\n",
      "6/6 [==============================] - 0s 7ms/step - loss: 1.1019 - accuracy: 0.3810 - val_loss: 1.1595 - val_accuracy: 0.3333\n",
      "Epoch 9/200\n",
      "6/6 [==============================] - 0s 7ms/step - loss: 1.0914 - accuracy: 0.3929 - val_loss: 1.1490 - val_accuracy: 0.3333\n",
      "Epoch 10/200\n",
      "6/6 [==============================] - 0s 7ms/step - loss: 1.0813 - accuracy: 0.4643 - val_loss: 1.1392 - val_accuracy: 0.3810\n",
      "Epoch 11/200\n",
      "6/6 [==============================] - 0s 8ms/step - loss: 1.0717 - accuracy: 0.5476 - val_loss: 1.1278 - val_accuracy: 0.4762\n",
      "Epoch 12/200\n",
      "6/6 [==============================] - 0s 8ms/step - loss: 1.0626 - accuracy: 0.6190 - val_loss: 1.1167 - val_accuracy: 0.4762\n",
      "Epoch 13/200\n",
      "6/6 [==============================] - 0s 7ms/step - loss: 1.0535 - accuracy: 0.6667 - val_loss: 1.1077 - val_accuracy: 0.4762\n",
      "Epoch 14/200\n",
      "6/6 [==============================] - 0s 7ms/step - loss: 1.0450 - accuracy: 0.6310 - val_loss: 1.0976 - val_accuracy: 0.4762\n",
      "Epoch 15/200\n",
      "6/6 [==============================] - 0s 7ms/step - loss: 1.0371 - accuracy: 0.6190 - val_loss: 1.0895 - val_accuracy: 0.3810\n",
      "Epoch 16/200\n",
      "6/6 [==============================] - 0s 7ms/step - loss: 1.0302 - accuracy: 0.5714 - val_loss: 1.0760 - val_accuracy: 0.3810\n",
      "Epoch 17/200\n",
      "6/6 [==============================] - 0s 7ms/step - loss: 1.0201 - accuracy: 0.5357 - val_loss: 1.0649 - val_accuracy: 0.3810\n",
      "Epoch 18/200\n",
      "6/6 [==============================] - 0s 7ms/step - loss: 1.0123 - accuracy: 0.5238 - val_loss: 1.0528 - val_accuracy: 0.3810\n",
      "Epoch 19/200\n",
      "6/6 [==============================] - 0s 9ms/step - loss: 1.0046 - accuracy: 0.5119 - val_loss: 1.0421 - val_accuracy: 0.3810\n",
      "Epoch 20/200\n",
      "6/6 [==============================] - 0s 8ms/step - loss: 0.9969 - accuracy: 0.5119 - val_loss: 1.0327 - val_accuracy: 0.3810\n",
      "Epoch 21/200\n",
      "6/6 [==============================] - 0s 7ms/step - loss: 0.9899 - accuracy: 0.5119 - val_loss: 1.0251 - val_accuracy: 0.3810\n",
      "Epoch 22/200\n",
      "6/6 [==============================] - 0s 7ms/step - loss: 0.9831 - accuracy: 0.5238 - val_loss: 1.0168 - val_accuracy: 0.3810\n",
      "Epoch 23/200\n",
      "6/6 [==============================] - 0s 7ms/step - loss: 0.9763 - accuracy: 0.5238 - val_loss: 1.0096 - val_accuracy: 0.3810\n",
      "Epoch 24/200\n",
      "6/6 [==============================] - 0s 7ms/step - loss: 0.9697 - accuracy: 0.5238 - val_loss: 1.0022 - val_accuracy: 0.3810\n",
      "Epoch 25/200\n",
      "6/6 [==============================] - 0s 7ms/step - loss: 0.9627 - accuracy: 0.5238 - val_loss: 0.9936 - val_accuracy: 0.3810\n",
      "Epoch 26/200\n",
      "6/6 [==============================] - 0s 8ms/step - loss: 0.9562 - accuracy: 0.5238 - val_loss: 0.9825 - val_accuracy: 0.3810\n",
      "Epoch 27/200\n",
      "6/6 [==============================] - 0s 7ms/step - loss: 0.9483 - accuracy: 0.5000 - val_loss: 0.9737 - val_accuracy: 0.3810\n",
      "Epoch 28/200\n",
      "6/6 [==============================] - 0s 8ms/step - loss: 0.9413 - accuracy: 0.4643 - val_loss: 0.9622 - val_accuracy: 0.3810\n",
      "Epoch 29/200\n",
      "6/6 [==============================] - 0s 7ms/step - loss: 0.9341 - accuracy: 0.4643 - val_loss: 0.9525 - val_accuracy: 0.3810\n",
      "Epoch 30/200\n",
      "6/6 [==============================] - 0s 6ms/step - loss: 0.9269 - accuracy: 0.4643 - val_loss: 0.9432 - val_accuracy: 0.3810\n",
      "Epoch 31/200\n",
      "6/6 [==============================] - 0s 8ms/step - loss: 0.9209 - accuracy: 0.4524 - val_loss: 0.9340 - val_accuracy: 0.4286\n",
      "Epoch 32/200\n",
      "6/6 [==============================] - 0s 7ms/step - loss: 0.9139 - accuracy: 0.4524 - val_loss: 0.9275 - val_accuracy: 0.4286\n",
      "Epoch 33/200\n",
      "6/6 [==============================] - 0s 7ms/step - loss: 0.9075 - accuracy: 0.4643 - val_loss: 0.9225 - val_accuracy: 0.3810\n",
      "Epoch 34/200\n",
      "6/6 [==============================] - 0s 7ms/step - loss: 0.9012 - accuracy: 0.4762 - val_loss: 0.9153 - val_accuracy: 0.4286\n",
      "Epoch 35/200\n",
      "6/6 [==============================] - 0s 7ms/step - loss: 0.8952 - accuracy: 0.5238 - val_loss: 0.9095 - val_accuracy: 0.4286\n",
      "Epoch 36/200\n",
      "6/6 [==============================] - 0s 7ms/step - loss: 0.8888 - accuracy: 0.5357 - val_loss: 0.9008 - val_accuracy: 0.4286\n",
      "Epoch 37/200\n",
      "6/6 [==============================] - 0s 7ms/step - loss: 0.8821 - accuracy: 0.6071 - val_loss: 0.8932 - val_accuracy: 0.4762\n",
      "Epoch 38/200\n",
      "6/6 [==============================] - 0s 7ms/step - loss: 0.8751 - accuracy: 0.7381 - val_loss: 0.8829 - val_accuracy: 0.8095\n",
      "Epoch 39/200\n",
      "6/6 [==============================] - 0s 6ms/step - loss: 0.8688 - accuracy: 0.8095 - val_loss: 0.8717 - val_accuracy: 0.8571\n",
      "Epoch 40/200\n",
      "6/6 [==============================] - 0s 7ms/step - loss: 0.8624 - accuracy: 0.7976 - val_loss: 0.8609 - val_accuracy: 0.8571\n",
      "Epoch 41/200\n",
      "6/6 [==============================] - 0s 7ms/step - loss: 0.8551 - accuracy: 0.7738 - val_loss: 0.8508 - val_accuracy: 0.8571\n",
      "Epoch 42/200\n",
      "6/6 [==============================] - 0s 7ms/step - loss: 0.8485 - accuracy: 0.7738 - val_loss: 0.8415 - val_accuracy: 0.8571\n",
      "Epoch 43/200\n",
      "6/6 [==============================] - 0s 8ms/step - loss: 0.8420 - accuracy: 0.7738 - val_loss: 0.8336 - val_accuracy: 0.8571\n",
      "Epoch 44/200\n",
      "6/6 [==============================] - 0s 9ms/step - loss: 0.8354 - accuracy: 0.8095 - val_loss: 0.8257 - val_accuracy: 0.8571\n",
      "Epoch 45/200\n",
      "6/6 [==============================] - 0s 7ms/step - loss: 0.8291 - accuracy: 0.8095 - val_loss: 0.8182 - val_accuracy: 0.8571\n",
      "Epoch 46/200\n",
      "6/6 [==============================] - 0s 7ms/step - loss: 0.8229 - accuracy: 0.8095 - val_loss: 0.8118 - val_accuracy: 0.8571\n",
      "Epoch 47/200\n",
      "6/6 [==============================] - 0s 6ms/step - loss: 0.8163 - accuracy: 0.8214 - val_loss: 0.8048 - val_accuracy: 0.8571\n",
      "Epoch 48/200\n",
      "6/6 [==============================] - 0s 6ms/step - loss: 0.8101 - accuracy: 0.8214 - val_loss: 0.7977 - val_accuracy: 0.8571\n",
      "Epoch 49/200\n",
      "6/6 [==============================] - 0s 7ms/step - loss: 0.8036 - accuracy: 0.8214 - val_loss: 0.7904 - val_accuracy: 0.8571\n",
      "Epoch 50/200\n",
      "6/6 [==============================] - 0s 7ms/step - loss: 0.7978 - accuracy: 0.8095 - val_loss: 0.7817 - val_accuracy: 0.8571\n",
      "Epoch 51/200\n",
      "6/6 [==============================] - 0s 7ms/step - loss: 0.7910 - accuracy: 0.8095 - val_loss: 0.7752 - val_accuracy: 0.8571\n",
      "Epoch 52/200\n",
      "6/6 [==============================] - 0s 7ms/step - loss: 0.7849 - accuracy: 0.8095 - val_loss: 0.7660 - val_accuracy: 0.8571\n",
      "Epoch 53/200\n",
      "6/6 [==============================] - 0s 7ms/step - loss: 0.7783 - accuracy: 0.8214 - val_loss: 0.7582 - val_accuracy: 0.8571\n",
      "Epoch 54/200\n",
      "6/6 [==============================] - 0s 7ms/step - loss: 0.7723 - accuracy: 0.8214 - val_loss: 0.7517 - val_accuracy: 0.8571\n",
      "Epoch 55/200\n",
      "6/6 [==============================] - 0s 7ms/step - loss: 0.7659 - accuracy: 0.8214 - val_loss: 0.7463 - val_accuracy: 0.8571\n",
      "Epoch 56/200\n",
      "6/6 [==============================] - 0s 7ms/step - loss: 0.7600 - accuracy: 0.8214 - val_loss: 0.7416 - val_accuracy: 0.8571\n",
      "Epoch 57/200\n",
      "6/6 [==============================] - 0s 7ms/step - loss: 0.7546 - accuracy: 0.8452 - val_loss: 0.7368 - val_accuracy: 0.8571\n",
      "Epoch 58/200\n",
      "6/6 [==============================] - 0s 7ms/step - loss: 0.7484 - accuracy: 0.8690 - val_loss: 0.7303 - val_accuracy: 0.8571\n",
      "Epoch 59/200\n",
      "6/6 [==============================] - 0s 7ms/step - loss: 0.7423 - accuracy: 0.8690 - val_loss: 0.7247 - val_accuracy: 0.8571\n",
      "Epoch 60/200\n",
      "6/6 [==============================] - 0s 7ms/step - loss: 0.7367 - accuracy: 0.8690 - val_loss: 0.7187 - val_accuracy: 0.8571\n",
      "Epoch 61/200\n",
      "6/6 [==============================] - 0s 7ms/step - loss: 0.7308 - accuracy: 0.8690 - val_loss: 0.7113 - val_accuracy: 0.8571\n",
      "Epoch 62/200\n",
      "6/6 [==============================] - 0s 7ms/step - loss: 0.7249 - accuracy: 0.8690 - val_loss: 0.7042 - val_accuracy: 0.8571\n",
      "Epoch 63/200\n",
      "6/6 [==============================] - 0s 7ms/step - loss: 0.7191 - accuracy: 0.8690 - val_loss: 0.6976 - val_accuracy: 0.8571\n",
      "Epoch 64/200\n",
      "6/6 [==============================] - 0s 7ms/step - loss: 0.7134 - accuracy: 0.8690 - val_loss: 0.6900 - val_accuracy: 0.8571\n",
      "Epoch 65/200\n",
      "6/6 [==============================] - 0s 7ms/step - loss: 0.7078 - accuracy: 0.8810 - val_loss: 0.6820 - val_accuracy: 0.8571\n",
      "Epoch 66/200\n",
      "6/6 [==============================] - 0s 7ms/step - loss: 0.7019 - accuracy: 0.8690 - val_loss: 0.6748 - val_accuracy: 0.8571\n",
      "Epoch 67/200\n",
      "6/6 [==============================] - 0s 7ms/step - loss: 0.6960 - accuracy: 0.8690 - val_loss: 0.6685 - val_accuracy: 0.8571\n",
      "Epoch 68/200\n",
      "6/6 [==============================] - 0s 7ms/step - loss: 0.6908 - accuracy: 0.8690 - val_loss: 0.6622 - val_accuracy: 0.8571\n",
      "Epoch 69/200\n",
      "6/6 [==============================] - 0s 7ms/step - loss: 0.6851 - accuracy: 0.8690 - val_loss: 0.6567 - val_accuracy: 0.8571\n",
      "Epoch 70/200\n",
      "6/6 [==============================] - 0s 7ms/step - loss: 0.6797 - accuracy: 0.8571 - val_loss: 0.6508 - val_accuracy: 0.8571\n",
      "Epoch 71/200\n",
      "6/6 [==============================] - 0s 7ms/step - loss: 0.6743 - accuracy: 0.8571 - val_loss: 0.6442 - val_accuracy: 0.8571\n",
      "Epoch 72/200\n",
      "6/6 [==============================] - 0s 8ms/step - loss: 0.6689 - accuracy: 0.8571 - val_loss: 0.6386 - val_accuracy: 0.8571\n",
      "Epoch 73/200\n",
      "6/6 [==============================] - 0s 9ms/step - loss: 0.6636 - accuracy: 0.8571 - val_loss: 0.6325 - val_accuracy: 0.8571\n",
      "Epoch 74/200\n",
      "6/6 [==============================] - 0s 7ms/step - loss: 0.6587 - accuracy: 0.8571 - val_loss: 0.6269 - val_accuracy: 0.8571\n",
      "Epoch 75/200\n",
      "6/6 [==============================] - 0s 7ms/step - loss: 0.6545 - accuracy: 0.8214 - val_loss: 0.6208 - val_accuracy: 0.8571\n",
      "Epoch 76/200\n",
      "6/6 [==============================] - 0s 7ms/step - loss: 0.6489 - accuracy: 0.8214 - val_loss: 0.6157 - val_accuracy: 0.8571\n",
      "Epoch 77/200\n",
      "6/6 [==============================] - 0s 8ms/step - loss: 0.6436 - accuracy: 0.8452 - val_loss: 0.6100 - val_accuracy: 0.8571\n",
      "Epoch 78/200\n",
      "6/6 [==============================] - 0s 7ms/step - loss: 0.6389 - accuracy: 0.8690 - val_loss: 0.6054 - val_accuracy: 0.8571\n",
      "Epoch 79/200\n",
      "6/6 [==============================] - 0s 7ms/step - loss: 0.6334 - accuracy: 0.8810 - val_loss: 0.6003 - val_accuracy: 0.8571\n",
      "Epoch 80/200\n",
      "6/6 [==============================] - 0s 8ms/step - loss: 0.6285 - accuracy: 0.8929 - val_loss: 0.5952 - val_accuracy: 0.8571\n",
      "Epoch 81/200\n",
      "6/6 [==============================] - 0s 7ms/step - loss: 0.6237 - accuracy: 0.8929 - val_loss: 0.5897 - val_accuracy: 0.8571\n",
      "Epoch 82/200\n",
      "6/6 [==============================] - 0s 7ms/step - loss: 0.6189 - accuracy: 0.8929 - val_loss: 0.5847 - val_accuracy: 0.8571\n",
      "Epoch 83/200\n",
      "6/6 [==============================] - 0s 8ms/step - loss: 0.6146 - accuracy: 0.8929 - val_loss: 0.5797 - val_accuracy: 0.8571\n",
      "Epoch 84/200\n",
      "6/6 [==============================] - 0s 7ms/step - loss: 0.6096 - accuracy: 0.8929 - val_loss: 0.5748 - val_accuracy: 0.8571\n",
      "Epoch 85/200\n",
      "6/6 [==============================] - 0s 6ms/step - loss: 0.6049 - accuracy: 0.8929 - val_loss: 0.5695 - val_accuracy: 0.8571\n",
      "Epoch 86/200\n",
      "6/6 [==============================] - 0s 7ms/step - loss: 0.6003 - accuracy: 0.8929 - val_loss: 0.5631 - val_accuracy: 0.8571\n",
      "Epoch 87/200\n",
      "6/6 [==============================] - 0s 7ms/step - loss: 0.5960 - accuracy: 0.8929 - val_loss: 0.5569 - val_accuracy: 0.8571\n",
      "Epoch 88/200\n",
      "6/6 [==============================] - 0s 7ms/step - loss: 0.5919 - accuracy: 0.8929 - val_loss: 0.5519 - val_accuracy: 0.8571\n",
      "Epoch 89/200\n",
      "6/6 [==============================] - 0s 7ms/step - loss: 0.5871 - accuracy: 0.8929 - val_loss: 0.5477 - val_accuracy: 0.8571\n",
      "Epoch 90/200\n",
      "6/6 [==============================] - 0s 7ms/step - loss: 0.5830 - accuracy: 0.8929 - val_loss: 0.5430 - val_accuracy: 0.8571\n",
      "Epoch 91/200\n",
      "6/6 [==============================] - 0s 7ms/step - loss: 0.5783 - accuracy: 0.8929 - val_loss: 0.5390 - val_accuracy: 0.8571\n",
      "Epoch 92/200\n",
      "6/6 [==============================] - 0s 7ms/step - loss: 0.5742 - accuracy: 0.8929 - val_loss: 0.5347 - val_accuracy: 0.8571\n",
      "Epoch 93/200\n",
      "6/6 [==============================] - 0s 7ms/step - loss: 0.5700 - accuracy: 0.8929 - val_loss: 0.5305 - val_accuracy: 0.8571\n",
      "Epoch 94/200\n",
      "6/6 [==============================] - 0s 7ms/step - loss: 0.5664 - accuracy: 0.8929 - val_loss: 0.5263 - val_accuracy: 0.8571\n",
      "Epoch 95/200\n",
      "6/6 [==============================] - 0s 7ms/step - loss: 0.5620 - accuracy: 0.8929 - val_loss: 0.5227 - val_accuracy: 0.8571\n",
      "Epoch 96/200\n",
      "6/6 [==============================] - 0s 6ms/step - loss: 0.5580 - accuracy: 0.8929 - val_loss: 0.5190 - val_accuracy: 0.8571\n",
      "Epoch 97/200\n",
      "6/6 [==============================] - 0s 7ms/step - loss: 0.5540 - accuracy: 0.8929 - val_loss: 0.5157 - val_accuracy: 0.8571\n",
      "Epoch 98/200\n",
      "6/6 [==============================] - 0s 7ms/step - loss: 0.5503 - accuracy: 0.8929 - val_loss: 0.5115 - val_accuracy: 0.8571\n",
      "Epoch 99/200\n",
      "6/6 [==============================] - 0s 7ms/step - loss: 0.5465 - accuracy: 0.8929 - val_loss: 0.5077 - val_accuracy: 0.8571\n",
      "Epoch 100/200\n",
      "6/6 [==============================] - 0s 7ms/step - loss: 0.5425 - accuracy: 0.8929 - val_loss: 0.5040 - val_accuracy: 0.8571\n",
      "Epoch 101/200\n",
      "6/6 [==============================] - 0s 7ms/step - loss: 0.5388 - accuracy: 0.8929 - val_loss: 0.5003 - val_accuracy: 0.8571\n",
      "Epoch 102/200\n",
      "6/6 [==============================] - 0s 7ms/step - loss: 0.5351 - accuracy: 0.8929 - val_loss: 0.4962 - val_accuracy: 0.8571\n",
      "Epoch 103/200\n",
      "6/6 [==============================] - 0s 8ms/step - loss: 0.5314 - accuracy: 0.8929 - val_loss: 0.4921 - val_accuracy: 0.8571\n",
      "Epoch 104/200\n",
      "6/6 [==============================] - 0s 7ms/step - loss: 0.5277 - accuracy: 0.8929 - val_loss: 0.4879 - val_accuracy: 0.8571\n",
      "Epoch 105/200\n",
      "6/6 [==============================] - 0s 7ms/step - loss: 0.5240 - accuracy: 0.8929 - val_loss: 0.4833 - val_accuracy: 0.8571\n",
      "Epoch 106/200\n",
      "6/6 [==============================] - 0s 7ms/step - loss: 0.5202 - accuracy: 0.9286 - val_loss: 0.4790 - val_accuracy: 0.9524\n",
      "Epoch 107/200\n",
      "6/6 [==============================] - 0s 7ms/step - loss: 0.5168 - accuracy: 0.9286 - val_loss: 0.4742 - val_accuracy: 0.9524\n",
      "Epoch 108/200\n",
      "6/6 [==============================] - 0s 7ms/step - loss: 0.5138 - accuracy: 0.9286 - val_loss: 0.4704 - val_accuracy: 1.0000\n",
      "Epoch 109/200\n",
      "6/6 [==============================] - 0s 7ms/step - loss: 0.5101 - accuracy: 0.9405 - val_loss: 0.4671 - val_accuracy: 1.0000\n",
      "Epoch 110/200\n",
      "6/6 [==============================] - 0s 7ms/step - loss: 0.5067 - accuracy: 0.9405 - val_loss: 0.4634 - val_accuracy: 1.0000\n",
      "Epoch 111/200\n",
      "6/6 [==============================] - 0s 7ms/step - loss: 0.5034 - accuracy: 0.9405 - val_loss: 0.4598 - val_accuracy: 1.0000\n",
      "Epoch 112/200\n",
      "6/6 [==============================] - 0s 7ms/step - loss: 0.4999 - accuracy: 0.9405 - val_loss: 0.4560 - val_accuracy: 1.0000\n",
      "Epoch 113/200\n",
      "6/6 [==============================] - 0s 7ms/step - loss: 0.4965 - accuracy: 0.9405 - val_loss: 0.4525 - val_accuracy: 1.0000\n",
      "Epoch 114/200\n",
      "6/6 [==============================] - 0s 7ms/step - loss: 0.4934 - accuracy: 0.9286 - val_loss: 0.4492 - val_accuracy: 0.9524\n",
      "Epoch 115/200\n",
      "6/6 [==============================] - 0s 6ms/step - loss: 0.4902 - accuracy: 0.9286 - val_loss: 0.4458 - val_accuracy: 0.9524\n",
      "Epoch 116/200\n",
      "6/6 [==============================] - 0s 7ms/step - loss: 0.4870 - accuracy: 0.9286 - val_loss: 0.4426 - val_accuracy: 0.9524\n",
      "Epoch 117/200\n",
      "6/6 [==============================] - 0s 7ms/step - loss: 0.4840 - accuracy: 0.9286 - val_loss: 0.4395 - val_accuracy: 1.0000\n",
      "Epoch 118/200\n",
      "6/6 [==============================] - 0s 8ms/step - loss: 0.4808 - accuracy: 0.9286 - val_loss: 0.4367 - val_accuracy: 0.9524\n",
      "Epoch 119/200\n",
      "6/6 [==============================] - 0s 7ms/step - loss: 0.4778 - accuracy: 0.9286 - val_loss: 0.4335 - val_accuracy: 0.9524\n",
      "Epoch 120/200\n",
      "6/6 [==============================] - 0s 7ms/step - loss: 0.4751 - accuracy: 0.9286 - val_loss: 0.4299 - val_accuracy: 0.9524\n",
      "Epoch 121/200\n",
      "6/6 [==============================] - 0s 7ms/step - loss: 0.4719 - accuracy: 0.9286 - val_loss: 0.4272 - val_accuracy: 0.9524\n",
      "Epoch 122/200\n",
      "6/6 [==============================] - 0s 7ms/step - loss: 0.4689 - accuracy: 0.9286 - val_loss: 0.4240 - val_accuracy: 1.0000\n",
      "Epoch 123/200\n",
      "6/6 [==============================] - 0s 7ms/step - loss: 0.4661 - accuracy: 0.9286 - val_loss: 0.4212 - val_accuracy: 1.0000\n",
      "Epoch 124/200\n",
      "6/6 [==============================] - 0s 10ms/step - loss: 0.4633 - accuracy: 0.9405 - val_loss: 0.4189 - val_accuracy: 1.0000\n",
      "Epoch 125/200\n",
      "6/6 [==============================] - 0s 7ms/step - loss: 0.4604 - accuracy: 0.9286 - val_loss: 0.4165 - val_accuracy: 1.0000\n",
      "Epoch 126/200\n",
      "6/6 [==============================] - 0s 7ms/step - loss: 0.4576 - accuracy: 0.9405 - val_loss: 0.4135 - val_accuracy: 1.0000\n",
      "Epoch 127/200\n",
      "6/6 [==============================] - 0s 7ms/step - loss: 0.4545 - accuracy: 0.9405 - val_loss: 0.4110 - val_accuracy: 1.0000\n",
      "Epoch 128/200\n",
      "6/6 [==============================] - 0s 8ms/step - loss: 0.4518 - accuracy: 0.9524 - val_loss: 0.4086 - val_accuracy: 1.0000\n",
      "Epoch 129/200\n",
      "6/6 [==============================] - 0s 6ms/step - loss: 0.4496 - accuracy: 0.9643 - val_loss: 0.4064 - val_accuracy: 1.0000\n",
      "Epoch 130/200\n",
      "6/6 [==============================] - 0s 7ms/step - loss: 0.4468 - accuracy: 0.9643 - val_loss: 0.4040 - val_accuracy: 1.0000\n",
      "Epoch 131/200\n",
      "6/6 [==============================] - 0s 7ms/step - loss: 0.4442 - accuracy: 0.9643 - val_loss: 0.4015 - val_accuracy: 1.0000\n",
      "Epoch 132/200\n",
      "6/6 [==============================] - 0s 7ms/step - loss: 0.4415 - accuracy: 0.9643 - val_loss: 0.3988 - val_accuracy: 1.0000\n",
      "Epoch 133/200\n",
      "6/6 [==============================] - 0s 7ms/step - loss: 0.4390 - accuracy: 0.9643 - val_loss: 0.3962 - val_accuracy: 1.0000\n",
      "Epoch 134/200\n",
      "6/6 [==============================] - 0s 8ms/step - loss: 0.4363 - accuracy: 0.9643 - val_loss: 0.3932 - val_accuracy: 1.0000\n",
      "Epoch 135/200\n",
      "6/6 [==============================] - 0s 8ms/step - loss: 0.4337 - accuracy: 0.9643 - val_loss: 0.3904 - val_accuracy: 1.0000\n",
      "Epoch 136/200\n",
      "6/6 [==============================] - 0s 7ms/step - loss: 0.4314 - accuracy: 0.9524 - val_loss: 0.3876 - val_accuracy: 1.0000\n",
      "Epoch 137/200\n",
      "6/6 [==============================] - 0s 7ms/step - loss: 0.4287 - accuracy: 0.9524 - val_loss: 0.3851 - val_accuracy: 1.0000\n",
      "Epoch 138/200\n",
      "6/6 [==============================] - 0s 7ms/step - loss: 0.4260 - accuracy: 0.9524 - val_loss: 0.3825 - val_accuracy: 1.0000\n",
      "Epoch 139/200\n",
      "6/6 [==============================] - 0s 7ms/step - loss: 0.4235 - accuracy: 0.9643 - val_loss: 0.3801 - val_accuracy: 1.0000\n",
      "Epoch 140/200\n",
      "6/6 [==============================] - 0s 6ms/step - loss: 0.4210 - accuracy: 0.9643 - val_loss: 0.3777 - val_accuracy: 1.0000\n",
      "Epoch 141/200\n",
      "6/6 [==============================] - 0s 7ms/step - loss: 0.4187 - accuracy: 0.9643 - val_loss: 0.3753 - val_accuracy: 1.0000\n",
      "Epoch 142/200\n",
      "6/6 [==============================] - 0s 7ms/step - loss: 0.4162 - accuracy: 0.9643 - val_loss: 0.3728 - val_accuracy: 1.0000\n",
      "Epoch 143/200\n",
      "6/6 [==============================] - 0s 6ms/step - loss: 0.4140 - accuracy: 0.9643 - val_loss: 0.3704 - val_accuracy: 1.0000\n",
      "Epoch 144/200\n",
      "6/6 [==============================] - 0s 8ms/step - loss: 0.4116 - accuracy: 0.9643 - val_loss: 0.3681 - val_accuracy: 1.0000\n",
      "Epoch 145/200\n",
      "6/6 [==============================] - 0s 7ms/step - loss: 0.4092 - accuracy: 0.9643 - val_loss: 0.3657 - val_accuracy: 1.0000\n",
      "Epoch 146/200\n",
      "6/6 [==============================] - 0s 9ms/step - loss: 0.4071 - accuracy: 0.9643 - val_loss: 0.3635 - val_accuracy: 1.0000\n",
      "Epoch 147/200\n",
      "6/6 [==============================] - 0s 8ms/step - loss: 0.4047 - accuracy: 0.9643 - val_loss: 0.3616 - val_accuracy: 1.0000\n",
      "Epoch 148/200\n",
      "6/6 [==============================] - 0s 7ms/step - loss: 0.4025 - accuracy: 0.9524 - val_loss: 0.3597 - val_accuracy: 1.0000\n",
      "Epoch 149/200\n",
      "6/6 [==============================] - 0s 7ms/step - loss: 0.4002 - accuracy: 0.9524 - val_loss: 0.3579 - val_accuracy: 1.0000\n",
      "Epoch 150/200\n",
      "6/6 [==============================] - 0s 8ms/step - loss: 0.3981 - accuracy: 0.9405 - val_loss: 0.3563 - val_accuracy: 1.0000\n",
      "Epoch 151/200\n",
      "6/6 [==============================] - 0s 7ms/step - loss: 0.3963 - accuracy: 0.9405 - val_loss: 0.3547 - val_accuracy: 1.0000\n",
      "Epoch 152/200\n",
      "6/6 [==============================] - 0s 7ms/step - loss: 0.3942 - accuracy: 0.9405 - val_loss: 0.3529 - val_accuracy: 1.0000\n",
      "Epoch 153/200\n",
      "6/6 [==============================] - 0s 7ms/step - loss: 0.3921 - accuracy: 0.9405 - val_loss: 0.3508 - val_accuracy: 1.0000\n",
      "Epoch 154/200\n",
      "6/6 [==============================] - 0s 7ms/step - loss: 0.3900 - accuracy: 0.9405 - val_loss: 0.3489 - val_accuracy: 1.0000\n",
      "Epoch 155/200\n",
      "6/6 [==============================] - 0s 7ms/step - loss: 0.3876 - accuracy: 0.9405 - val_loss: 0.3471 - val_accuracy: 1.0000\n",
      "Epoch 156/200\n",
      "6/6 [==============================] - 0s 8ms/step - loss: 0.3853 - accuracy: 0.9524 - val_loss: 0.3451 - val_accuracy: 1.0000\n",
      "Epoch 157/200\n",
      "6/6 [==============================] - 0s 7ms/step - loss: 0.3832 - accuracy: 0.9524 - val_loss: 0.3432 - val_accuracy: 1.0000\n",
      "Epoch 158/200\n",
      "6/6 [==============================] - 0s 7ms/step - loss: 0.3811 - accuracy: 0.9643 - val_loss: 0.3415 - val_accuracy: 1.0000\n",
      "Epoch 159/200\n",
      "6/6 [==============================] - 0s 7ms/step - loss: 0.3790 - accuracy: 0.9643 - val_loss: 0.3397 - val_accuracy: 1.0000\n",
      "Epoch 160/200\n",
      "6/6 [==============================] - 0s 7ms/step - loss: 0.3770 - accuracy: 0.9643 - val_loss: 0.3379 - val_accuracy: 1.0000\n",
      "Epoch 161/200\n",
      "6/6 [==============================] - 0s 7ms/step - loss: 0.3750 - accuracy: 0.9643 - val_loss: 0.3360 - val_accuracy: 1.0000\n",
      "Epoch 162/200\n",
      "6/6 [==============================] - 0s 7ms/step - loss: 0.3730 - accuracy: 0.9643 - val_loss: 0.3343 - val_accuracy: 1.0000\n",
      "Epoch 163/200\n",
      "6/6 [==============================] - 0s 6ms/step - loss: 0.3710 - accuracy: 0.9643 - val_loss: 0.3322 - val_accuracy: 1.0000\n",
      "Epoch 164/200\n",
      "6/6 [==============================] - 0s 7ms/step - loss: 0.3692 - accuracy: 0.9643 - val_loss: 0.3299 - val_accuracy: 1.0000\n",
      "Epoch 165/200\n",
      "6/6 [==============================] - 0s 7ms/step - loss: 0.3672 - accuracy: 0.9643 - val_loss: 0.3278 - val_accuracy: 1.0000\n",
      "Epoch 166/200\n",
      "6/6 [==============================] - 0s 7ms/step - loss: 0.3652 - accuracy: 0.9643 - val_loss: 0.3259 - val_accuracy: 1.0000\n",
      "Epoch 167/200\n",
      "6/6 [==============================] - 0s 11ms/step - loss: 0.3632 - accuracy: 0.9643 - val_loss: 0.3242 - val_accuracy: 1.0000\n",
      "Epoch 168/200\n",
      "6/6 [==============================] - 0s 7ms/step - loss: 0.3613 - accuracy: 0.9643 - val_loss: 0.3223 - val_accuracy: 1.0000\n",
      "Epoch 169/200\n",
      "6/6 [==============================] - 0s 6ms/step - loss: 0.3594 - accuracy: 0.9643 - val_loss: 0.3205 - val_accuracy: 1.0000\n",
      "Epoch 170/200\n",
      "6/6 [==============================] - 0s 7ms/step - loss: 0.3575 - accuracy: 0.9643 - val_loss: 0.3189 - val_accuracy: 1.0000\n",
      "Epoch 171/200\n",
      "6/6 [==============================] - 0s 7ms/step - loss: 0.3556 - accuracy: 0.9643 - val_loss: 0.3172 - val_accuracy: 1.0000\n",
      "Epoch 172/200\n",
      "6/6 [==============================] - 0s 7ms/step - loss: 0.3538 - accuracy: 0.9643 - val_loss: 0.3157 - val_accuracy: 1.0000\n",
      "Epoch 173/200\n",
      "6/6 [==============================] - 0s 7ms/step - loss: 0.3520 - accuracy: 0.9643 - val_loss: 0.3141 - val_accuracy: 1.0000\n",
      "Epoch 174/200\n",
      "6/6 [==============================] - 0s 6ms/step - loss: 0.3501 - accuracy: 0.9643 - val_loss: 0.3125 - val_accuracy: 1.0000\n",
      "Epoch 175/200\n",
      "6/6 [==============================] - 0s 7ms/step - loss: 0.3483 - accuracy: 0.9643 - val_loss: 0.3106 - val_accuracy: 1.0000\n",
      "Epoch 176/200\n",
      "6/6 [==============================] - 0s 7ms/step - loss: 0.3463 - accuracy: 0.9643 - val_loss: 0.3088 - val_accuracy: 1.0000\n",
      "Epoch 177/200\n",
      "6/6 [==============================] - 0s 7ms/step - loss: 0.3449 - accuracy: 0.9762 - val_loss: 0.3071 - val_accuracy: 1.0000\n",
      "Epoch 178/200\n",
      "6/6 [==============================] - 0s 7ms/step - loss: 0.3430 - accuracy: 0.9762 - val_loss: 0.3056 - val_accuracy: 1.0000\n",
      "Epoch 179/200\n",
      "6/6 [==============================] - 0s 7ms/step - loss: 0.3412 - accuracy: 0.9762 - val_loss: 0.3040 - val_accuracy: 1.0000\n",
      "Epoch 180/200\n",
      "6/6 [==============================] - 0s 7ms/step - loss: 0.3395 - accuracy: 0.9643 - val_loss: 0.3024 - val_accuracy: 1.0000\n",
      "Epoch 181/200\n",
      "6/6 [==============================] - 0s 6ms/step - loss: 0.3380 - accuracy: 0.9643 - val_loss: 0.3010 - val_accuracy: 1.0000\n",
      "Epoch 182/200\n",
      "6/6 [==============================] - 0s 6ms/step - loss: 0.3362 - accuracy: 0.9643 - val_loss: 0.2994 - val_accuracy: 1.0000\n",
      "Epoch 183/200\n",
      "6/6 [==============================] - 0s 7ms/step - loss: 0.3345 - accuracy: 0.9643 - val_loss: 0.2979 - val_accuracy: 1.0000\n",
      "Epoch 184/200\n",
      "6/6 [==============================] - 0s 8ms/step - loss: 0.3328 - accuracy: 0.9643 - val_loss: 0.2964 - val_accuracy: 1.0000\n",
      "Epoch 185/200\n",
      "6/6 [==============================] - 0s 7ms/step - loss: 0.3311 - accuracy: 0.9643 - val_loss: 0.2950 - val_accuracy: 1.0000\n",
      "Epoch 186/200\n",
      "6/6 [==============================] - 0s 8ms/step - loss: 0.3295 - accuracy: 0.9643 - val_loss: 0.2938 - val_accuracy: 1.0000\n",
      "Epoch 187/200\n",
      "6/6 [==============================] - 0s 7ms/step - loss: 0.3278 - accuracy: 0.9643 - val_loss: 0.2925 - val_accuracy: 1.0000\n",
      "Epoch 188/200\n",
      "6/6 [==============================] - 0s 10ms/step - loss: 0.3262 - accuracy: 0.9643 - val_loss: 0.2911 - val_accuracy: 1.0000\n",
      "Epoch 189/200\n",
      "6/6 [==============================] - 0s 8ms/step - loss: 0.3245 - accuracy: 0.9643 - val_loss: 0.2898 - val_accuracy: 1.0000\n",
      "Epoch 190/200\n",
      "6/6 [==============================] - 0s 6ms/step - loss: 0.3230 - accuracy: 0.9643 - val_loss: 0.2883 - val_accuracy: 1.0000\n",
      "Epoch 191/200\n",
      "6/6 [==============================] - 0s 7ms/step - loss: 0.3214 - accuracy: 0.9762 - val_loss: 0.2868 - val_accuracy: 1.0000\n",
      "Epoch 192/200\n",
      "6/6 [==============================] - 0s 7ms/step - loss: 0.3198 - accuracy: 0.9762 - val_loss: 0.2853 - val_accuracy: 1.0000\n",
      "Epoch 193/200\n",
      "6/6 [==============================] - 0s 7ms/step - loss: 0.3182 - accuracy: 0.9643 - val_loss: 0.2839 - val_accuracy: 1.0000\n",
      "Epoch 194/200\n",
      "6/6 [==============================] - 0s 7ms/step - loss: 0.3169 - accuracy: 0.9643 - val_loss: 0.2828 - val_accuracy: 1.0000\n",
      "Epoch 195/200\n",
      "6/6 [==============================] - 0s 7ms/step - loss: 0.3150 - accuracy: 0.9762 - val_loss: 0.2814 - val_accuracy: 1.0000\n",
      "Epoch 196/200\n",
      "6/6 [==============================] - 0s 7ms/step - loss: 0.3135 - accuracy: 0.9762 - val_loss: 0.2799 - val_accuracy: 1.0000\n",
      "Epoch 197/200\n",
      "6/6 [==============================] - 0s 6ms/step - loss: 0.3119 - accuracy: 0.9762 - val_loss: 0.2785 - val_accuracy: 1.0000\n",
      "Epoch 198/200\n",
      "6/6 [==============================] - 0s 7ms/step - loss: 0.3103 - accuracy: 0.9762 - val_loss: 0.2771 - val_accuracy: 1.0000\n",
      "Epoch 199/200\n",
      "6/6 [==============================] - 0s 7ms/step - loss: 0.3089 - accuracy: 0.9881 - val_loss: 0.2757 - val_accuracy: 1.0000\n",
      "Epoch 200/200\n",
      "6/6 [==============================] - 0s 7ms/step - loss: 0.3074 - accuracy: 0.9881 - val_loss: 0.2745 - val_accuracy: 0.9524\n"
     ]
    }
   ],
   "source": [
    "tf_fit = model.fit(\n",
    "    x=X_train_std, y=y_train, batch_size=16, validation_split=0.2, epochs=200, verbose=1\n",
    ")"
   ]
  },
  {
   "cell_type": "code",
   "execution_count": 8,
   "metadata": {},
   "outputs": [
    {
     "data": {
      "text/html": [
       "<div>\n",
       "<style scoped>\n",
       "    .dataframe tbody tr th:only-of-type {\n",
       "        vertical-align: middle;\n",
       "    }\n",
       "\n",
       "    .dataframe tbody tr th {\n",
       "        vertical-align: top;\n",
       "    }\n",
       "\n",
       "    .dataframe thead th {\n",
       "        text-align: right;\n",
       "    }\n",
       "</style>\n",
       "<table border=\"1\" class=\"dataframe\">\n",
       "  <thead>\n",
       "    <tr style=\"text-align: right;\">\n",
       "      <th></th>\n",
       "      <th>loss</th>\n",
       "      <th>accuracy</th>\n",
       "      <th>val_loss</th>\n",
       "      <th>val_accuracy</th>\n",
       "    </tr>\n",
       "  </thead>\n",
       "  <tbody>\n",
       "    <tr>\n",
       "      <th>0</th>\n",
       "      <td>1.210553</td>\n",
       "      <td>0.345238</td>\n",
       "      <td>1.273513</td>\n",
       "      <td>0.285714</td>\n",
       "    </tr>\n",
       "    <tr>\n",
       "      <th>1</th>\n",
       "      <td>1.189110</td>\n",
       "      <td>0.345238</td>\n",
       "      <td>1.258493</td>\n",
       "      <td>0.285714</td>\n",
       "    </tr>\n",
       "    <tr>\n",
       "      <th>2</th>\n",
       "      <td>1.171373</td>\n",
       "      <td>0.345238</td>\n",
       "      <td>1.237728</td>\n",
       "      <td>0.285714</td>\n",
       "    </tr>\n",
       "    <tr>\n",
       "      <th>3</th>\n",
       "      <td>1.155546</td>\n",
       "      <td>0.345238</td>\n",
       "      <td>1.218429</td>\n",
       "      <td>0.285714</td>\n",
       "    </tr>\n",
       "    <tr>\n",
       "      <th>4</th>\n",
       "      <td>1.138052</td>\n",
       "      <td>0.345238</td>\n",
       "      <td>1.200062</td>\n",
       "      <td>0.285714</td>\n",
       "    </tr>\n",
       "  </tbody>\n",
       "</table>\n",
       "</div>"
      ],
      "text/plain": [
       "       loss  accuracy  val_loss  val_accuracy\n",
       "0  1.210553  0.345238  1.273513      0.285714\n",
       "1  1.189110  0.345238  1.258493      0.285714\n",
       "2  1.171373  0.345238  1.237728      0.285714\n",
       "3  1.155546  0.345238  1.218429      0.285714\n",
       "4  1.138052  0.345238  1.200062      0.285714"
      ]
     },
     "execution_count": 8,
     "metadata": {},
     "output_type": "execute_result"
    }
   ],
   "source": [
    "# Inspect the training history\n",
    "df = pd.DataFrame(tf_fit.history)\n",
    "df.head()"
   ]
  },
  {
   "cell_type": "code",
   "execution_count": 9,
   "metadata": {},
   "outputs": [
    {
     "data": {
      "text/plain": [
       "<Axes: title={'center': 'Loss'}, xlabel='Epoch', ylabel='Loss'>"
      ]
     },
     "execution_count": 9,
     "metadata": {},
     "output_type": "execute_result"
    },
    {
     "data": {
      "image/png": "[encoded data removed]",
      "text/plain": [
       "<Figure size 1200x500 with 2 Axes>"
      ]
     },
     "metadata": {},
     "output_type": "display_data"
    }
   ],
   "source": [
    "fig, axes = plt.subplots(nrows=1, ncols=2, figsize=(12, 5))\n",
    "\n",
    "df[[\"loss\", \"val_loss\"]].plot(\n",
    "    ax=axes[0], title=\"Loss\", grid=True, legend=True, xlabel=\"Epoch\", ylabel=\"Loss\"\n",
    ")\n",
    "\n",
    "df[[\"accuracy\", \"val_accuracy\"]].plot(\n",
    "    ax=axes[1], title=\"Loss\", grid=True, legend=True, xlabel=\"Epoch\", ylabel=\"Loss\"\n",
    ")"
   ]
  },
  {
   "cell_type": "markdown",
   "metadata": {},
   "source": [
    "## Model evaluation\n"
   ]
  },
  {
   "cell_type": "code",
   "execution_count": 10,
   "metadata": {},
   "outputs": [
    {
     "name": "stdout",
     "output_type": "stream",
     "text": [
      "Test loss: 0.3337   Test Acc.: 0.9556\n"
     ]
    }
   ],
   "source": [
    "results = model.evaluate(X_test_std, y_test, verbose=0)\n",
    "print(f\"Test loss: {results[0]:.4f}   Test Acc.: {results[1]:.4f}\")"
   ]
  },
  {
   "cell_type": "markdown",
   "metadata": {},
   "source": [
    "## Prediction\n"
   ]
  },
  {
   "cell_type": "code",
   "execution_count": 11,
   "metadata": {},
   "outputs": [
    {
     "name": "stdout",
     "output_type": "stream",
     "text": [
      "[[0.00233146 0.21086235 0.78680617]\n",
      " [0.8650973  0.1335517  0.00135099]\n",
      " [0.8709204  0.1278232  0.00125635]]\n"
     ]
    }
   ],
   "source": [
    "y_hat = model(X_test_std[:3])\n",
    "print(y_hat.numpy())"
   ]
  },
  {
   "cell_type": "code",
   "execution_count": 12,
   "metadata": {},
   "outputs": [
    {
     "data": {
      "image/png": "[encoded data removed]",
      "text/plain": [
       "<Figure size 640x480 with 1 Axes>"
      ]
     },
     "metadata": {},
     "output_type": "display_data"
    }
   ],
   "source": [
    "yp = y_hat.numpy()[0]\n",
    "xp = list(range(yp.shape[0]))\n",
    "plt.bar(xp, yp)\n",
    "plt.title(\"Softmax Values\")\n",
    "plt.show()"
   ]
  },
  {
   "cell_type": "code",
   "execution_count": 13,
   "metadata": {},
   "outputs": [
    {
     "data": {
      "text/plain": [
       "array([2, 0, 0], dtype=int64)"
      ]
     },
     "execution_count": 13,
     "metadata": {},
     "output_type": "execute_result"
    }
   ],
   "source": [
    "np.argmax(y_hat, axis=1)"
   ]
  },
  {
   "cell_type": "markdown",
   "metadata": {},
   "source": [
    "## Decision surface\n"
   ]
  },
  {
   "cell_type": "code",
   "execution_count": 14,
   "metadata": {},
   "outputs": [
    {
     "name": "stdout",
     "output_type": "stream",
     "text": [
      "313/313 [==============================] - 0s 877us/step\n"
     ]
    },
    {
     "data": {
      "image/png": "[encoded data removed]",
      "text/plain": [
       "<Figure size 600x500 with 1 Axes>"
      ]
     },
     "metadata": {},
     "output_type": "display_data"
    }
   ],
   "source": [
    "XP = sc.transform(X)\n",
    "x_min = XP[:, 0].min() - 0.1\n",
    "x_max = XP[:, 0].max() + 0.1\n",
    "y_min = XP[:, 1].min() - 0.1\n",
    "y_max = XP[:, 1].max() + 0.1\n",
    "\n",
    "xx, yy = np.meshgrid(np.linspace(x_min, x_max, 100), np.linspace(y_min, y_max, 100))\n",
    "f, ax = plt.subplots(1, 1, figsize=(6, 5))\n",
    "Z = model.predict(np.c_[xx.ravel(), yy.ravel()])\n",
    "Z = np.argmax(Z, axis=1)  # Find the class label\n",
    "Z = Z.reshape(xx.shape)\n",
    "\n",
    "ax.contourf(xx, yy, Z, alpha=0.3)\n",
    "markers = (\"s\", \"^\", \"o\", \"v\", \"x\")\n",
    "for idx, lb in enumerate(np.unique(y_test)):\n",
    "    ax.scatter(\n",
    "        X_test_std[y_test == lb, 0],\n",
    "        X_test_std[y_test == lb, 1],\n",
    "        marker=markers[idx],\n",
    "        s=50,\n",
    "    )\n",
    "\n",
    "ax.set_title(\"ANN\")\n",
    "ax.set_xlabel(\"X1\")\n",
    "ax.set_ylabel(\"X2\")\n",
    "plt.tight_layout(pad=3.0)\n",
    "plt.show()"
   ]
  }
 ],
 "metadata": {
  "kernelspec": {
   "display_name": "Python 3.9.12 ('tf')",
   "language": "python",
   "name": "python3"
  },
  "language_info": {
   "codemirror_mode": {
    "name": "ipython",
    "version": 3
   },
   "file_extension": ".py",
   "mimetype": "text/x-python",
   "name": "python",
   "nbconvert_exporter": "python",
   "pygments_lexer": "ipython3",
   "version": "3.11.8"
  },
  "orig_nbformat": 4,
  "vscode": {
   "interpreter": {
    "hash": "3f531f38061d288ff7109e336294c007d5438e97f3aa4943df1d0053d1256d75"
   }
  }
 },
 "nbformat": 4,
 "nbformat_minor": 2
}
