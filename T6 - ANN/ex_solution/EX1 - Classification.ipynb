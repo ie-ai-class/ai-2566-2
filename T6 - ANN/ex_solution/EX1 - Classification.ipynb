{
 "cells": [
  {
   "cell_type": "markdown",
   "metadata": {},
   "source": [
    "# Iris dataset"
   ]
  },
  {
   "cell_type": "code",
   "execution_count": 1,
   "metadata": {},
   "outputs": [],
   "source": [
    "import tensorflow as tf\n",
    "from sklearn import datasets\n",
    "from sklearn.model_selection import train_test_split\n",
    "from sklearn.preprocessing import StandardScaler\n",
    "import matplotlib.pyplot as plt"
   ]
  },
  {
   "cell_type": "code",
   "execution_count": 2,
   "metadata": {},
   "outputs": [],
   "source": [
    "# Read data\n",
    "iris = datasets.load_iris()\n",
    "\n",
    "X = iris.data\n",
    "y = iris.target\n",
    "# Split data into training and testing data\n",
    "X_train, X_test, y_train, y_test = train_test_split(\n",
    "    X, y, test_size=0.3, random_state=1, stratify=y\n",
    ")\n",
    "# Standardization\n",
    "sc = StandardScaler()\n",
    "sc.fit(X_train)\n",
    "X_train_std = sc.transform(X_train)\n",
    "X_test_std = sc.transform(X_test)"
   ]
  },
  {
   "cell_type": "code",
   "execution_count": 3,
   "metadata": {},
   "outputs": [
    {
     "name": "stdout",
     "output_type": "stream",
     "text": [
      "Model: \"sequential\"\n",
      "_________________________________________________________________\n",
      "Layer (type)                 Output Shape              Param #   \n",
      "=================================================================\n",
      "hidden1 (Dense)              (None, 16)                80        \n",
      "_________________________________________________________________\n",
      "output (Dense)               (None, 3)                 51        \n",
      "=================================================================\n",
      "Total params: 131\n",
      "Trainable params: 131\n",
      "Non-trainable params: 0\n",
      "_________________________________________________________________\n"
     ]
    }
   ],
   "source": [
    "tf.keras.backend.clear_session()\n",
    "\n",
    "model = tf.keras.Sequential([\n",
    "    tf.keras.layers.InputLayer(input_shape=(4,)),\n",
    "    tf.keras.layers.Dense(units=16, activation='sigmoid', name='hidden1'),\n",
    "    tf.keras.layers.Dense(units=3, name='output', activation='softmax')\n",
    "    ])\n",
    "\n",
    "model.summary()\n",
    "\n",
    "model.compile(\n",
    "    optimizer='adam',\n",
    "    loss='sparse_categorical_crossentropy',\n",
    "    metrics=['accuracy'])"
   ]
  },
  {
   "cell_type": "code",
   "execution_count": 4,
   "metadata": {},
   "outputs": [
    {
     "name": "stdout",
     "output_type": "stream",
     "text": [
      "Epoch 1/100\n",
      "6/6 [==============================] - 1s 42ms/step - loss: 0.9764 - accuracy: 0.6596 - val_loss: 0.9322 - val_accuracy: 0.7273\n",
      "Epoch 2/100\n",
      "6/6 [==============================] - 0s 5ms/step - loss: 0.9612 - accuracy: 0.6596 - val_loss: 0.9154 - val_accuracy: 0.7273\n",
      "Epoch 3/100\n",
      "6/6 [==============================] - 0s 5ms/step - loss: 0.9468 - accuracy: 0.6596 - val_loss: 0.9028 - val_accuracy: 0.7273\n",
      "Epoch 4/100\n",
      "6/6 [==============================] - 0s 5ms/step - loss: 0.9335 - accuracy: 0.6596 - val_loss: 0.8886 - val_accuracy: 0.7273\n",
      "Epoch 5/100\n",
      "6/6 [==============================] - 0s 5ms/step - loss: 0.9207 - accuracy: 0.6596 - val_loss: 0.8739 - val_accuracy: 0.7273\n",
      "Epoch 6/100\n",
      "6/6 [==============================] - 0s 5ms/step - loss: 0.9083 - accuracy: 0.6596 - val_loss: 0.8598 - val_accuracy: 0.7273\n",
      "Epoch 7/100\n",
      "6/6 [==============================] - 0s 5ms/step - loss: 0.8962 - accuracy: 0.6596 - val_loss: 0.8474 - val_accuracy: 0.7273\n",
      "Epoch 8/100\n",
      "6/6 [==============================] - 0s 4ms/step - loss: 0.8840 - accuracy: 0.6596 - val_loss: 0.8340 - val_accuracy: 0.7273\n",
      "Epoch 9/100\n",
      "6/6 [==============================] - 0s 4ms/step - loss: 0.8729 - accuracy: 0.6596 - val_loss: 0.8197 - val_accuracy: 0.7273\n",
      "Epoch 10/100\n",
      "6/6 [==============================] - 0s 4ms/step - loss: 0.8607 - accuracy: 0.6596 - val_loss: 0.8092 - val_accuracy: 0.7273\n",
      "Epoch 11/100\n",
      "6/6 [==============================] - 0s 5ms/step - loss: 0.8495 - accuracy: 0.6809 - val_loss: 0.7957 - val_accuracy: 0.7273\n",
      "Epoch 12/100\n",
      "6/6 [==============================] - 0s 5ms/step - loss: 0.8382 - accuracy: 0.7128 - val_loss: 0.7844 - val_accuracy: 0.7273\n",
      "Epoch 13/100\n",
      "6/6 [==============================] - 0s 4ms/step - loss: 0.8270 - accuracy: 0.7340 - val_loss: 0.7719 - val_accuracy: 0.7273\n",
      "Epoch 14/100\n",
      "6/6 [==============================] - 0s 5ms/step - loss: 0.8159 - accuracy: 0.7660 - val_loss: 0.7602 - val_accuracy: 0.7273\n",
      "Epoch 15/100\n",
      "6/6 [==============================] - 0s 4ms/step - loss: 0.8051 - accuracy: 0.8085 - val_loss: 0.7481 - val_accuracy: 0.7273\n",
      "Epoch 16/100\n",
      "6/6 [==============================] - 0s 5ms/step - loss: 0.7942 - accuracy: 0.8191 - val_loss: 0.7373 - val_accuracy: 0.7273\n",
      "Epoch 17/100\n",
      "6/6 [==============================] - 0s 5ms/step - loss: 0.7836 - accuracy: 0.8298 - val_loss: 0.7270 - val_accuracy: 0.8182\n",
      "Epoch 18/100\n",
      "6/6 [==============================] - 0s 5ms/step - loss: 0.7735 - accuracy: 0.8404 - val_loss: 0.7132 - val_accuracy: 0.8182\n",
      "Epoch 19/100\n",
      "6/6 [==============================] - 0s 4ms/step - loss: 0.7629 - accuracy: 0.8404 - val_loss: 0.7022 - val_accuracy: 0.8182\n",
      "Epoch 20/100\n",
      "6/6 [==============================] - 0s 5ms/step - loss: 0.7527 - accuracy: 0.8511 - val_loss: 0.6903 - val_accuracy: 0.8182\n",
      "Epoch 21/100\n",
      "6/6 [==============================] - 0s 5ms/step - loss: 0.7424 - accuracy: 0.8511 - val_loss: 0.6805 - val_accuracy: 0.8182\n",
      "Epoch 22/100\n",
      "6/6 [==============================] - 0s 5ms/step - loss: 0.7326 - accuracy: 0.8511 - val_loss: 0.6697 - val_accuracy: 0.8182\n",
      "Epoch 23/100\n",
      "6/6 [==============================] - 0s 5ms/step - loss: 0.7232 - accuracy: 0.8511 - val_loss: 0.6607 - val_accuracy: 0.8182\n",
      "Epoch 24/100\n",
      "6/6 [==============================] - 0s 5ms/step - loss: 0.7135 - accuracy: 0.8511 - val_loss: 0.6491 - val_accuracy: 0.8182\n",
      "Epoch 25/100\n",
      "6/6 [==============================] - 0s 5ms/step - loss: 0.7039 - accuracy: 0.8511 - val_loss: 0.6392 - val_accuracy: 0.8182\n",
      "Epoch 26/100\n",
      "6/6 [==============================] - 0s 5ms/step - loss: 0.6948 - accuracy: 0.8511 - val_loss: 0.6293 - val_accuracy: 0.8182\n",
      "Epoch 27/100\n",
      "6/6 [==============================] - 0s 5ms/step - loss: 0.6858 - accuracy: 0.8511 - val_loss: 0.6208 - val_accuracy: 0.8182\n",
      "Epoch 28/100\n",
      "6/6 [==============================] - 0s 5ms/step - loss: 0.6769 - accuracy: 0.8511 - val_loss: 0.6113 - val_accuracy: 0.8182\n",
      "Epoch 29/100\n",
      "6/6 [==============================] - 0s 5ms/step - loss: 0.6683 - accuracy: 0.8511 - val_loss: 0.6016 - val_accuracy: 0.8182\n",
      "Epoch 30/100\n",
      "6/6 [==============================] - 0s 5ms/step - loss: 0.6595 - accuracy: 0.8617 - val_loss: 0.5939 - val_accuracy: 0.8182\n",
      "Epoch 31/100\n",
      "6/6 [==============================] - 0s 5ms/step - loss: 0.6509 - accuracy: 0.8723 - val_loss: 0.5860 - val_accuracy: 0.8182\n",
      "Epoch 32/100\n",
      "6/6 [==============================] - 0s 5ms/step - loss: 0.6429 - accuracy: 0.8723 - val_loss: 0.5784 - val_accuracy: 0.8182\n",
      "Epoch 33/100\n",
      "6/6 [==============================] - 0s 5ms/step - loss: 0.6348 - accuracy: 0.8723 - val_loss: 0.5695 - val_accuracy: 0.8182\n",
      "Epoch 34/100\n",
      "6/6 [==============================] - 0s 5ms/step - loss: 0.6268 - accuracy: 0.8723 - val_loss: 0.5605 - val_accuracy: 0.8182\n",
      "Epoch 35/100\n",
      "6/6 [==============================] - 0s 5ms/step - loss: 0.6190 - accuracy: 0.8723 - val_loss: 0.5527 - val_accuracy: 0.8182\n",
      "Epoch 36/100\n",
      "6/6 [==============================] - 0s 5ms/step - loss: 0.6114 - accuracy: 0.8723 - val_loss: 0.5454 - val_accuracy: 0.8182\n",
      "Epoch 37/100\n",
      "6/6 [==============================] - 0s 5ms/step - loss: 0.6042 - accuracy: 0.8723 - val_loss: 0.5378 - val_accuracy: 0.8182\n",
      "Epoch 38/100\n",
      "6/6 [==============================] - 0s 5ms/step - loss: 0.5968 - accuracy: 0.8723 - val_loss: 0.5307 - val_accuracy: 0.8182\n",
      "Epoch 39/100\n",
      "6/6 [==============================] - 0s 5ms/step - loss: 0.5898 - accuracy: 0.8723 - val_loss: 0.5234 - val_accuracy: 0.8182\n",
      "Epoch 40/100\n",
      "6/6 [==============================] - 0s 5ms/step - loss: 0.5828 - accuracy: 0.8723 - val_loss: 0.5171 - val_accuracy: 0.9091\n",
      "Epoch 41/100\n",
      "6/6 [==============================] - 0s 5ms/step - loss: 0.5760 - accuracy: 0.8723 - val_loss: 0.5113 - val_accuracy: 0.9091\n",
      "Epoch 42/100\n",
      "6/6 [==============================] - 0s 5ms/step - loss: 0.5693 - accuracy: 0.8723 - val_loss: 0.5049 - val_accuracy: 0.9091\n",
      "Epoch 43/100\n",
      "6/6 [==============================] - 0s 5ms/step - loss: 0.5630 - accuracy: 0.8723 - val_loss: 0.4979 - val_accuracy: 0.9091\n",
      "Epoch 44/100\n",
      "6/6 [==============================] - 0s 5ms/step - loss: 0.5567 - accuracy: 0.8723 - val_loss: 0.4922 - val_accuracy: 0.9091\n",
      "Epoch 45/100\n",
      "6/6 [==============================] - 0s 5ms/step - loss: 0.5505 - accuracy: 0.8723 - val_loss: 0.4873 - val_accuracy: 0.9091\n",
      "Epoch 46/100\n",
      "6/6 [==============================] - 0s 5ms/step - loss: 0.5446 - accuracy: 0.8723 - val_loss: 0.4818 - val_accuracy: 0.9091\n",
      "Epoch 47/100\n",
      "6/6 [==============================] - 0s 5ms/step - loss: 0.5385 - accuracy: 0.8723 - val_loss: 0.4759 - val_accuracy: 0.9091\n",
      "Epoch 48/100\n",
      "6/6 [==============================] - 0s 5ms/step - loss: 0.5328 - accuracy: 0.8830 - val_loss: 0.4708 - val_accuracy: 0.9091\n",
      "Epoch 49/100\n",
      "6/6 [==============================] - 0s 5ms/step - loss: 0.5271 - accuracy: 0.8830 - val_loss: 0.4658 - val_accuracy: 0.9091\n",
      "Epoch 50/100\n",
      "6/6 [==============================] - 0s 5ms/step - loss: 0.5217 - accuracy: 0.8830 - val_loss: 0.4602 - val_accuracy: 0.9091\n",
      "Epoch 51/100\n",
      "6/6 [==============================] - 0s 5ms/step - loss: 0.5163 - accuracy: 0.8830 - val_loss: 0.4560 - val_accuracy: 0.9091\n",
      "Epoch 52/100\n",
      "6/6 [==============================] - 0s 5ms/step - loss: 0.5109 - accuracy: 0.8830 - val_loss: 0.4508 - val_accuracy: 0.9091\n",
      "Epoch 53/100\n",
      "6/6 [==============================] - 0s 5ms/step - loss: 0.5060 - accuracy: 0.9043 - val_loss: 0.4453 - val_accuracy: 0.9091\n",
      "Epoch 54/100\n",
      "6/6 [==============================] - 0s 5ms/step - loss: 0.5012 - accuracy: 0.8936 - val_loss: 0.4424 - val_accuracy: 0.9091\n",
      "Epoch 55/100\n",
      "6/6 [==============================] - 0s 5ms/step - loss: 0.4961 - accuracy: 0.8936 - val_loss: 0.4375 - val_accuracy: 0.9091\n",
      "Epoch 56/100\n",
      "6/6 [==============================] - 0s 5ms/step - loss: 0.4912 - accuracy: 0.9043 - val_loss: 0.4332 - val_accuracy: 0.9091\n",
      "Epoch 57/100\n",
      "6/6 [==============================] - 0s 5ms/step - loss: 0.4862 - accuracy: 0.9043 - val_loss: 0.4292 - val_accuracy: 0.9091\n",
      "Epoch 58/100\n",
      "6/6 [==============================] - 0s 5ms/step - loss: 0.4816 - accuracy: 0.9043 - val_loss: 0.4254 - val_accuracy: 0.9091\n",
      "Epoch 59/100\n",
      "6/6 [==============================] - 0s 5ms/step - loss: 0.4771 - accuracy: 0.9043 - val_loss: 0.4209 - val_accuracy: 0.9091\n",
      "Epoch 60/100\n",
      "6/6 [==============================] - 0s 5ms/step - loss: 0.4728 - accuracy: 0.9043 - val_loss: 0.4167 - val_accuracy: 0.9091\n",
      "Epoch 61/100\n",
      "6/6 [==============================] - 0s 5ms/step - loss: 0.4686 - accuracy: 0.9043 - val_loss: 0.4133 - val_accuracy: 0.9091\n",
      "Epoch 62/100\n",
      "6/6 [==============================] - 0s 5ms/step - loss: 0.4642 - accuracy: 0.9043 - val_loss: 0.4097 - val_accuracy: 0.9091\n",
      "Epoch 63/100\n",
      "6/6 [==============================] - 0s 5ms/step - loss: 0.4600 - accuracy: 0.9043 - val_loss: 0.4059 - val_accuracy: 0.9091\n",
      "Epoch 64/100\n",
      "6/6 [==============================] - 0s 5ms/step - loss: 0.4560 - accuracy: 0.9043 - val_loss: 0.4030 - val_accuracy: 0.9091\n",
      "Epoch 65/100\n",
      "6/6 [==============================] - 0s 5ms/step - loss: 0.4520 - accuracy: 0.9043 - val_loss: 0.3993 - val_accuracy: 0.9091\n",
      "Epoch 66/100\n",
      "6/6 [==============================] - 0s 5ms/step - loss: 0.4482 - accuracy: 0.9043 - val_loss: 0.3958 - val_accuracy: 0.9091\n",
      "Epoch 67/100\n",
      "6/6 [==============================] - 0s 5ms/step - loss: 0.4442 - accuracy: 0.9043 - val_loss: 0.3929 - val_accuracy: 0.9091\n",
      "Epoch 68/100\n",
      "6/6 [==============================] - 0s 5ms/step - loss: 0.4405 - accuracy: 0.9043 - val_loss: 0.3896 - val_accuracy: 0.9091\n",
      "Epoch 69/100\n",
      "6/6 [==============================] - 0s 5ms/step - loss: 0.4370 - accuracy: 0.9043 - val_loss: 0.3868 - val_accuracy: 0.9091\n",
      "Epoch 70/100\n",
      "6/6 [==============================] - 0s 4ms/step - loss: 0.4331 - accuracy: 0.9043 - val_loss: 0.3839 - val_accuracy: 0.9091\n",
      "Epoch 71/100\n",
      "6/6 [==============================] - 0s 5ms/step - loss: 0.4298 - accuracy: 0.9043 - val_loss: 0.3821 - val_accuracy: 0.9091\n",
      "Epoch 72/100\n",
      "6/6 [==============================] - 0s 5ms/step - loss: 0.4264 - accuracy: 0.9043 - val_loss: 0.3789 - val_accuracy: 0.9091\n",
      "Epoch 73/100\n",
      "6/6 [==============================] - 0s 5ms/step - loss: 0.4228 - accuracy: 0.9043 - val_loss: 0.3767 - val_accuracy: 0.9091\n",
      "Epoch 74/100\n",
      "6/6 [==============================] - 0s 5ms/step - loss: 0.4193 - accuracy: 0.9043 - val_loss: 0.3739 - val_accuracy: 0.9091\n",
      "Epoch 75/100\n",
      "6/6 [==============================] - 0s 5ms/step - loss: 0.4160 - accuracy: 0.9043 - val_loss: 0.3717 - val_accuracy: 0.9091\n",
      "Epoch 76/100\n",
      "6/6 [==============================] - 0s 5ms/step - loss: 0.4130 - accuracy: 0.9043 - val_loss: 0.3691 - val_accuracy: 0.9091\n",
      "Epoch 77/100\n",
      "6/6 [==============================] - 0s 5ms/step - loss: 0.4101 - accuracy: 0.9043 - val_loss: 0.3663 - val_accuracy: 0.9091\n",
      "Epoch 78/100\n",
      "6/6 [==============================] - 0s 5ms/step - loss: 0.4066 - accuracy: 0.9043 - val_loss: 0.3644 - val_accuracy: 0.9091\n",
      "Epoch 79/100\n",
      "6/6 [==============================] - 0s 5ms/step - loss: 0.4036 - accuracy: 0.9043 - val_loss: 0.3619 - val_accuracy: 0.9091\n",
      "Epoch 80/100\n",
      "6/6 [==============================] - 0s 5ms/step - loss: 0.4006 - accuracy: 0.9043 - val_loss: 0.3595 - val_accuracy: 0.9091\n",
      "Epoch 81/100\n",
      "6/6 [==============================] - 0s 5ms/step - loss: 0.3976 - accuracy: 0.9043 - val_loss: 0.3576 - val_accuracy: 0.9091\n",
      "Epoch 82/100\n",
      "6/6 [==============================] - 0s 5ms/step - loss: 0.3949 - accuracy: 0.9043 - val_loss: 0.3559 - val_accuracy: 0.9091\n",
      "Epoch 83/100\n",
      "6/6 [==============================] - 0s 5ms/step - loss: 0.3921 - accuracy: 0.9043 - val_loss: 0.3530 - val_accuracy: 0.9091\n",
      "Epoch 84/100\n",
      "6/6 [==============================] - 0s 5ms/step - loss: 0.3892 - accuracy: 0.9043 - val_loss: 0.3513 - val_accuracy: 0.9091\n",
      "Epoch 85/100\n",
      "6/6 [==============================] - 0s 5ms/step - loss: 0.3864 - accuracy: 0.9043 - val_loss: 0.3492 - val_accuracy: 0.9091\n",
      "Epoch 86/100\n",
      "6/6 [==============================] - 0s 5ms/step - loss: 0.3837 - accuracy: 0.9043 - val_loss: 0.3468 - val_accuracy: 0.9091\n",
      "Epoch 87/100\n",
      "6/6 [==============================] - 0s 5ms/step - loss: 0.3810 - accuracy: 0.9043 - val_loss: 0.3450 - val_accuracy: 0.9091\n",
      "Epoch 88/100\n",
      "6/6 [==============================] - 0s 5ms/step - loss: 0.3787 - accuracy: 0.9043 - val_loss: 0.3441 - val_accuracy: 0.9091\n",
      "Epoch 89/100\n",
      "6/6 [==============================] - 0s 5ms/step - loss: 0.3759 - accuracy: 0.9043 - val_loss: 0.3411 - val_accuracy: 0.9091\n",
      "Epoch 90/100\n",
      "6/6 [==============================] - 0s 5ms/step - loss: 0.3734 - accuracy: 0.9043 - val_loss: 0.3396 - val_accuracy: 0.9091\n",
      "Epoch 91/100\n",
      "6/6 [==============================] - 0s 5ms/step - loss: 0.3709 - accuracy: 0.9043 - val_loss: 0.3370 - val_accuracy: 0.9091\n",
      "Epoch 92/100\n",
      "6/6 [==============================] - 0s 5ms/step - loss: 0.3683 - accuracy: 0.9043 - val_loss: 0.3355 - val_accuracy: 0.9091\n",
      "Epoch 93/100\n",
      "6/6 [==============================] - 0s 5ms/step - loss: 0.3661 - accuracy: 0.9043 - val_loss: 0.3337 - val_accuracy: 0.9091\n",
      "Epoch 94/100\n",
      "6/6 [==============================] - 0s 5ms/step - loss: 0.3635 - accuracy: 0.9043 - val_loss: 0.3319 - val_accuracy: 0.9091\n",
      "Epoch 95/100\n",
      "6/6 [==============================] - 0s 5ms/step - loss: 0.3613 - accuracy: 0.9149 - val_loss: 0.3302 - val_accuracy: 0.9091\n",
      "Epoch 96/100\n",
      "6/6 [==============================] - 0s 5ms/step - loss: 0.3588 - accuracy: 0.9043 - val_loss: 0.3287 - val_accuracy: 0.9091\n",
      "Epoch 97/100\n",
      "6/6 [==============================] - 0s 5ms/step - loss: 0.3568 - accuracy: 0.9043 - val_loss: 0.3279 - val_accuracy: 0.9091\n",
      "Epoch 98/100\n",
      "6/6 [==============================] - 0s 4ms/step - loss: 0.3544 - accuracy: 0.9043 - val_loss: 0.3263 - val_accuracy: 0.9091\n",
      "Epoch 99/100\n",
      "6/6 [==============================] - 0s 5ms/step - loss: 0.3523 - accuracy: 0.9043 - val_loss: 0.3255 - val_accuracy: 0.9091\n",
      "Epoch 100/100\n",
      "6/6 [==============================] - 0s 5ms/step - loss: 0.3500 - accuracy: 0.9043 - val_loss: 0.3242 - val_accuracy: 0.9091\n"
     ]
    }
   ],
   "source": [
    "tf_fit = model.fit(x=X_train_std, y=y_train,\n",
    "        batch_size=16,\n",
    "        validation_split=0.1,\n",
    "        epochs=100, \n",
    "        verbose=1)"
   ]
  },
  {
   "cell_type": "code",
   "execution_count": 5,
   "metadata": {},
   "outputs": [
    {
     "name": "stdout",
     "output_type": "stream",
     "text": [
      "loss                : ['0.36', '0.36', '0.36', '0.35', '0.35', '0.35']\n",
      "accuracy            : ['0.91', '0.90', '0.90', '0.90', '0.90', '0.90']\n",
      "val_loss            : ['0.33', '0.33', '0.33', '0.33', '0.33', '0.32']\n",
      "val_accuracy        : ['0.91', '0.91', '0.91', '0.91', '0.91', '0.91']\n"
     ]
    }
   ],
   "source": [
    "for key, val in tf_fit.history.items():\n",
    "    print( f'{key:20s}: {[ f\"{i:3.2f}\" for i in val[-6:]]}')"
   ]
  },
  {
   "cell_type": "code",
   "execution_count": 6,
   "metadata": {},
   "outputs": [
    {
     "data": {
      "text/plain": [
       "<matplotlib.legend.Legend at 0x232687dea60>"
      ]
     },
     "execution_count": 6,
     "metadata": {},
     "output_type": "execute_result"
    },
    {
     "data": {
      "image/png": "[encoded data removed]",
      "text/plain": [
       "<Figure size 864x360 with 2 Axes>"
      ]
     },
     "metadata": {
      "needs_background": "light"
     },
     "output_type": "display_data"
    }
   ],
   "source": [
    "hist = tf_fit.history\n",
    "\n",
    "fig = plt.figure(figsize=(12, 5))\n",
    "ax = fig.add_subplot(1, 2, 1)\n",
    "ax.plot(hist['loss'], lw=3)\n",
    "ax.plot(hist['val_loss'], lw=3)\n",
    "ax.set_title('Training loss', size=15)\n",
    "ax.set_xlabel('Epoch', size=15)\n",
    "ax.tick_params(axis='both', which='major', labelsize=15)\n",
    "ax.legend(['train','val'])\n",
    "\n",
    "ax = fig.add_subplot(1, 2, 2)\n",
    "ax.plot(hist['accuracy'], lw=3)\n",
    "ax.plot(hist['val_accuracy'], lw=3)\n",
    "ax.set_title('Training accuracy', size=15)\n",
    "ax.set_xlabel('Epoch', size=15)\n",
    "ax.tick_params(axis='both', which='major', labelsize=15)\n",
    "plt.tight_layout()\n",
    "ax.legend(['train','val'])"
   ]
  },
  {
   "cell_type": "code",
   "execution_count": 7,
   "metadata": {},
   "outputs": [
    {
     "name": "stdout",
     "output_type": "stream",
     "text": [
      "Test loss: 0.4132   Test Acc.: 0.8222\n"
     ]
    }
   ],
   "source": [
    "results = model.evaluate(X_test_std, y_test, verbose=0)\n",
    "print(f'Test loss: {results[0]:.4f}   Test Acc.: {results[1]:.4f}')"
   ]
  }
 ],
 "metadata": {
  "kernelspec": {
   "display_name": "Python 3.9.12 ('tf')",
   "language": "python",
   "name": "python3"
  },
  "language_info": {
   "codemirror_mode": {
    "name": "ipython",
    "version": 3
   },
   "file_extension": ".py",
   "mimetype": "text/x-python",
   "name": "python",
   "nbconvert_exporter": "python",
   "pygments_lexer": "ipython3",
   "version": "3.9.12"
  },
  "orig_nbformat": 4,
  "vscode": {
   "interpreter": {
    "hash": "3f531f38061d288ff7109e336294c007d5438e97f3aa4943df1d0053d1256d75"
   }
  }
 },
 "nbformat": 4,
 "nbformat_minor": 2
}
