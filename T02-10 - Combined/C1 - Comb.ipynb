{
 "cells": [
  {
   "cell_type": "code",
   "execution_count": 48,
   "metadata": {},
   "outputs": [],
   "source": [
    "import os, sys, pathlib\n",
    "\n",
    "UTILS_FOLDER = \"T00 - Utils\"\n",
    "curPath = os.getcwd()\n",
    "parPath = pathlib.Path(curPath).parent\n",
    "utilPath = os.path.join(parPath, UTILS_FOLDER)\n",
    "for p in [curPath, str(parPath), utilPath]:\n",
    "    sys.path.append(p)"
   ]
  },
  {
   "cell_type": "code",
   "execution_count": 49,
   "metadata": {},
   "outputs": [],
   "source": [
    "from sklearn import datasets\n",
    "from sklearn.model_selection import train_test_split\n",
    "from sklearn.preprocessing import StandardScaler\n",
    "from sklearn.metrics import accuracy_score\n",
    "from utils import plot_ds\n",
    "import pandas as pd\n",
    "from sklearn.linear_model import LogisticRegression\n",
    "from sklearn.svm import SVC\n",
    "from sklearn.tree import DecisionTreeClassifier\n",
    "from sklearn.ensemble import RandomForestClassifier\n",
    "from sklearn.neighbors import KNeighborsClassifier\n",
    "from sklearn.naive_bayes import GaussianNB\n",
    "from sklearn.ensemble import AdaBoostClassifier\n",
    "from sklearn.ensemble import GradientBoostingClassifier"
   ]
  },
  {
   "cell_type": "code",
   "execution_count": 50,
   "metadata": {},
   "outputs": [],
   "source": [
    "# Read data\n",
    "iris = datasets.load_iris()\n",
    "\n",
    "# Extract the last 2 columns\n",
    "X = iris.data[:, 2:4]\n",
    "y = iris.target\n",
    "\n",
    "# Split data into training and testing data\n",
    "X_train, X_test, y_train, y_test = train_test_split(\n",
    "    X, y, test_size=0.3, random_state=1, stratify=y\n",
    ")\n",
    "\n",
    "# Standardization\n",
    "sc = StandardScaler()\n",
    "sc.fit(X_train)\n",
    "X_train_std = sc.transform(X_train)\n",
    "X_test_std = sc.transform(X_test)"
   ]
  },
  {
   "cell_type": "code",
   "execution_count": 51,
   "metadata": {},
   "outputs": [],
   "source": [
    "models = [\n",
    "    {\n",
    "        \"clf\": LogisticRegression,\n",
    "        \"name\": \"LR-1\",\n",
    "        \"params\": {\"solver\": \"lbfgs\", \"C\": 1, \"max_iter\": 100},\n",
    "    },\n",
    "    {\n",
    "        \"clf\": SVC,\n",
    "        \"name\": \"SVM-1\",\n",
    "        \"params\": {\"kernel\": \"rbf\", \"C\": 1.0, \"gamma\": 0.2},\n",
    "    },\n",
    "]"
   ]
  },
  {
   "cell_type": "code",
   "execution_count": 52,
   "metadata": {},
   "outputs": [],
   "source": [
    "import json\n",
    "results = []\n",
    "\n",
    "for model in models:\n",
    "    clf = model[\"clf\"](**model[\"params\"])\n",
    "\n",
    "    # Training\n",
    "    clf.fit(X_train_std, y_train)\n",
    "\n",
    "    # Prediction\n",
    "    y_pred = clf.predict(X_test_std)\n",
    "\n",
    "    # Misclassification from the test samples\n",
    "    sumMiss = (y_test != y_pred).sum()\n",
    "\n",
    "    # Accuracy score from the test samples\n",
    "    accuracyScore = accuracy_score(y_test, y_pred)\n",
    "    \n",
    "    results.append({\n",
    "        \"model\": model[\"name\"],\n",
    "        \"sumMiss\": sumMiss,\n",
    "        \"accuracyScore\": accuracyScore,\n",
    "        \"params\": json.dumps(model[\"params\"]),\n",
    "    })\n"
   ]
  },
  {
   "cell_type": "code",
   "execution_count": 54,
   "metadata": {},
   "outputs": [
    {
     "data": {
      "text/html": [
       "<div>\n",
       "<style scoped>\n",
       "    .dataframe tbody tr th:only-of-type {\n",
       "        vertical-align: middle;\n",
       "    }\n",
       "\n",
       "    .dataframe tbody tr th {\n",
       "        vertical-align: top;\n",
       "    }\n",
       "\n",
       "    .dataframe thead th {\n",
       "        text-align: right;\n",
       "    }\n",
       "</style>\n",
       "<table border=\"1\" class=\"dataframe\">\n",
       "  <thead>\n",
       "    <tr style=\"text-align: right;\">\n",
       "      <th></th>\n",
       "      <th>model</th>\n",
       "      <th>sumMiss</th>\n",
       "      <th>accuracyScore</th>\n",
       "      <th>params</th>\n",
       "    </tr>\n",
       "  </thead>\n",
       "  <tbody>\n",
       "    <tr>\n",
       "      <th>0</th>\n",
       "      <td>lr-1</td>\n",
       "      <td>1</td>\n",
       "      <td>0.977778</td>\n",
       "      <td>{\"solver\": \"lbfgs\", \"C\": 1, \"max_iter\": 100}</td>\n",
       "    </tr>\n",
       "    <tr>\n",
       "      <th>1</th>\n",
       "      <td>svm-1</td>\n",
       "      <td>1</td>\n",
       "      <td>0.977778</td>\n",
       "      <td>{\"kernel\": \"rbf\", \"C\": 1.0, \"gamma\": 0.2}</td>\n",
       "    </tr>\n",
       "  </tbody>\n",
       "</table>\n",
       "</div>"
      ],
      "text/plain": [
       "   model  sumMiss  accuracyScore                                        params\n",
       "0   lr-1        1       0.977778  {\"solver\": \"lbfgs\", \"C\": 1, \"max_iter\": 100}\n",
       "1  svm-1        1       0.977778     {\"kernel\": \"rbf\", \"C\": 1.0, \"gamma\": 0.2}"
      ]
     },
     "metadata": {},
     "output_type": "display_data"
    }
   ],
   "source": [
    "df = pd.DataFrame.from_records(results)\n",
    "display(df)"
   ]
  },
  {
   "cell_type": "code",
   "execution_count": null,
   "metadata": {},
   "outputs": [],
   "source": []
  }
 ],
 "metadata": {
  "kernelspec": {
   "display_name": "Python 3",
   "language": "python",
   "name": "python3"
  },
  "language_info": {
   "codemirror_mode": {
    "name": "ipython",
    "version": 3
   },
   "file_extension": ".py",
   "mimetype": "text/x-python",
   "name": "python",
   "nbconvert_exporter": "python",
   "pygments_lexer": "ipython3",
   "version": "3.11.7"
  }
 },
 "nbformat": 4,
 "nbformat_minor": 2
}
