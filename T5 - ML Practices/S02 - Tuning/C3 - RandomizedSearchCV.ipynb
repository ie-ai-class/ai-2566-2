{
 "cells": [
  {
   "cell_type": "markdown",
   "metadata": {},
   "source": [
    "# RandomizedSearchCV"
   ]
  },
  {
   "cell_type": "code",
   "execution_count": 1,
   "metadata": {},
   "outputs": [],
   "source": [
    "import pandas as pd\n",
    "from sklearn.datasets import load_breast_cancer\n",
    "from sklearn.model_selection import train_test_split\n",
    "from sklearn.preprocessing import StandardScaler\n",
    "from sklearn.svm import SVC\n",
    "from sklearn.model_selection import RandomizedSearchCV\n"
   ]
  },
  {
   "cell_type": "markdown",
   "metadata": {},
   "source": [
    "### Setting up\n"
   ]
  },
  {
   "cell_type": "code",
   "execution_count": 2,
   "metadata": {},
   "outputs": [],
   "source": [
    "# Load data\n",
    "dataObj = load_breast_cancer()\n",
    "X = dataObj.data\n",
    "y = dataObj.target\n",
    "\n",
    "# Splitting data\n",
    "X_train, X_test, y_train, y_test = train_test_split(X, y, \n",
    "    stratify=y,\n",
    "    test_size=0.30,\n",
    "    random_state=1)\n",
    "\n",
    "# Standardization\n",
    "sc = StandardScaler()\n",
    "sc.fit(X_train)\n",
    "X_train_std = sc.transform(X_train)\n",
    "X_test_std = sc.transform(X_test)\n",
    "\n",
    "# Classifier\n",
    "svc = SVC(random_state=1)"
   ]
  },
  {
   "cell_type": "code",
   "execution_count": 3,
   "metadata": {},
   "outputs": [
    {
     "data": {
      "text/html": [
       "<div>\n",
       "<style scoped>\n",
       "    .dataframe tbody tr th:only-of-type {\n",
       "        vertical-align: middle;\n",
       "    }\n",
       "\n",
       "    .dataframe tbody tr th {\n",
       "        vertical-align: top;\n",
       "    }\n",
       "\n",
       "    .dataframe thead th {\n",
       "        text-align: right;\n",
       "    }\n",
       "</style>\n",
       "<table border=\"1\" class=\"dataframe\">\n",
       "  <thead>\n",
       "    <tr style=\"text-align: right;\">\n",
       "      <th></th>\n",
       "      <th>param</th>\n",
       "    </tr>\n",
       "  </thead>\n",
       "  <tbody>\n",
       "    <tr>\n",
       "      <th>C</th>\n",
       "      <td>1.0</td>\n",
       "    </tr>\n",
       "    <tr>\n",
       "      <th>break_ties</th>\n",
       "      <td>False</td>\n",
       "    </tr>\n",
       "    <tr>\n",
       "      <th>cache_size</th>\n",
       "      <td>200</td>\n",
       "    </tr>\n",
       "    <tr>\n",
       "      <th>class_weight</th>\n",
       "      <td>None</td>\n",
       "    </tr>\n",
       "    <tr>\n",
       "      <th>coef0</th>\n",
       "      <td>0.0</td>\n",
       "    </tr>\n",
       "    <tr>\n",
       "      <th>decision_function_shape</th>\n",
       "      <td>ovr</td>\n",
       "    </tr>\n",
       "    <tr>\n",
       "      <th>degree</th>\n",
       "      <td>3</td>\n",
       "    </tr>\n",
       "    <tr>\n",
       "      <th>gamma</th>\n",
       "      <td>scale</td>\n",
       "    </tr>\n",
       "    <tr>\n",
       "      <th>kernel</th>\n",
       "      <td>rbf</td>\n",
       "    </tr>\n",
       "    <tr>\n",
       "      <th>max_iter</th>\n",
       "      <td>-1</td>\n",
       "    </tr>\n",
       "    <tr>\n",
       "      <th>probability</th>\n",
       "      <td>False</td>\n",
       "    </tr>\n",
       "    <tr>\n",
       "      <th>random_state</th>\n",
       "      <td>1</td>\n",
       "    </tr>\n",
       "    <tr>\n",
       "      <th>shrinking</th>\n",
       "      <td>True</td>\n",
       "    </tr>\n",
       "    <tr>\n",
       "      <th>tol</th>\n",
       "      <td>0.001</td>\n",
       "    </tr>\n",
       "    <tr>\n",
       "      <th>verbose</th>\n",
       "      <td>False</td>\n",
       "    </tr>\n",
       "  </tbody>\n",
       "</table>\n",
       "</div>"
      ],
      "text/plain": [
       "                         param\n",
       "C                          1.0\n",
       "break_ties               False\n",
       "cache_size                 200\n",
       "class_weight              None\n",
       "coef0                      0.0\n",
       "decision_function_shape    ovr\n",
       "degree                       3\n",
       "gamma                    scale\n",
       "kernel                     rbf\n",
       "max_iter                    -1\n",
       "probability              False\n",
       "random_state                 1\n",
       "shrinking                 True\n",
       "tol                      0.001\n",
       "verbose                  False"
      ]
     },
     "execution_count": 3,
     "metadata": {},
     "output_type": "execute_result"
    }
   ],
   "source": [
    "pd.DataFrame(data=svc.get_params(), index=[\"param\"]).T"
   ]
  },
  {
   "cell_type": "markdown",
   "metadata": {},
   "source": [
    "### Define parameter sets\n"
   ]
  },
  {
   "cell_type": "code",
   "execution_count": 4,
   "metadata": {},
   "outputs": [],
   "source": [
    "param_range = [0.0001, 0.001, 0.01, 0.1, 1.0, 10.0, 100.0, 1000.0]\n",
    "\n",
    "set1 = {\"C\": param_range, \"kernel\": [\"linear\"]}\n",
    "\n",
    "set2 = {\"C\": param_range, \"gamma\": param_range, \"kernel\": [\"rbf\"]}\n",
    "\n",
    "param_grid = [set1, set2]"
   ]
  },
  {
   "cell_type": "markdown",
   "metadata": {},
   "source": [
    "### RandomizedSearchCV classifier\n"
   ]
  },
  {
   "cell_type": "code",
   "execution_count": 5,
   "metadata": {},
   "outputs": [],
   "source": [
    "rs = RandomizedSearchCV(estimator=svc, \n",
    "                        param_distributions=param_grid, \n",
    "                        n_iter = 10,\n",
    "                        scoring='accuracy', \n",
    "                        cv=5,\n",
    "                        n_jobs=-1)"
   ]
  },
  {
   "cell_type": "code",
   "execution_count": 6,
   "metadata": {},
   "outputs": [
    {
     "name": "stdout",
     "output_type": "stream",
     "text": [
      "cv                                 : 5\n",
      "error_score                        : nan\n",
      "estimator__C                       : 1.0\n",
      "estimator__break_ties              : False\n",
      "estimator__cache_size              : 200\n",
      "estimator__class_weight            : None\n",
      "estimator__coef0                   : 0.0\n",
      "estimator__decision_function_shape : ovr\n",
      "estimator__degree                  : 3\n",
      "estimator__gamma                   : scale\n",
      "estimator__kernel                  : rbf\n",
      "estimator__max_iter                : -1\n",
      "estimator__probability             : False\n",
      "estimator__random_state            : 1\n",
      "estimator__shrinking               : True\n",
      "estimator__tol                     : 0.001\n",
      "estimator__verbose                 : False\n",
      "estimator                          : SVC(random_state=1)\n",
      "n_iter                             : 10\n",
      "n_jobs                             : -1\n",
      "param_distributions                : [{'C': [0.0001, 0.001, 0.01, 0.1, 1.0, 10.0, 100.0, 1000.0], 'kernel': ['linear']}, {'C': [0.0001, 0.001, 0.01, 0.1, 1.0, 10.0, 100.0, 1000.0], 'gamma': [0.0001, 0.001, 0.01, 0.1, 1.0, 10.0, 100.0, 1000.0], 'kernel': ['rbf']}]\n",
      "pre_dispatch                       : 2*n_jobs\n",
      "random_state                       : None\n",
      "refit                              : True\n",
      "return_train_score                 : False\n",
      "scoring                            : accuracy\n",
      "verbose                            : 0\n"
     ]
    }
   ],
   "source": [
    "# Get parameter names\n",
    "for k, v in rs.get_params().items():\n",
    "    print(f\"{k:35.35s}: {str(v)}\")"
   ]
  },
  {
   "cell_type": "markdown",
   "metadata": {},
   "source": [
    "### Training\n"
   ]
  },
  {
   "cell_type": "code",
   "execution_count": 7,
   "metadata": {},
   "outputs": [
    {
     "data": {
      "text/html": [
       "<style>#sk-container-id-1 {color: black;}#sk-container-id-1 pre{padding: 0;}#sk-container-id-1 div.sk-toggleable {background-color: white;}#sk-container-id-1 label.sk-toggleable__label {cursor: pointer;display: block;width: 100%;margin-bottom: 0;padding: 0.3em;box-sizing: border-box;text-align: center;}#sk-container-id-1 label.sk-toggleable__label-arrow:before {content: \"▸\";float: left;margin-right: 0.25em;color: #696969;}#sk-container-id-1 label.sk-toggleable__label-arrow:hover:before {color: black;}#sk-container-id-1 div.sk-estimator:hover label.sk-toggleable__label-arrow:before {color: black;}#sk-container-id-1 div.sk-toggleable__content {max-height: 0;max-width: 0;overflow: hidden;text-align: left;background-color: #f0f8ff;}#sk-container-id-1 div.sk-toggleable__content pre {margin: 0.2em;color: black;border-radius: 0.25em;background-color: #f0f8ff;}#sk-container-id-1 input.sk-toggleable__control:checked~div.sk-toggleable__content {max-height: 200px;max-width: 100%;overflow: auto;}#sk-container-id-1 input.sk-toggleable__control:checked~label.sk-toggleable__label-arrow:before {content: \"▾\";}#sk-container-id-1 div.sk-estimator input.sk-toggleable__control:checked~label.sk-toggleable__label {background-color: #d4ebff;}#sk-container-id-1 div.sk-label input.sk-toggleable__control:checked~label.sk-toggleable__label {background-color: #d4ebff;}#sk-container-id-1 input.sk-hidden--visually {border: 0;clip: rect(1px 1px 1px 1px);clip: rect(1px, 1px, 1px, 1px);height: 1px;margin: -1px;overflow: hidden;padding: 0;position: absolute;width: 1px;}#sk-container-id-1 div.sk-estimator {font-family: monospace;background-color: #f0f8ff;border: 1px dotted black;border-radius: 0.25em;box-sizing: border-box;margin-bottom: 0.5em;}#sk-container-id-1 div.sk-estimator:hover {background-color: #d4ebff;}#sk-container-id-1 div.sk-parallel-item::after {content: \"\";width: 100%;border-bottom: 1px solid gray;flex-grow: 1;}#sk-container-id-1 div.sk-label:hover label.sk-toggleable__label {background-color: #d4ebff;}#sk-container-id-1 div.sk-serial::before {content: \"\";position: absolute;border-left: 1px solid gray;box-sizing: border-box;top: 0;bottom: 0;left: 50%;z-index: 0;}#sk-container-id-1 div.sk-serial {display: flex;flex-direction: column;align-items: center;background-color: white;padding-right: 0.2em;padding-left: 0.2em;position: relative;}#sk-container-id-1 div.sk-item {position: relative;z-index: 1;}#sk-container-id-1 div.sk-parallel {display: flex;align-items: stretch;justify-content: center;background-color: white;position: relative;}#sk-container-id-1 div.sk-item::before, #sk-container-id-1 div.sk-parallel-item::before {content: \"\";position: absolute;border-left: 1px solid gray;box-sizing: border-box;top: 0;bottom: 0;left: 50%;z-index: -1;}#sk-container-id-1 div.sk-parallel-item {display: flex;flex-direction: column;z-index: 1;position: relative;background-color: white;}#sk-container-id-1 div.sk-parallel-item:first-child::after {align-self: flex-end;width: 50%;}#sk-container-id-1 div.sk-parallel-item:last-child::after {align-self: flex-start;width: 50%;}#sk-container-id-1 div.sk-parallel-item:only-child::after {width: 0;}#sk-container-id-1 div.sk-dashed-wrapped {border: 1px dashed gray;margin: 0 0.4em 0.5em 0.4em;box-sizing: border-box;padding-bottom: 0.4em;background-color: white;}#sk-container-id-1 div.sk-label label {font-family: monospace;font-weight: bold;display: inline-block;line-height: 1.2em;}#sk-container-id-1 div.sk-label-container {text-align: center;}#sk-container-id-1 div.sk-container {/* jupyter's `normalize.less` sets `[hidden] { display: none; }` but bootstrap.min.css set `[hidden] { display: none !important; }` so we also need the `!important` here to be able to override the default hidden behavior on the sphinx rendered scikit-learn.org. See: https://github.com/scikit-learn/scikit-learn/issues/21755 */display: inline-block !important;position: relative;}#sk-container-id-1 div.sk-text-repr-fallback {display: none;}</style><div id=\"sk-container-id-1\" class=\"sk-top-container\"><div class=\"sk-text-repr-fallback\"><pre>RandomizedSearchCV(cv=5, estimator=SVC(random_state=1), n_jobs=-1,\n",
       "                   param_distributions=[{&#x27;C&#x27;: [0.0001, 0.001, 0.01, 0.1, 1.0,\n",
       "                                               10.0, 100.0, 1000.0],\n",
       "                                         &#x27;kernel&#x27;: [&#x27;linear&#x27;]},\n",
       "                                        {&#x27;C&#x27;: [0.0001, 0.001, 0.01, 0.1, 1.0,\n",
       "                                               10.0, 100.0, 1000.0],\n",
       "                                         &#x27;gamma&#x27;: [0.0001, 0.001, 0.01, 0.1,\n",
       "                                                   1.0, 10.0, 100.0, 1000.0],\n",
       "                                         &#x27;kernel&#x27;: [&#x27;rbf&#x27;]}],\n",
       "                   scoring=&#x27;accuracy&#x27;)</pre><b>In a Jupyter environment, please rerun this cell to show the HTML representation or trust the notebook. <br />On GitHub, the HTML representation is unable to render, please try loading this page with nbviewer.org.</b></div><div class=\"sk-container\" hidden><div class=\"sk-item sk-dashed-wrapped\"><div class=\"sk-label-container\"><div class=\"sk-label sk-toggleable\"><input class=\"sk-toggleable__control sk-hidden--visually\" id=\"sk-estimator-id-1\" type=\"checkbox\" ><label for=\"sk-estimator-id-1\" class=\"sk-toggleable__label sk-toggleable__label-arrow\">RandomizedSearchCV</label><div class=\"sk-toggleable__content\"><pre>RandomizedSearchCV(cv=5, estimator=SVC(random_state=1), n_jobs=-1,\n",
       "                   param_distributions=[{&#x27;C&#x27;: [0.0001, 0.001, 0.01, 0.1, 1.0,\n",
       "                                               10.0, 100.0, 1000.0],\n",
       "                                         &#x27;kernel&#x27;: [&#x27;linear&#x27;]},\n",
       "                                        {&#x27;C&#x27;: [0.0001, 0.001, 0.01, 0.1, 1.0,\n",
       "                                               10.0, 100.0, 1000.0],\n",
       "                                         &#x27;gamma&#x27;: [0.0001, 0.001, 0.01, 0.1,\n",
       "                                                   1.0, 10.0, 100.0, 1000.0],\n",
       "                                         &#x27;kernel&#x27;: [&#x27;rbf&#x27;]}],\n",
       "                   scoring=&#x27;accuracy&#x27;)</pre></div></div></div><div class=\"sk-parallel\"><div class=\"sk-parallel-item\"><div class=\"sk-item\"><div class=\"sk-label-container\"><div class=\"sk-label sk-toggleable\"><input class=\"sk-toggleable__control sk-hidden--visually\" id=\"sk-estimator-id-2\" type=\"checkbox\" ><label for=\"sk-estimator-id-2\" class=\"sk-toggleable__label sk-toggleable__label-arrow\">estimator: SVC</label><div class=\"sk-toggleable__content\"><pre>SVC(random_state=1)</pre></div></div></div><div class=\"sk-serial\"><div class=\"sk-item\"><div class=\"sk-estimator sk-toggleable\"><input class=\"sk-toggleable__control sk-hidden--visually\" id=\"sk-estimator-id-3\" type=\"checkbox\" ><label for=\"sk-estimator-id-3\" class=\"sk-toggleable__label sk-toggleable__label-arrow\">SVC</label><div class=\"sk-toggleable__content\"><pre>SVC(random_state=1)</pre></div></div></div></div></div></div></div></div></div></div>"
      ],
      "text/plain": [
       "RandomizedSearchCV(cv=5, estimator=SVC(random_state=1), n_jobs=-1,\n",
       "                   param_distributions=[{'C': [0.0001, 0.001, 0.01, 0.1, 1.0,\n",
       "                                               10.0, 100.0, 1000.0],\n",
       "                                         'kernel': ['linear']},\n",
       "                                        {'C': [0.0001, 0.001, 0.01, 0.1, 1.0,\n",
       "                                               10.0, 100.0, 1000.0],\n",
       "                                         'gamma': [0.0001, 0.001, 0.01, 0.1,\n",
       "                                                   1.0, 10.0, 100.0, 1000.0],\n",
       "                                         'kernel': ['rbf']}],\n",
       "                   scoring='accuracy')"
      ]
     },
     "execution_count": 7,
     "metadata": {},
     "output_type": "execute_result"
    }
   ],
   "source": [
    "rs.fit(X_train_std,y_train)"
   ]
  },
  {
   "cell_type": "code",
   "execution_count": 8,
   "metadata": {},
   "outputs": [
    {
     "name": "stdout",
     "output_type": "stream",
     "text": [
      "(10, 16)\n"
     ]
    },
    {
     "data": {
      "text/html": [
       "<div>\n",
       "<style scoped>\n",
       "    .dataframe tbody tr th:only-of-type {\n",
       "        vertical-align: middle;\n",
       "    }\n",
       "\n",
       "    .dataframe tbody tr th {\n",
       "        vertical-align: top;\n",
       "    }\n",
       "\n",
       "    .dataframe thead th {\n",
       "        text-align: right;\n",
       "    }\n",
       "</style>\n",
       "<table border=\"1\" class=\"dataframe\">\n",
       "  <thead>\n",
       "    <tr style=\"text-align: right;\">\n",
       "      <th></th>\n",
       "      <th>mean_fit_time</th>\n",
       "      <th>std_fit_time</th>\n",
       "      <th>mean_score_time</th>\n",
       "      <th>std_score_time</th>\n",
       "      <th>param_kernel</th>\n",
       "      <th>param_gamma</th>\n",
       "      <th>param_C</th>\n",
       "      <th>params</th>\n",
       "      <th>split0_test_score</th>\n",
       "      <th>split1_test_score</th>\n",
       "      <th>split2_test_score</th>\n",
       "      <th>split3_test_score</th>\n",
       "      <th>split4_test_score</th>\n",
       "      <th>mean_test_score</th>\n",
       "      <th>std_test_score</th>\n",
       "      <th>rank_test_score</th>\n",
       "    </tr>\n",
       "  </thead>\n",
       "  <tbody>\n",
       "    <tr>\n",
       "      <th>0</th>\n",
       "      <td>0.008013</td>\n",
       "      <td>0.001262</td>\n",
       "      <td>0.004807</td>\n",
       "      <td>0.000513</td>\n",
       "      <td>rbf</td>\n",
       "      <td>1.0</td>\n",
       "      <td>10.0</td>\n",
       "      <td>{'kernel': 'rbf', 'gamma': 1.0, 'C': 10.0}</td>\n",
       "      <td>0.6250</td>\n",
       "      <td>0.6250</td>\n",
       "      <td>0.6250</td>\n",
       "      <td>0.645570</td>\n",
       "      <td>0.632911</td>\n",
       "      <td>0.630696</td>\n",
       "      <td>0.008043</td>\n",
       "      <td>4</td>\n",
       "    </tr>\n",
       "    <tr>\n",
       "      <th>1</th>\n",
       "      <td>0.008812</td>\n",
       "      <td>0.001079</td>\n",
       "      <td>0.005221</td>\n",
       "      <td>0.001024</td>\n",
       "      <td>rbf</td>\n",
       "      <td>10.0</td>\n",
       "      <td>1.0</td>\n",
       "      <td>{'kernel': 'rbf', 'gamma': 10.0, 'C': 1.0}</td>\n",
       "      <td>0.6250</td>\n",
       "      <td>0.6250</td>\n",
       "      <td>0.6250</td>\n",
       "      <td>0.632911</td>\n",
       "      <td>0.632911</td>\n",
       "      <td>0.628165</td>\n",
       "      <td>0.003876</td>\n",
       "      <td>6</td>\n",
       "    </tr>\n",
       "    <tr>\n",
       "      <th>2</th>\n",
       "      <td>0.002002</td>\n",
       "      <td>0.000633</td>\n",
       "      <td>0.000600</td>\n",
       "      <td>0.000490</td>\n",
       "      <td>linear</td>\n",
       "      <td>NaN</td>\n",
       "      <td>1.0</td>\n",
       "      <td>{'kernel': 'linear', 'C': 1.0}</td>\n",
       "      <td>0.9625</td>\n",
       "      <td>0.9875</td>\n",
       "      <td>0.9500</td>\n",
       "      <td>0.974684</td>\n",
       "      <td>0.987342</td>\n",
       "      <td>0.972405</td>\n",
       "      <td>0.014534</td>\n",
       "      <td>2</td>\n",
       "    </tr>\n",
       "    <tr>\n",
       "      <th>3</th>\n",
       "      <td>0.001600</td>\n",
       "      <td>0.000490</td>\n",
       "      <td>0.000401</td>\n",
       "      <td>0.000491</td>\n",
       "      <td>linear</td>\n",
       "      <td>NaN</td>\n",
       "      <td>0.1</td>\n",
       "      <td>{'kernel': 'linear', 'C': 0.1}</td>\n",
       "      <td>0.9750</td>\n",
       "      <td>1.0000</td>\n",
       "      <td>0.9625</td>\n",
       "      <td>0.974684</td>\n",
       "      <td>1.000000</td>\n",
       "      <td>0.982437</td>\n",
       "      <td>0.015032</td>\n",
       "      <td>1</td>\n",
       "    </tr>\n",
       "    <tr>\n",
       "      <th>4</th>\n",
       "      <td>0.006658</td>\n",
       "      <td>0.000931</td>\n",
       "      <td>0.005304</td>\n",
       "      <td>0.000602</td>\n",
       "      <td>rbf</td>\n",
       "      <td>10.0</td>\n",
       "      <td>0.001</td>\n",
       "      <td>{'kernel': 'rbf', 'gamma': 10.0, 'C': 0.001}</td>\n",
       "      <td>0.6250</td>\n",
       "      <td>0.6250</td>\n",
       "      <td>0.6250</td>\n",
       "      <td>0.632911</td>\n",
       "      <td>0.632911</td>\n",
       "      <td>0.628165</td>\n",
       "      <td>0.003876</td>\n",
       "      <td>6</td>\n",
       "    </tr>\n",
       "  </tbody>\n",
       "</table>\n",
       "</div>"
      ],
      "text/plain": [
       "   mean_fit_time  std_fit_time  mean_score_time  std_score_time param_kernel  \\\n",
       "0       0.008013      0.001262         0.004807        0.000513          rbf   \n",
       "1       0.008812      0.001079         0.005221        0.001024          rbf   \n",
       "2       0.002002      0.000633         0.000600        0.000490       linear   \n",
       "3       0.001600      0.000490         0.000401        0.000491       linear   \n",
       "4       0.006658      0.000931         0.005304        0.000602          rbf   \n",
       "\n",
       "  param_gamma param_C                                        params  \\\n",
       "0         1.0    10.0    {'kernel': 'rbf', 'gamma': 1.0, 'C': 10.0}   \n",
       "1        10.0     1.0    {'kernel': 'rbf', 'gamma': 10.0, 'C': 1.0}   \n",
       "2         NaN     1.0                {'kernel': 'linear', 'C': 1.0}   \n",
       "3         NaN     0.1                {'kernel': 'linear', 'C': 0.1}   \n",
       "4        10.0   0.001  {'kernel': 'rbf', 'gamma': 10.0, 'C': 0.001}   \n",
       "\n",
       "   split0_test_score  split1_test_score  split2_test_score  split3_test_score  \\\n",
       "0             0.6250             0.6250             0.6250           0.645570   \n",
       "1             0.6250             0.6250             0.6250           0.632911   \n",
       "2             0.9625             0.9875             0.9500           0.974684   \n",
       "3             0.9750             1.0000             0.9625           0.974684   \n",
       "4             0.6250             0.6250             0.6250           0.632911   \n",
       "\n",
       "   split4_test_score  mean_test_score  std_test_score  rank_test_score  \n",
       "0           0.632911         0.630696        0.008043                4  \n",
       "1           0.632911         0.628165        0.003876                6  \n",
       "2           0.987342         0.972405        0.014534                2  \n",
       "3           1.000000         0.982437        0.015032                1  \n",
       "4           0.632911         0.628165        0.003876                6  "
      ]
     },
     "metadata": {},
     "output_type": "display_data"
    }
   ],
   "source": [
    "df = pd.DataFrame(rs.cv_results_)\n",
    "print(df.shape)\n",
    "display(df.head())"
   ]
  },
  {
   "cell_type": "code",
   "execution_count": 9,
   "metadata": {},
   "outputs": [
    {
     "data": {
      "text/html": [
       "<div>\n",
       "<style scoped>\n",
       "    .dataframe tbody tr th:only-of-type {\n",
       "        vertical-align: middle;\n",
       "    }\n",
       "\n",
       "    .dataframe tbody tr th {\n",
       "        vertical-align: top;\n",
       "    }\n",
       "\n",
       "    .dataframe thead th {\n",
       "        text-align: right;\n",
       "    }\n",
       "</style>\n",
       "<table border=\"1\" class=\"dataframe\">\n",
       "  <thead>\n",
       "    <tr style=\"text-align: right;\">\n",
       "      <th></th>\n",
       "      <th>mean_fit_time</th>\n",
       "      <th>std_fit_time</th>\n",
       "      <th>mean_score_time</th>\n",
       "      <th>std_score_time</th>\n",
       "      <th>param_kernel</th>\n",
       "      <th>param_gamma</th>\n",
       "      <th>param_C</th>\n",
       "      <th>params</th>\n",
       "      <th>split0_test_score</th>\n",
       "      <th>split1_test_score</th>\n",
       "      <th>split2_test_score</th>\n",
       "      <th>split3_test_score</th>\n",
       "      <th>split4_test_score</th>\n",
       "      <th>mean_test_score</th>\n",
       "      <th>std_test_score</th>\n",
       "      <th>rank_test_score</th>\n",
       "    </tr>\n",
       "  </thead>\n",
       "  <tbody>\n",
       "    <tr>\n",
       "      <th>3</th>\n",
       "      <td>0.001600</td>\n",
       "      <td>0.000490</td>\n",
       "      <td>0.000401</td>\n",
       "      <td>0.000491</td>\n",
       "      <td>linear</td>\n",
       "      <td>NaN</td>\n",
       "      <td>0.1</td>\n",
       "      <td>{'kernel': 'linear', 'C': 0.1}</td>\n",
       "      <td>0.9750</td>\n",
       "      <td>1.0000</td>\n",
       "      <td>0.9625</td>\n",
       "      <td>0.974684</td>\n",
       "      <td>1.000000</td>\n",
       "      <td>0.982437</td>\n",
       "      <td>0.015032</td>\n",
       "      <td>1</td>\n",
       "    </tr>\n",
       "    <tr>\n",
       "      <th>2</th>\n",
       "      <td>0.002002</td>\n",
       "      <td>0.000633</td>\n",
       "      <td>0.000600</td>\n",
       "      <td>0.000490</td>\n",
       "      <td>linear</td>\n",
       "      <td>NaN</td>\n",
       "      <td>1.0</td>\n",
       "      <td>{'kernel': 'linear', 'C': 1.0}</td>\n",
       "      <td>0.9625</td>\n",
       "      <td>0.9875</td>\n",
       "      <td>0.9500</td>\n",
       "      <td>0.974684</td>\n",
       "      <td>0.987342</td>\n",
       "      <td>0.972405</td>\n",
       "      <td>0.014534</td>\n",
       "      <td>2</td>\n",
       "    </tr>\n",
       "    <tr>\n",
       "      <th>9</th>\n",
       "      <td>0.005608</td>\n",
       "      <td>0.002941</td>\n",
       "      <td>0.000600</td>\n",
       "      <td>0.000490</td>\n",
       "      <td>linear</td>\n",
       "      <td>NaN</td>\n",
       "      <td>1000.0</td>\n",
       "      <td>{'kernel': 'linear', 'C': 1000.0}</td>\n",
       "      <td>0.9500</td>\n",
       "      <td>0.9500</td>\n",
       "      <td>0.9000</td>\n",
       "      <td>0.962025</td>\n",
       "      <td>0.949367</td>\n",
       "      <td>0.942278</td>\n",
       "      <td>0.021665</td>\n",
       "      <td>3</td>\n",
       "    </tr>\n",
       "    <tr>\n",
       "      <th>0</th>\n",
       "      <td>0.008013</td>\n",
       "      <td>0.001262</td>\n",
       "      <td>0.004807</td>\n",
       "      <td>0.000513</td>\n",
       "      <td>rbf</td>\n",
       "      <td>1.0</td>\n",
       "      <td>10.0</td>\n",
       "      <td>{'kernel': 'rbf', 'gamma': 1.0, 'C': 10.0}</td>\n",
       "      <td>0.6250</td>\n",
       "      <td>0.6250</td>\n",
       "      <td>0.6250</td>\n",
       "      <td>0.645570</td>\n",
       "      <td>0.632911</td>\n",
       "      <td>0.630696</td>\n",
       "      <td>0.008043</td>\n",
       "      <td>4</td>\n",
       "    </tr>\n",
       "    <tr>\n",
       "      <th>6</th>\n",
       "      <td>0.007512</td>\n",
       "      <td>0.002169</td>\n",
       "      <td>0.004708</td>\n",
       "      <td>0.000513</td>\n",
       "      <td>rbf</td>\n",
       "      <td>1.0</td>\n",
       "      <td>1000.0</td>\n",
       "      <td>{'kernel': 'rbf', 'gamma': 1.0, 'C': 1000.0}</td>\n",
       "      <td>0.6250</td>\n",
       "      <td>0.6250</td>\n",
       "      <td>0.6250</td>\n",
       "      <td>0.645570</td>\n",
       "      <td>0.632911</td>\n",
       "      <td>0.630696</td>\n",
       "      <td>0.008043</td>\n",
       "      <td>4</td>\n",
       "    </tr>\n",
       "  </tbody>\n",
       "</table>\n",
       "</div>"
      ],
      "text/plain": [
       "   mean_fit_time  std_fit_time  mean_score_time  std_score_time param_kernel  \\\n",
       "3       0.001600      0.000490         0.000401        0.000491       linear   \n",
       "2       0.002002      0.000633         0.000600        0.000490       linear   \n",
       "9       0.005608      0.002941         0.000600        0.000490       linear   \n",
       "0       0.008013      0.001262         0.004807        0.000513          rbf   \n",
       "6       0.007512      0.002169         0.004708        0.000513          rbf   \n",
       "\n",
       "  param_gamma param_C                                        params  \\\n",
       "3         NaN     0.1                {'kernel': 'linear', 'C': 0.1}   \n",
       "2         NaN     1.0                {'kernel': 'linear', 'C': 1.0}   \n",
       "9         NaN  1000.0             {'kernel': 'linear', 'C': 1000.0}   \n",
       "0         1.0    10.0    {'kernel': 'rbf', 'gamma': 1.0, 'C': 10.0}   \n",
       "6         1.0  1000.0  {'kernel': 'rbf', 'gamma': 1.0, 'C': 1000.0}   \n",
       "\n",
       "   split0_test_score  split1_test_score  split2_test_score  split3_test_score  \\\n",
       "3             0.9750             1.0000             0.9625           0.974684   \n",
       "2             0.9625             0.9875             0.9500           0.974684   \n",
       "9             0.9500             0.9500             0.9000           0.962025   \n",
       "0             0.6250             0.6250             0.6250           0.645570   \n",
       "6             0.6250             0.6250             0.6250           0.645570   \n",
       "\n",
       "   split4_test_score  mean_test_score  std_test_score  rank_test_score  \n",
       "3           1.000000         0.982437        0.015032                1  \n",
       "2           0.987342         0.972405        0.014534                2  \n",
       "9           0.949367         0.942278        0.021665                3  \n",
       "0           0.632911         0.630696        0.008043                4  \n",
       "6           0.632911         0.630696        0.008043                4  "
      ]
     },
     "metadata": {},
     "output_type": "display_data"
    }
   ],
   "source": [
    "df = df.sort_values(by=['rank_test_score'])\n",
    "display(df.head())"
   ]
  },
  {
   "cell_type": "markdown",
   "metadata": {},
   "source": [
    "### Refitting\n",
    "\n",
    "- Note that grid search already refit the entire training data with the best parameters. You can check this from this setting.\n"
   ]
  },
  {
   "cell_type": "code",
   "execution_count": 10,
   "metadata": {},
   "outputs": [
    {
     "data": {
      "text/plain": [
       "True"
      ]
     },
     "execution_count": 10,
     "metadata": {},
     "output_type": "execute_result"
    }
   ],
   "source": [
    "rs.refit"
   ]
  },
  {
   "cell_type": "code",
   "execution_count": 11,
   "metadata": {},
   "outputs": [
    {
     "name": "stdout",
     "output_type": "stream",
     "text": [
      "0.9824367088607595\n",
      "{'kernel': 'linear', 'C': 0.1}\n"
     ]
    }
   ],
   "source": [
    "print(rs.best_score_)\n",
    "print(rs.best_params_)"
   ]
  },
  {
   "cell_type": "markdown",
   "metadata": {},
   "source": [
    "### Test result\n"
   ]
  },
  {
   "cell_type": "code",
   "execution_count": 12,
   "metadata": {},
   "outputs": [
    {
     "name": "stdout",
     "output_type": "stream",
     "text": [
      "Testing accuracy:  0.971\n"
     ]
    }
   ],
   "source": [
    "y_pred = rs.predict(X_test)\n",
    "testing_accuracy = rs.score(X_test_std,y_test)\n",
    "print(f\"Testing accuracy: {testing_accuracy:6.3f}\")"
   ]
  },
  {
   "cell_type": "code",
   "execution_count": 13,
   "metadata": {},
   "outputs": [
    {
     "name": "stdout",
     "output_type": "stream",
     "text": [
      "Testing accuracy:  0.971\n"
     ]
    }
   ],
   "source": [
    "# To do this manually\n",
    "clf = rs.best_estimator_\n",
    "clf.fit(X_train_std, y_train)\n",
    "testing_accuracy = clf.score(X_test_std,y_test)\n",
    "print(f\"Testing accuracy: {testing_accuracy:6.3f}\")"
   ]
  }
 ],
 "metadata": {
  "kernelspec": {
   "display_name": "Python 3.9.7 ('base')",
   "language": "python",
   "name": "python3"
  },
  "language_info": {
   "codemirror_mode": {
    "name": "ipython",
    "version": 3
   },
   "file_extension": ".py",
   "mimetype": "text/x-python",
   "name": "python",
   "nbconvert_exporter": "python",
   "pygments_lexer": "ipython3",
   "version": "3.11.7"
  },
  "vscode": {
   "interpreter": {
    "hash": "79088bb772545dc9740b3f6fd02f1fa74686ae15b783fc1c2abf8492adb1c7fb"
   }
  }
 },
 "nbformat": 4,
 "nbformat_minor": 2
}
