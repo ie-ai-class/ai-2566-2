{
 "cells": [
  {
   "cell_type": "markdown",
   "metadata": {},
   "source": [
    "# Imbalance Problem"
   ]
  },
  {
   "cell_type": "markdown",
   "metadata": {},
   "source": [
    "`conda install -c conda-forge imbalanced-learn`"
   ]
  },
  {
   "cell_type": "code",
   "execution_count": 127,
   "metadata": {},
   "outputs": [
    {
     "data": {
      "text/plain": [
       "<AxesSubplot:>"
      ]
     },
     "execution_count": 127,
     "metadata": {},
     "output_type": "execute_result"
    },
    {
     "data": {
      "image/png": "[encoded data removed]",
      "text/plain": [
       "<Figure size 432x288 with 1 Axes>"
      ]
     },
     "metadata": {
      "needs_background": "light"
     },
     "output_type": "display_data"
    }
   ],
   "source": [
    "import numpy as np\n",
    "import pandas as pd\n",
    "from sklearn.datasets import load_iris\n",
    "from sklearn.model_selection import train_test_split\n",
    "from sklearn.linear_model import LogisticRegression\n",
    "from sklearn.pipeline import Pipeline\n",
    "from sklearn.preprocessing import StandardScaler\n",
    "\n",
    "# Iris data\n",
    "dataObj = load_iris()\n",
    "df = pd.DataFrame(data=dataObj.data, columns=dataObj.feature_names)\n",
    "df['class'] = dataObj.target\n",
    "df['class'].value_counts().sort_index(ascending=True).plot(kind='bar')\n"
   ]
  },
  {
   "cell_type": "markdown",
   "metadata": {},
   "source": [
    "Let's make one class very small in number."
   ]
  },
  {
   "cell_type": "code",
   "execution_count": 128,
   "metadata": {},
   "outputs": [
    {
     "data": {
      "text/plain": [
       "<AxesSubplot:>"
      ]
     },
     "execution_count": 128,
     "metadata": {},
     "output_type": "execute_result"
    },
    {
     "data": {
      "image/png": "[encoded data removed]",
      "text/plain": [
       "<Figure size 432x288 with 1 Axes>"
      ]
     },
     "metadata": {
      "needs_background": "light"
     },
     "output_type": "display_data"
    }
   ],
   "source": [
    "df0 = df[df['class'] == 2].sample(frac=0.2, random_state=1)\n",
    "dfR = df[df['class'] != 2]\n",
    "dfSampled = pd.concat([df0, dfR], axis=0, ignore_index=True)\n",
    "dfSampled['class'].value_counts().sort_index(ascending=True).plot(kind='bar')"
   ]
  },
  {
   "cell_type": "code",
   "execution_count": 129,
   "metadata": {},
   "outputs": [
    {
     "data": {
      "text/plain": [
       "0    35\n",
       "1    35\n",
       "2     7\n",
       "dtype: int64"
      ]
     },
     "metadata": {},
     "output_type": "display_data"
    },
    {
     "data": {
      "text/plain": [
       "1    15\n",
       "0    15\n",
       "2     3\n",
       "dtype: int64"
      ]
     },
     "metadata": {},
     "output_type": "display_data"
    }
   ],
   "source": [
    "colsX = [i for i in dfSampled.columns if i != 'class']\n",
    "X = dfSampled[colsX].values\n",
    "y = dfSampled['class'].values\n",
    "\n",
    "# Split data\n",
    "X_train, X_test, y_train, y_test = train_test_split(X, y, test_size=0.3, random_state=1, stratify=y)\n",
    "display( pd.Series(data=y_train).value_counts())\n",
    "display( pd.Series(data=y_test).value_counts())\n",
    "# Constructing a pipeline object\n",
    "pipe_lr = Pipeline([('scl', StandardScaler()),\n",
    "                    ('clf', LogisticRegression(random_state=0, C=1))])\n",
    "\n",
    "# Train and predict\n",
    "pipe_lr.fit(X_train, y_train)\n",
    "y_pred = pipe_lr.predict(X_test)"
   ]
  },
  {
   "cell_type": "code",
   "execution_count": 130,
   "metadata": {},
   "outputs": [
    {
     "data": {
      "image/png": "[encoded data removed]",
      "text/plain": [
       "<Figure size 432x288 with 2 Axes>"
      ]
     },
     "metadata": {
      "needs_background": "light"
     },
     "output_type": "display_data"
    },
    {
     "name": "stdout",
     "output_type": "stream",
     "text": [
      "              precision    recall  f1-score   support\n",
      "\n",
      "           0     1.0000    1.0000    1.0000        15\n",
      "           1     0.9375    1.0000    0.9677        15\n",
      "           2     1.0000    0.6667    0.8000         3\n",
      "\n",
      "    accuracy                         0.9697        33\n",
      "   macro avg     0.9792    0.8889    0.9226        33\n",
      "weighted avg     0.9716    0.9697    0.9672        33\n",
      "\n"
     ]
    }
   ],
   "source": [
    "import matplotlib.pyplot as plt\n",
    "from sklearn.metrics import plot_confusion_matrix\n",
    "from sklearn.metrics import classification_report\n",
    "plot_confusion_matrix(estimator=pipe_lr, X=X_test, y_true=y_test)  \n",
    "plt.show() \n",
    "print(classification_report(y_test, y_pred, digits=4))"
   ]
  },
  {
   "cell_type": "markdown",
   "metadata": {},
   "source": [
    "## Use the `class weight` setting"
   ]
  },
  {
   "cell_type": "code",
   "execution_count": 131,
   "metadata": {},
   "outputs": [],
   "source": [
    "# Constructing a pipeline object\n",
    "pipe_lr_balanced = Pipeline([('scl', StandardScaler()),\n",
    "                    ('clf', LogisticRegression(random_state=0, C=1, class_weight='balanced'))])\n",
    "\n",
    "pipe_lr_balanced.fit(X_train, y_train)\n",
    "\n",
    "y_pred = pipe_lr_balanced.predict(X_test)"
   ]
  },
  {
   "cell_type": "code",
   "execution_count": 132,
   "metadata": {},
   "outputs": [
    {
     "data": {
      "image/png": "[encoded data removed]",
      "text/plain": [
       "<Figure size 432x288 with 2 Axes>"
      ]
     },
     "metadata": {
      "needs_background": "light"
     },
     "output_type": "display_data"
    },
    {
     "name": "stdout",
     "output_type": "stream",
     "text": [
      "              precision    recall  f1-score   support\n",
      "\n",
      "           0     1.0000    1.0000    1.0000        15\n",
      "           1     1.0000    1.0000    1.0000        15\n",
      "           2     1.0000    1.0000    1.0000         3\n",
      "\n",
      "    accuracy                         1.0000        33\n",
      "   macro avg     1.0000    1.0000    1.0000        33\n",
      "weighted avg     1.0000    1.0000    1.0000        33\n",
      "\n"
     ]
    }
   ],
   "source": [
    "plot_confusion_matrix(estimator=pipe_lr_balanced, X=X_test, y_true=y_test)  \n",
    "plt.show() \n",
    "print(classification_report(y_test, y_pred, digits=4))"
   ]
  },
  {
   "cell_type": "markdown",
   "metadata": {},
   "source": [
    "## Use SMOTE "
   ]
  },
  {
   "cell_type": "code",
   "execution_count": 133,
   "metadata": {},
   "outputs": [
    {
     "data": {
      "text/plain": [
       "0    35\n",
       "1    35\n",
       "2    35\n",
       "dtype: int64"
      ]
     },
     "execution_count": 133,
     "metadata": {},
     "output_type": "execute_result"
    }
   ],
   "source": [
    "from imblearn.over_sampling import SMOTE\n",
    "oversample = SMOTE()\n",
    "X_train_os, y_train_os = oversample.fit_resample(X_train, y_train)\n",
    "pd.Series(y_train_os).value_counts()"
   ]
  },
  {
   "cell_type": "code",
   "execution_count": 134,
   "metadata": {},
   "outputs": [],
   "source": [
    "pipe_lr.fit(X_train_os, y_train_os)\n",
    "y_pred = pipe_lr.predict(X_test)"
   ]
  },
  {
   "cell_type": "code",
   "execution_count": 135,
   "metadata": {},
   "outputs": [
    {
     "data": {
      "image/png": "[encoded data removed]",
      "text/plain": [
       "<Figure size 432x288 with 2 Axes>"
      ]
     },
     "metadata": {
      "needs_background": "light"
     },
     "output_type": "display_data"
    },
    {
     "name": "stdout",
     "output_type": "stream",
     "text": [
      "              precision    recall  f1-score   support\n",
      "\n",
      "           0     1.0000    1.0000    1.0000        15\n",
      "           1     1.0000    1.0000    1.0000        15\n",
      "           2     1.0000    1.0000    1.0000         3\n",
      "\n",
      "    accuracy                         1.0000        33\n",
      "   macro avg     1.0000    1.0000    1.0000        33\n",
      "weighted avg     1.0000    1.0000    1.0000        33\n",
      "\n"
     ]
    }
   ],
   "source": [
    "plot_confusion_matrix(estimator=pipe_lr, X=X_test, y_true=y_test)  \n",
    "plt.show() \n",
    "print(classification_report(y_test, y_pred, digits=4))"
   ]
  }
 ],
 "metadata": {
  "kernelspec": {
   "display_name": "Python 3.9.7 ('base')",
   "language": "python",
   "name": "python3"
  },
  "language_info": {
   "codemirror_mode": {
    "name": "ipython",
    "version": 3
   },
   "file_extension": ".py",
   "mimetype": "text/x-python",
   "name": "python",
   "nbconvert_exporter": "python",
   "pygments_lexer": "ipython3",
   "version": "3.9.7"
  },
  "orig_nbformat": 4,
  "vscode": {
   "interpreter": {
    "hash": "79088bb772545dc9740b3f6fd02f1fa74686ae15b783fc1c2abf8492adb1c7fb"
   }
  }
 },
 "nbformat": 4,
 "nbformat_minor": 2
}
