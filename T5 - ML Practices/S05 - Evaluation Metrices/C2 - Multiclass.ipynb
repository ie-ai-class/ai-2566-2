{
 "cells": [
  {
   "cell_type": "markdown",
   "metadata": {},
   "source": [
    "# Evaluation matrices (multiclass classification)\n"
   ]
  },
  {
   "cell_type": "markdown",
   "metadata": {},
   "source": [
    "## Setting up\n",
    "- Iris data\n",
    "- 3 classes\n",
    "- 2 features\n",
    "- Logistic regression"
   ]
  },
  {
   "cell_type": "code",
   "execution_count": null,
   "metadata": {},
   "outputs": [],
   "source": [
    "import numpy as np\n",
    "import pandas as pd\n",
    "from sklearn.datasets import load_iris\n",
    "from sklearn.model_selection import train_test_split\n",
    "from sklearn.linear_model import LogisticRegression\n",
    "from sklearn.pipeline import Pipeline\n",
    "from sklearn.preprocessing import StandardScaler\n",
    "\n",
    "# Iris data\n",
    "dataObj = load_iris()\n",
    "\n",
    "# X data (features)\n",
    "X = dataObj.data[:, [1, 2]]\n",
    "\n",
    "# y data\n",
    "y = dataObj.target\n",
    "\n",
    "print(np.unique(y))\n",
    "\n",
    "# Split data\n",
    "X_train, X_test, y_train, y_test = train_test_split(X, y, test_size=0.3, random_state=1, stratify=y)\n",
    "\n",
    "# Constructing a pipeline object\n",
    "pipe_lr = Pipeline([('scl', StandardScaler()),\n",
    "                    ('clf', LogisticRegression(random_state=0, C=1))])\n",
    "\n",
    "pipe_lr.fit(X_train, y_train)"
   ]
  },
  {
   "cell_type": "markdown",
   "metadata": {},
   "source": [
    "## Confusion matrix"
   ]
  },
  {
   "cell_type": "code",
   "execution_count": null,
   "metadata": {},
   "outputs": [],
   "source": [
    "from sklearn.metrics import confusion_matrix\n",
    "\n",
    "y_pred = pipe_lr.predict(X_test)\n",
    "confusion_matrix(y_true=y_test, y_pred=y_pred)"
   ]
  },
  {
   "cell_type": "code",
   "execution_count": null,
   "metadata": {},
   "outputs": [],
   "source": [
    "import matplotlib.pyplot as plt\n",
    "from sklearn.metrics import plot_confusion_matrix\n",
    "\n",
    "plot_confusion_matrix(estimator=pipe_lr, X=X_test, y_true=y_test)  \n",
    "plt.show()  "
   ]
  },
  {
   "cell_type": "markdown",
   "metadata": {},
   "source": [
    "Compute class-wise (default) multilabel confusion matrix to evaluate the accuracy of a classification, and output confusion matrices for each class or sample.\n",
    "\n",
    "Note that I used `np.flip` to reverse the order of the element to make the output consistent with what we used previously."
   ]
  },
  {
   "cell_type": "code",
   "execution_count": null,
   "metadata": {},
   "outputs": [],
   "source": [
    "import seaborn as sns\n",
    "from sklearn.metrics import multilabel_confusion_matrix\n",
    "\n",
    "#Multilabel confusion matrix\n",
    "matrices = multilabel_confusion_matrix(y_true=y_test, y_pred=y_pred)\n",
    "\n",
    "nc = np.unique(y).shape[0]\n",
    "fig, axs = plt.subplots(nc, 1, figsize=(5,nc*4))\n",
    "for idx, m in enumerate(matrices):\n",
    "    sns.heatmap(np.flip(m), annot=True, cmap='Blues', ax=axs[idx])\n",
    "    axs[idx].set_title(f'Class {idx}')\n"
   ]
  },
  {
   "cell_type": "markdown",
   "metadata": {},
   "source": [
    "## Accuracy, Precision, Recall, F1\n",
    "\n",
    "`Support` is the number of true instances for each label."
   ]
  },
  {
   "cell_type": "markdown",
   "metadata": {},
   "source": [
    "#### Summary using `classification_report`"
   ]
  },
  {
   "cell_type": "code",
   "execution_count": null,
   "metadata": {},
   "outputs": [],
   "source": [
    "from sklearn.metrics import classification_report\n",
    "print(classification_report(y_test, y_pred,  digits=4))"
   ]
  },
  {
   "cell_type": "markdown",
   "metadata": {},
   "source": [
    "#### Using `score` functions"
   ]
  },
  {
   "cell_type": "markdown",
   "metadata": {},
   "source": [
    "Calculate average"
   ]
  },
  {
   "cell_type": "code",
   "execution_count": null,
   "metadata": {},
   "outputs": [],
   "source": [
    "from sklearn.metrics import accuracy_score, precision_score, recall_score, f1_score\n",
    "\n",
    "# Accuracy\n",
    "ACC = accuracy_score(y_true=y_test, y_pred=y_pred)\n",
    "print(f\"Accuracy:{ACC:6.3f}\")\n",
    "print('-'*20)\n",
    "# Precision\n",
    "for average in ['macro', 'weighted', 'micro']:\n",
    "    PRE = precision_score(y_true=y_test, y_pred=y_pred, average=average)\n",
    "    print(f\"Precision ({average}):{PRE:6.3f}\")\n",
    "print('-'*20)\n",
    "# Recall\n",
    "for average in ['macro', 'weighted', 'micro']:\n",
    "    REC = recall_score(y_true=y_test, y_pred=y_pred, average=average)\n",
    "    print(f\"Recall ({average}):{REC:6.3f}\")\n",
    "print('-'*20)\n",
    "# F1\n",
    "for average in ['macro', 'weighted', 'micro']:\n",
    "    F1 = f1_score(y_true=y_test, y_pred=y_pred, average=average)\n",
    "    print(f\"F1 Score ({average}):{F1:6.3f}\")\n",
    "print('-'*20)"
   ]
  },
  {
   "cell_type": "markdown",
   "metadata": {},
   "source": [
    "Calculate classwise values"
   ]
  },
  {
   "cell_type": "code",
   "execution_count": null,
   "metadata": {},
   "outputs": [],
   "source": [
    "PRE = precision_score(y_true=y_test, y_pred=y_pred, average=None)\n",
    "REC = recall_score(y_true=y_test, y_pred=y_pred, average=None)\n",
    "F1 = f1_score(y_true=y_test, y_pred=y_pred, average=None)\n",
    "print(PRE, REC, F1)\n",
    "dft = pd.DataFrame( [PRE, REC, F1]).transpose()\n",
    "dft.columns=['precision', 'recall', 'f1']\n",
    "dft.index.names = ['class']\n",
    "dft"
   ]
  },
  {
   "cell_type": "markdown",
   "metadata": {},
   "source": [
    "Using `precision_recall_fscore_support` functions"
   ]
  },
  {
   "cell_type": "markdown",
   "metadata": {},
   "source": [
    "Calculate average"
   ]
  },
  {
   "cell_type": "code",
   "execution_count": null,
   "metadata": {},
   "outputs": [],
   "source": [
    "from sklearn.metrics import precision_recall_fscore_support\n",
    "\n",
    "arr = []\n",
    "for average in ['macro', 'weighted', 'micro']:\n",
    "    prfs = precision_recall_fscore_support(y_test, y_pred, average=average)\n",
    "    print(prfs)\n",
    "    data = {'average': average, 'precision': prfs[0], \"recall\": prfs[1], \"f1\": prfs[2] }\n",
    "    arr.append(data)\n",
    "\n",
    "dft = pd.DataFrame.from_records(arr, index='average')\n",
    "display(dft)"
   ]
  },
  {
   "cell_type": "markdown",
   "metadata": {},
   "source": [
    "Calculate classwise values"
   ]
  },
  {
   "cell_type": "code",
   "execution_count": null,
   "metadata": {},
   "outputs": [],
   "source": [
    "prfs = precision_recall_fscore_support(y_test, y_pred, average=None)\n",
    "dft = pd.DataFrame(prfs).transpose()\n",
    "dft.columns = ['precision', 'recall', 'f1', 'support']\n",
    "dft.index.names = ['class']\n",
    "display(dft)"
   ]
  },
  {
   "cell_type": "markdown",
   "metadata": {},
   "source": [
    "## Using precision in grid search"
   ]
  },
  {
   "cell_type": "code",
   "execution_count": null,
   "metadata": {},
   "outputs": [],
   "source": [
    "from sklearn.metrics import make_scorer\n",
    "\n",
    "# Making score\n",
    "scorer = make_scorer(precision_score, average='micro')"
   ]
  },
  {
   "cell_type": "code",
   "execution_count": null,
   "metadata": {},
   "outputs": [],
   "source": [
    "pipe_lr.get_params()"
   ]
  },
  {
   "cell_type": "code",
   "execution_count": null,
   "metadata": {},
   "outputs": [],
   "source": [
    "from sklearn.model_selection import GridSearchCV\n",
    "\n",
    "param_grid = { 'clf__C': [0.001, 0.01, 0.1, 1] }\n",
    "\n",
    "# Grid search. Note the \"scoring\" argument\n",
    "gs = GridSearchCV(estimator=pipe_lr,\n",
    "                  param_grid=param_grid,\n",
    "                  scoring=scorer,\n",
    "                  cv=10,\n",
    "                  n_jobs=-1)\n",
    "                  \n",
    "gs = gs.fit(X_train, y_train)\n",
    "print(gs.best_score_)\n",
    "print(gs.best_params_)"
   ]
  },
  {
   "cell_type": "code",
   "execution_count": null,
   "metadata": {},
   "outputs": [],
   "source": [
    "df = pd.DataFrame(gs.cv_results_)\n",
    "df = df.sort_values(by=['rank_test_score'])\n",
    "display(df)"
   ]
  }
 ],
 "metadata": {
  "kernelspec": {
   "display_name": "Python 3.9.7 ('base')",
   "language": "python",
   "name": "python3"
  },
  "language_info": {
   "codemirror_mode": {
    "name": "ipython",
    "version": 3
   },
   "file_extension": ".py",
   "mimetype": "text/x-python",
   "name": "python",
   "nbconvert_exporter": "python",
   "pygments_lexer": "ipython3",
   "version": "3.9.7"
  },
  "vscode": {
   "interpreter": {
    "hash": "79088bb772545dc9740b3f6fd02f1fa74686ae15b783fc1c2abf8492adb1c7fb"
   }
  }
 },
 "nbformat": 4,
 "nbformat_minor": 2
}
