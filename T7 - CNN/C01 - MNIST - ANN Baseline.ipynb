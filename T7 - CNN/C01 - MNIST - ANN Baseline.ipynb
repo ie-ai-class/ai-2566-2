{
 "cells": [
  {
   "cell_type": "markdown",
   "source": [
    "# MNIST Data (Reduced)\r\n",
    "- This is a dataset of 60,000 28x28 grayscale images of the 10 digits, along with a test set of 10,000 images.\r\n",
    "- https://www.tensorflow.org/api_docs/python/tf/keras/datasets/mnist/load_data"
   ],
   "metadata": {}
  },
  {
   "cell_type": "code",
   "execution_count": 1,
   "source": [
    "import tensorflow as tf\r\n",
    "import matplotlib.pyplot as plt\r\n",
    "import itertools \r\n",
    "import numpy as np"
   ],
   "outputs": [],
   "metadata": {
    "execution": {
     "iopub.execute_input": "2021-06-16T19:21:02.775749Z",
     "iopub.status.busy": "2021-06-16T19:21:02.775178Z",
     "iopub.status.idle": "2021-06-16T19:21:04.172552Z",
     "shell.execute_reply": "2021-06-16T19:21:04.172947Z"
    },
    "id": "0trJmd6DjqBZ"
   }
  },
  {
   "cell_type": "markdown",
   "source": [
    "## Data"
   ],
   "metadata": {}
  },
  {
   "cell_type": "code",
   "execution_count": 2,
   "source": [
    "mnist = tf.keras.datasets.mnist\r\n",
    "\r\n",
    "(X_train_, y_train), (X_test_, y_test) = mnist.load_data()\r\n",
    "X_train_, X_test_ = X_train_.astype(np.float32) / 255.0, X_test_.astype(np.float32)/ 255.0"
   ],
   "outputs": [],
   "metadata": {
    "execution": {
     "iopub.execute_input": "2021-06-16T19:21:04.177134Z",
     "iopub.status.busy": "2021-06-16T19:21:04.176533Z",
     "iopub.status.idle": "2021-06-16T19:21:04.584244Z",
     "shell.execute_reply": "2021-06-16T19:21:04.584639Z"
    },
    "id": "7FP5258xjs-v"
   }
  },
  {
   "cell_type": "code",
   "execution_count": 3,
   "source": [
    "print(X_train_.shape)\r\n",
    "print(X_test_.shape)\r\n",
    "print(y_train.shape)\r\n",
    "print(y_test.shape)"
   ],
   "outputs": [
    {
     "output_type": "stream",
     "name": "stdout",
     "text": [
      "(60000, 28, 28)\n",
      "(10000, 28, 28)\n",
      "(60000,)\n",
      "(10000,)\n"
     ]
    }
   ],
   "metadata": {}
  },
  {
   "cell_type": "code",
   "execution_count": 4,
   "source": [
    "# Reduce dimension size\r\n",
    "np.random.seed(0) \r\n",
    "\r\n",
    "REDUCE_DIM = 2000\r\n",
    "idx = np.random.permutation(REDUCE_DIM)\r\n",
    "\r\n",
    "X_train = X_train_[idx]\r\n",
    "y_train = y_train[idx]\r\n",
    "X_test = X_test_[idx]\r\n",
    "y_test = y_test[idx]\r\n",
    "\r\n",
    "print(X_train.shape)\r\n",
    "print(X_test.shape)\r\n",
    "print(y_train.shape)\r\n",
    "print(y_test.shape)"
   ],
   "outputs": [
    {
     "output_type": "stream",
     "name": "stdout",
     "text": [
      "(2000, 28, 28)\n",
      "(2000, 28, 28)\n",
      "(2000,)\n",
      "(2000,)\n"
     ]
    }
   ],
   "metadata": {}
  },
  {
   "cell_type": "markdown",
   "source": [
    "## Model building\r\n",
    "- Build the `tf.keras.Sequential` model by stacking layers. Choose an optimizer and loss function for training:"
   ],
   "metadata": {
    "id": "BPZ68wASog_I"
   }
  },
  {
   "cell_type": "code",
   "execution_count": 5,
   "source": [
    "tf.keras.backend.clear_session()\r\n",
    "\r\n",
    "model = tf.keras.models.Sequential([\r\n",
    "  tf.keras.layers.Input(shape=(28,28)),\r\n",
    "  tf.keras.layers.Flatten(),\r\n",
    "  tf.keras.layers.Dense(128, activation='relu', name='hidden1'),\r\n",
    "  tf.keras.layers.Dense(10, activation='softmax', name='output')\r\n",
    "])"
   ],
   "outputs": [],
   "metadata": {
    "execution": {
     "iopub.execute_input": "2021-06-16T19:21:04.589243Z",
     "iopub.status.busy": "2021-06-16T19:21:04.588688Z",
     "iopub.status.idle": "2021-06-16T19:21:06.138281Z",
     "shell.execute_reply": "2021-06-16T19:21:06.138649Z"
    },
    "id": "h3IKyzTCDNGo"
   }
  },
  {
   "cell_type": "markdown",
   "source": [
    "## Compile model\r\n",
    "- Prepare for fitting"
   ],
   "metadata": {}
  },
  {
   "cell_type": "code",
   "execution_count": 6,
   "source": [
    "model.compile(\r\n",
    "        optimizer='adam',\r\n",
    "        loss='sparse_categorical_crossentropy',\r\n",
    "        metrics=['accuracy'])"
   ],
   "outputs": [],
   "metadata": {
    "execution": {
     "iopub.execute_input": "2021-06-16T19:21:06.569247Z",
     "iopub.status.busy": "2021-06-16T19:21:06.568392Z",
     "iopub.status.idle": "2021-06-16T19:21:06.573819Z",
     "shell.execute_reply": "2021-06-16T19:21:06.574146Z"
    },
    "id": "9foNKHzTD2Vo"
   }
  },
  {
   "cell_type": "code",
   "execution_count": 7,
   "source": [
    "model.summary()"
   ],
   "outputs": [
    {
     "output_type": "stream",
     "name": "stdout",
     "text": [
      "Model: \"sequential\"\n",
      "_________________________________________________________________\n",
      "Layer (type)                 Output Shape              Param #   \n",
      "=================================================================\n",
      "flatten (Flatten)            (None, 784)               0         \n",
      "_________________________________________________________________\n",
      "hidden1 (Dense)              (None, 128)               100480    \n",
      "_________________________________________________________________\n",
      "output (Dense)               (None, 10)                1290      \n",
      "=================================================================\n",
      "Total params: 101,770\n",
      "Trainable params: 101,770\n",
      "Non-trainable params: 0\n",
      "_________________________________________________________________\n"
     ]
    }
   ],
   "metadata": {}
  },
  {
   "cell_type": "markdown",
   "source": [
    "## Training (Fitting)\r\n",
    "- The `Model.fit` method adjusts the model parameters to minimize the loss: "
   ],
   "metadata": {}
  },
  {
   "cell_type": "code",
   "execution_count": 8,
   "source": [
    "tf_fit = model.fit(X_train, y_train, validation_split=0.1, epochs=20)"
   ],
   "outputs": [
    {
     "output_type": "stream",
     "name": "stdout",
     "text": [
      "Epoch 1/20\n",
      "57/57 [==============================] - 0s 3ms/step - loss: 1.1221 - accuracy: 0.7094 - val_loss: 0.6075 - val_accuracy: 0.8400\n",
      "Epoch 2/20\n",
      "57/57 [==============================] - 0s 1ms/step - loss: 0.4443 - accuracy: 0.8778 - val_loss: 0.4371 - val_accuracy: 0.8950\n",
      "Epoch 3/20\n",
      "57/57 [==============================] - 0s 1ms/step - loss: 0.3136 - accuracy: 0.9194 - val_loss: 0.3663 - val_accuracy: 0.9050\n",
      "Epoch 4/20\n",
      "57/57 [==============================] - 0s 1ms/step - loss: 0.2436 - accuracy: 0.9394 - val_loss: 0.3485 - val_accuracy: 0.9050\n",
      "Epoch 5/20\n",
      "57/57 [==============================] - 0s 983us/step - loss: 0.1958 - accuracy: 0.9544 - val_loss: 0.3490 - val_accuracy: 0.9100\n",
      "Epoch 6/20\n",
      "57/57 [==============================] - 0s 807us/step - loss: 0.1640 - accuracy: 0.9628 - val_loss: 0.3425 - val_accuracy: 0.9050\n",
      "Epoch 7/20\n",
      "57/57 [==============================] - 0s 860us/step - loss: 0.1248 - accuracy: 0.9750 - val_loss: 0.3382 - val_accuracy: 0.9200\n",
      "Epoch 8/20\n",
      "57/57 [==============================] - 0s 825us/step - loss: 0.1047 - accuracy: 0.9828 - val_loss: 0.3257 - val_accuracy: 0.9150\n",
      "Epoch 9/20\n",
      "57/57 [==============================] - 0s 842us/step - loss: 0.0884 - accuracy: 0.9861 - val_loss: 0.3334 - val_accuracy: 0.9250\n",
      "Epoch 10/20\n",
      "57/57 [==============================] - 0s 842us/step - loss: 0.0729 - accuracy: 0.9922 - val_loss: 0.3242 - val_accuracy: 0.9150\n",
      "Epoch 11/20\n",
      "57/57 [==============================] - 0s 825us/step - loss: 0.0614 - accuracy: 0.9928 - val_loss: 0.3209 - val_accuracy: 0.9200\n",
      "Epoch 12/20\n",
      "57/57 [==============================] - 0s 825us/step - loss: 0.0509 - accuracy: 0.9956 - val_loss: 0.3251 - val_accuracy: 0.9250\n",
      "Epoch 13/20\n",
      "57/57 [==============================] - 0s 842us/step - loss: 0.0431 - accuracy: 0.9978 - val_loss: 0.3198 - val_accuracy: 0.9200\n",
      "Epoch 14/20\n",
      "57/57 [==============================] - 0s 842us/step - loss: 0.0364 - accuracy: 0.9978 - val_loss: 0.3176 - val_accuracy: 0.9200\n",
      "Epoch 15/20\n",
      "57/57 [==============================] - 0s 842us/step - loss: 0.0305 - accuracy: 0.9983 - val_loss: 0.3213 - val_accuracy: 0.9250\n",
      "Epoch 16/20\n",
      "57/57 [==============================] - 0s 825us/step - loss: 0.0271 - accuracy: 0.9994 - val_loss: 0.3239 - val_accuracy: 0.9200\n",
      "Epoch 17/20\n",
      "57/57 [==============================] - 0s 825us/step - loss: 0.0222 - accuracy: 0.9994 - val_loss: 0.3288 - val_accuracy: 0.9150\n",
      "Epoch 18/20\n",
      "57/57 [==============================] - 0s 807us/step - loss: 0.0194 - accuracy: 0.9994 - val_loss: 0.3310 - val_accuracy: 0.9200\n",
      "Epoch 19/20\n",
      "57/57 [==============================] - 0s 807us/step - loss: 0.0167 - accuracy: 1.0000 - val_loss: 0.3260 - val_accuracy: 0.9200\n",
      "Epoch 20/20\n",
      "57/57 [==============================] - 0s 807us/step - loss: 0.0147 - accuracy: 1.0000 - val_loss: 0.3309 - val_accuracy: 0.9250\n"
     ]
    }
   ],
   "metadata": {
    "execution": {
     "iopub.execute_input": "2021-06-16T19:21:06.578052Z",
     "iopub.status.busy": "2021-06-16T19:21:06.577211Z",
     "iopub.status.idle": "2021-06-16T19:21:20.744057Z",
     "shell.execute_reply": "2021-06-16T19:21:20.744401Z"
    },
    "id": "y7suUbJXVLqP"
   }
  },
  {
   "cell_type": "code",
   "execution_count": 9,
   "source": [
    "for key, val in tf_fit.history.items():\r\n",
    "    print( f'{key:20s}: {[ f\"{i:3.2f}\" for i in val]}')\r\n"
   ],
   "outputs": [
    {
     "output_type": "stream",
     "name": "stdout",
     "text": [
      "loss                : ['1.12', '0.44', '0.31', '0.24', '0.20', '0.16', '0.12', '0.10', '0.09', '0.07', '0.06', '0.05', '0.04', '0.04', '0.03', '0.03', '0.02', '0.02', '0.02', '0.01']\n",
      "accuracy            : ['0.71', '0.88', '0.92', '0.94', '0.95', '0.96', '0.98', '0.98', '0.99', '0.99', '0.99', '1.00', '1.00', '1.00', '1.00', '1.00', '1.00', '1.00', '1.00', '1.00']\n",
      "val_loss            : ['0.61', '0.44', '0.37', '0.35', '0.35', '0.34', '0.34', '0.33', '0.33', '0.32', '0.32', '0.33', '0.32', '0.32', '0.32', '0.32', '0.33', '0.33', '0.33', '0.33']\n",
      "val_accuracy        : ['0.84', '0.89', '0.90', '0.90', '0.91', '0.90', '0.92', '0.92', '0.93', '0.92', '0.92', '0.93', '0.92', '0.92', '0.93', '0.92', '0.92', '0.92', '0.92', '0.93']\n"
     ]
    }
   ],
   "metadata": {}
  },
  {
   "cell_type": "code",
   "execution_count": 10,
   "source": [
    "hist = tf_fit.history\r\n",
    "\r\n",
    "fig = plt.figure(figsize=(12, 5))\r\n",
    "ax = fig.add_subplot(1, 2, 1)\r\n",
    "ax.plot(hist['loss'], lw=3)\r\n",
    "ax.plot(hist['val_loss'], lw=3)\r\n",
    "ax.set_title('Training loss', size=15)\r\n",
    "ax.set_xlabel('Epoch', size=15)\r\n",
    "ax.tick_params(axis='both', which='major', labelsize=15)\r\n",
    "ax.legend(['train','val'])\r\n",
    "\r\n",
    "ax = fig.add_subplot(1, 2, 2)\r\n",
    "ax.plot(hist['accuracy'], lw=3)\r\n",
    "ax.plot(hist['val_accuracy'], lw=3)\r\n",
    "ax.set_title('Training accuracy', size=15)\r\n",
    "ax.set_xlabel('Epoch', size=15)\r\n",
    "ax.tick_params(axis='both', which='major', labelsize=15)\r\n",
    "plt.tight_layout()\r\n",
    "ax.legend(['train','val'])\r\n",
    "\r\n",
    "#plt.savefig('mnist1.pdf')\r\n",
    "\r\n",
    "plt.show()"
   ],
   "outputs": [
    {
     "output_type": "display_data",
     "data": {
      "image/png": "[encoded data removed]",
      "text/plain": [
       "<Figure size 864x360 with 2 Axes>"
      ]
     },
     "metadata": {
      "needs_background": "light"
     }
    }
   ],
   "metadata": {}
  },
  {
   "cell_type": "markdown",
   "source": [
    "## Evaluation\r\n",
    "- The `Model.evaluate` method checks the models performance."
   ],
   "metadata": {}
  },
  {
   "cell_type": "code",
   "execution_count": 11,
   "source": [
    "model.evaluate(X_test,  y_test)"
   ],
   "outputs": [
    {
     "output_type": "stream",
     "name": "stdout",
     "text": [
      "63/63 [==============================] - 0s 365us/step - loss: 0.4578 - accuracy: 0.8710\n"
     ]
    },
    {
     "output_type": "execute_result",
     "data": {
      "text/plain": [
       "[0.45777085423469543, 0.8709999918937683]"
      ]
     },
     "metadata": {},
     "execution_count": 11
    }
   ],
   "metadata": {
    "execution": {
     "iopub.execute_input": "2021-06-16T19:21:20.748560Z",
     "iopub.status.busy": "2021-06-16T19:21:20.747995Z",
     "iopub.status.idle": "2021-06-16T19:21:21.231885Z",
     "shell.execute_reply": "2021-06-16T19:21:21.231429Z"
    },
    "id": "F7dTAzgHDUh7"
   }
  },
  {
   "cell_type": "code",
   "execution_count": 12,
   "source": [
    "y_hat = model(X_test)\r\n",
    "print(y_hat.shape)\r\n",
    "print(y_hat.numpy()[:2])"
   ],
   "outputs": [
    {
     "output_type": "stream",
     "name": "stdout",
     "text": [
      "(2000, 10)\n",
      "[[1.6364096e-07 3.8740684e-08 5.5567747e-05 2.5931846e-03 9.8616552e-01\n",
      "  2.0649759e-08 3.8300425e-09 5.9444035e-05 2.1615639e-08 1.1126015e-02]\n",
      " [8.5461215e-06 1.1063927e-08 6.4648042e-09 1.1502938e-05 1.9725952e-08\n",
      "  9.9991655e-01 7.7807893e-10 5.0394860e-08 5.3634387e-05 9.6543044e-06]]\n"
     ]
    }
   ],
   "metadata": {}
  },
  {
   "cell_type": "code",
   "execution_count": 13,
   "source": [
    "x_ticklabel = [i + 1 for i in range(10)]\r\n",
    "fig, axes = plt.subplots(1,2, figsize=(10,5))\r\n",
    "yp = y_hat.numpy()[0]\r\n",
    "xp = list(range(yp.shape[0]))\r\n",
    "axes[0].bar(xp, yp)\r\n",
    "axes[0].set_title('Softmax Values')\r\n",
    "axes[0].set_xticks(x_ticklabel)\r\n",
    "axes[0].set_xticklabels(x_ticklabel)\r\n",
    "axes[0].set_xlim([1,10])\r\n",
    "axes[1].imshow(X_test[0], cmap='gray')\r\n",
    "plt.show()"
   ],
   "outputs": [
    {
     "output_type": "display_data",
     "data": {
      "image/png": "[encoded data removed]",
      "text/plain": [
       "<Figure size 720x360 with 2 Axes>"
      ]
     },
     "metadata": {
      "needs_background": "light"
     }
    }
   ],
   "metadata": {}
  },
  {
   "cell_type": "code",
   "execution_count": 14,
   "source": [
    "# Find misclassification\r\n",
    "y_pred_tf = model(X_test)\r\n",
    "y_pred_tf.numpy().shape\r\n",
    "\r\n",
    "y_pred = tf.math.argmax(y_pred_tf,axis=1).numpy()\r\n",
    "print(y_pred.shape)\r\n",
    "print(y_test.shape)\r\n",
    "\r\n",
    "loc = y_pred != y_test\r\n",
    "print(f'Missclassification = {loc.sum()}')"
   ],
   "outputs": [
    {
     "output_type": "stream",
     "name": "stdout",
     "text": [
      "(2000,)\n",
      "(2000,)\n",
      "Missclassification = 258\n"
     ]
    }
   ],
   "metadata": {}
  },
  {
   "cell_type": "code",
   "execution_count": 15,
   "source": [
    "fig, axes2D = plt.subplots(3,5, figsize=(12,8))\r\n",
    "axes = list(itertools.chain.from_iterable(axes2D)) # Flatten 2D list\r\n",
    "X_test_miss = X_test[loc]\r\n",
    "y_test_miss = y_test[loc]\r\n",
    "y_pred_miss = y_pred[loc]\r\n",
    "for idx, ax in enumerate(axes):\r\n",
    "    ax.imshow(X_test_miss[idx], cmap='gray')\r\n",
    "    ax.set_title(f'True={y_test_miss[idx]}, Pred={y_pred_miss[idx]}')\r\n",
    "fig.tight_layout()\r\n",
    "plt.show()"
   ],
   "outputs": [
    {
     "output_type": "display_data",
     "data": {
      "image/png": "[encoded data removed]",
      "text/plain": [
       "<Figure size 864x576 with 15 Axes>"
      ]
     },
     "metadata": {
      "needs_background": "light"
     }
    }
   ],
   "metadata": {}
  }
 ],
 "metadata": {
  "colab": {
   "collapsed_sections": [
    "rX8mhOLljYeM"
   ],
   "name": "beginner.ipynb",
   "toc_visible": true
  },
  "kernelspec": {
   "name": "python3",
   "display_name": "Python 3.8.0 64-bit ('tf': conda)"
  },
  "language_info": {
   "codemirror_mode": {
    "name": "ipython",
    "version": 3
   },
   "file_extension": ".py",
   "mimetype": "text/x-python",
   "name": "python",
   "nbconvert_exporter": "python",
   "pygments_lexer": "ipython3",
   "version": "3.8.0"
  },
  "interpreter": {
   "hash": "b4a387497f54fd22d04ab06f3cac2b317ccdf5aa3fbc31422dd91bb954740c85"
  }
 },
 "nbformat": 4,
 "nbformat_minor": 2
}